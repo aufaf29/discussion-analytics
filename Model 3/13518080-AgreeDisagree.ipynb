{
 "cells": [
  {
   "cell_type": "markdown",
   "id": "0d0d4ff5",
   "metadata": {
    "papermill": {
     "duration": 0.03623,
     "end_time": "2021-11-16T22:18:08.666920",
     "exception": false,
     "start_time": "2021-11-16T22:18:08.630690",
     "status": "completed"
    },
    "tags": []
   },
   "source": [
    "Link Kaggle\n",
    "https://www.kaggle.com/bambanghpba/nlp-agree-disagree/"
   ]
  },
  {
   "cell_type": "markdown",
   "id": "4c9f6700",
   "metadata": {
    "papermill": {
     "duration": 0.0333,
     "end_time": "2021-11-16T22:18:08.735432",
     "exception": false,
     "start_time": "2021-11-16T22:18:08.702132",
     "status": "completed"
    },
    "tags": []
   },
   "source": [
    "## Import Library"
   ]
  },
  {
   "cell_type": "code",
   "execution_count": 1,
   "id": "d34f0336",
   "metadata": {
    "execution": {
     "iopub.execute_input": "2021-11-16T22:18:08.819409Z",
     "iopub.status.busy": "2021-11-16T22:18:08.818492Z",
     "iopub.status.idle": "2021-11-16T22:18:14.963803Z",
     "shell.execute_reply": "2021-11-16T22:18:14.964347Z",
     "shell.execute_reply.started": "2021-11-16T20:42:10.446728Z"
    },
    "papermill": {
     "duration": 6.196206,
     "end_time": "2021-11-16T22:18:14.964617",
     "exception": false,
     "start_time": "2021-11-16T22:18:08.768411",
     "status": "completed"
    },
    "tags": []
   },
   "outputs": [
    {
     "name": "stdout",
     "output_type": "stream",
     "text": [
      "[nltk_data] Downloading package wordnet to /usr/share/nltk_data...\n",
      "[nltk_data]   Package wordnet is already up-to-date!\n",
      "[nltk_data] Downloading package averaged_perceptron_tagger to\n",
      "[nltk_data]     /usr/share/nltk_data...\n",
      "[nltk_data]   Package averaged_perceptron_tagger is already up-to-\n",
      "[nltk_data]       date!\n"
     ]
    }
   ],
   "source": [
    "import re\n",
    "import nltk\n",
    "import string\n",
    "import codecs\n",
    "import warnings\n",
    "import numpy as np\n",
    "import pandas as pd\n",
    "import fasttext.util\n",
    "import seaborn as sns\n",
    "import tensorflow as tf\n",
    "import matplotlib.pyplot as plt\n",
    "\n",
    "from sklearn.metrics import classification_report, confusion_matrix\n",
    "\n",
    "from tensorflow import keras\n",
    "from tensorflow.keras import layers, models, initializers, regularizers, constraints, optimizers\n",
    "from tensorflow.keras.models import Sequential\n",
    "from tensorflow.keras.layers import Input, Dense, Conv1D, Embedding, Dropout, GlobalMaxPool1D, SpatialDropout1D, BatchNormalization, Bidirectional, LSTM, GlobalMaxPooling1D, MaxPooling1D, Flatten, GRU, Softmax\n",
    "from tensorflow.keras.preprocessing.text import Tokenizer\n",
    "from tensorflow.keras.preprocessing.sequence import pad_sequences\n",
    "from tensorflow.keras.preprocessing import text, sequence\n",
    "\n",
    "from tqdm import tqdm\n",
    "from gensim.models.word2vec import Word2Vec\n",
    "\n",
    "from nltk.corpus import stopwords\n",
    "from nltk.corpus import wordnet\n",
    "from nltk.tokenize import word_tokenize \n",
    "from nltk.stem import WordNetLemmatizer \n",
    "\n",
    "nltk.download('wordnet')\n",
    "nltk.download('averaged_perceptron_tagger')\n",
    "\n",
    "warnings.simplefilter(action=\"ignore\", category=FutureWarning)"
   ]
  },
  {
   "cell_type": "markdown",
   "id": "79f1c778",
   "metadata": {
    "papermill": {
     "duration": 0.033768,
     "end_time": "2021-11-16T22:18:15.032150",
     "exception": false,
     "start_time": "2021-11-16T22:18:14.998382",
     "status": "completed"
    },
    "tags": []
   },
   "source": [
    "## Preparation\n",
    "\n",
    "Menyiapkan fungsi-fungsi yang dibutuhkan untuk melakukan pemrosesan seperti pembangkit index embedding, matriks embedding, hingga preprocessing teks. "
   ]
  },
  {
   "cell_type": "code",
   "execution_count": 2,
   "id": "c8bc5c3c",
   "metadata": {
    "execution": {
     "iopub.execute_input": "2021-11-16T22:18:15.116409Z",
     "iopub.status.busy": "2021-11-16T22:18:15.110878Z",
     "iopub.status.idle": "2021-11-16T22:18:15.118607Z",
     "shell.execute_reply": "2021-11-16T22:18:15.118164Z",
     "shell.execute_reply.started": "2021-11-16T20:42:15.931367Z"
    },
    "papermill": {
     "duration": 0.053803,
     "end_time": "2021-11-16T22:18:15.118719",
     "exception": false,
     "start_time": "2021-11-16T22:18:15.064916",
     "status": "completed"
    },
    "tags": []
   },
   "outputs": [],
   "source": [
    "lemmatizer = WordNetLemmatizer()\n",
    "\n",
    "def fasttext_embedding():\n",
    "    \n",
    "    dictionary = {}\n",
    "    file = codecs.open('../input/fast-text-embeddings-without-subwords/crawl-300d-2M.vec/crawl-300d-2M.vec', encoding='utf-8')\n",
    "    for line in tqdm(file, desc=\"Load Vector Model \"):\n",
    "        values = line.rstrip().rsplit(' ')\n",
    "        word, coefs = values[0], np.asarray(values[1:], dtype='float32')\n",
    "        dictionary[word] = coefs\n",
    "    file.close()\n",
    "    return dictionary\n",
    "\n",
    "def embedding_matrix(tokenizer, embeddings_index, size):\n",
    "    embedding_matrix = np.zeros((len(tokenizer.word_index)+1, size))\n",
    "\n",
    "    for word, i in tokenizer.word_index.items():\n",
    "        embedding_vector = embeddings_index.get(word)\n",
    "        if embedding_vector is not None:\n",
    "            embedding_matrix[i] = embedding_vector\n",
    "    return embedding_matrix\n",
    "\n",
    "def longest_sentence(sentences):\n",
    "    max = 0\n",
    "    idx = 0\n",
    "    for i in range(len(sentences)):\n",
    "        words = sentences[i].split(' ')\n",
    "        if(len(words) > max):\n",
    "            max = len(words)\n",
    "            idx = i\n",
    "    return max, idx\n",
    "\n",
    "def label_encoding(label):\n",
    "    if(label == 'agreement'):\n",
    "        return 0\n",
    "    elif(label == 'disagreement'):\n",
    "        return 1\n",
    "    else:\n",
    "        return 2\n",
    "    \n",
    "def fact_label_encoding(label):\n",
    "    if(label == 'feeling-based'):\n",
    "        return 0\n",
    "    elif(label == 'fact-based'):\n",
    "        return 1\n",
    "    else:\n",
    "        return 2\n",
    "\n",
    "def agreement_label_encoding(label):\n",
    "    if(label == 'disagreement'):\n",
    "        return 0\n",
    "    elif(label == 'agreement'):\n",
    "        return 1\n",
    "    else:\n",
    "        return 2\n",
    "    \n",
    "def nltk_tag_to_wordnet_tag(nltk_tag):\n",
    "    if nltk_tag.startswith('J'):\n",
    "        return wordnet.ADJ\n",
    "    elif nltk_tag.startswith('V'):\n",
    "        return wordnet.VERB\n",
    "    elif nltk_tag.startswith('N'):\n",
    "        return wordnet.NOUN\n",
    "    elif nltk_tag.startswith('R'):\n",
    "        return wordnet.ADV\n",
    "    else:          \n",
    "        return None\n",
    "    \n",
    "def lemmatize_sentence(sentence):\n",
    "\n",
    "    nltk_tagged = nltk.pos_tag(nltk.word_tokenize(sentence))  \n",
    "    wordnet_tagged = map(lambda x: (x[0], nltk_tag_to_wordnet_tag(x[1])), nltk_tagged)\n",
    "    \n",
    "    lemmatized_sentence = []\n",
    "    for word, tag in wordnet_tagged:\n",
    "        if tag is None:\n",
    "            lemmatized_sentence.append(word)\n",
    "        else:        \n",
    "            lemmatized_sentence.append(lemmatizer.lemmatize(word, tag))\n",
    "    return \" \".join(lemmatized_sentence)\n",
    "\n",
    "def sentence_pos_tag(sentence):\n",
    "    text = word_tokenize(sentence)\n",
    "    pos_tag = nltk.pos_tag(text)\n",
    "    pos_tag_res = ''\n",
    "    for i in range(len(pos_tag)):\n",
    "        pos_tag_res += pos_tag[i][1]\n",
    "        pos_tag_res += ' ' if i != len(sentence)-1 else '' \n",
    "    return pos_tag_res\n",
    "\n",
    "def preprocessing(text):\n",
    "    text = text.lower()\n",
    "    text = text.strip()\n",
    "    text = re.sub(r\" \\d+ \", \" \", text)\n",
    "    text = text.translate(str.maketrans(\"\", \"\", string.punctuation))\n",
    "    text = re.sub(r\"[^a-z ]\", \"\", text)\n",
    "    text = re.sub(r\"  \", \" \", text)\n",
    "    text = lemmatize_sentence(text)\n",
    "    return text"
   ]
  },
  {
   "cell_type": "code",
   "execution_count": 3,
   "id": "e46ecad4",
   "metadata": {
    "execution": {
     "iopub.execute_input": "2021-11-16T22:18:15.189694Z",
     "iopub.status.busy": "2021-11-16T22:18:15.188918Z",
     "iopub.status.idle": "2021-11-16T22:18:15.386240Z",
     "shell.execute_reply": "2021-11-16T22:18:15.386751Z",
     "shell.execute_reply.started": "2021-11-16T20:42:15.955699Z"
    },
    "papermill": {
     "duration": 0.235236,
     "end_time": "2021-11-16T22:18:15.386901",
     "exception": false,
     "start_time": "2021-11-16T22:18:15.151665",
     "status": "completed"
    },
    "tags": []
   },
   "outputs": [
    {
     "name": "stdout",
     "output_type": "stream",
     "text": [
      "                                     presented_quote  \\\n",
      "0  i get a good idea however they do tend to stay...   \n",
      "1  be sure to give your gun a big fat kiss tonigh...   \n",
      "2  one of the big argument against gun control be...   \n",
      "3  first of all compare the b specimen in your fo...   \n",
      "4  there be some incedents that be beyond your co...   \n",
      "\n",
      "                                  presented_response   emotion_fact  \\\n",
      "0  by your own admission you havent hang out with...  feeling-based   \n",
      "1  actually they didnt the whole tragedy be cause...         unsure   \n",
      "2  not quite to be more correct regard government...     fact-based   \n",
      "3  at your servicecomparisoni couldve just circle...         unsure   \n",
      "4                                           well yes  feeling-based   \n",
      "\n",
      "  disagree_agree plain_sarcasm  \\\n",
      "0   disagreement        unsure   \n",
      "1   disagreement        unsure   \n",
      "2   disagreement    no_sarcasm   \n",
      "3   disagreement        unsure   \n",
      "4      agreement    no_sarcasm   \n",
      "\n",
      "                                 presented_quote_tag  \\\n",
      "0    NN VBP DT JJ NN RB PRP VBP VB TO VB IN PRP$ JJ    \n",
      "1  VB JJ TO VB PRP$ NN DT JJ NN NN NN IN PRP VBP ...   \n",
      "2  CD IN DT JJ NN IN NN NN VB IN IN DT NN VB RB J...   \n",
      "3  RB IN DT VBP DT NN NNS IN PRP$ NN NN TO DT JJ ...   \n",
      "4  RB VB DT NNS WDT VB IN PRP$ NN IN PRP VBP DT N...   \n",
      "\n",
      "                              presented_response_tag  \n",
      "0  IN PRP$ JJ NN PRP VBP VB RP IN NN IN DT NN CC ...  \n",
      "1  RB PRP VBP DT JJ NN VB VBN IN NN NN IN RB CD N...  \n",
      "2  RB RB TO VB RBR JJ JJ NN CC VB DT NN TO VB NN ...  \n",
      "3  IN PRP$ JJ NN RB VB DT JJ NN CC DT VBP PRP JJ ...  \n",
      "4                                             RB RB   \n"
     ]
    }
   ],
   "source": [
    "import pickle\n",
    "\n",
    "file = open(\"../input/quote-response/quotexresponseprocessed.pkl\", \"rb\")\n",
    "df = pickle.load(file)\n",
    "file.close()\n",
    "print(df.head())"
   ]
  },
  {
   "cell_type": "code",
   "execution_count": 4,
   "id": "690282cb",
   "metadata": {
    "execution": {
     "iopub.execute_input": "2021-11-16T22:18:15.460213Z",
     "iopub.status.busy": "2021-11-16T22:18:15.459382Z",
     "iopub.status.idle": "2021-11-16T22:18:15.479944Z",
     "shell.execute_reply": "2021-11-16T22:18:15.480396Z",
     "shell.execute_reply.started": "2021-11-16T20:42:16.192821Z"
    },
    "papermill": {
     "duration": 0.060688,
     "end_time": "2021-11-16T22:18:15.480533",
     "exception": false,
     "start_time": "2021-11-16T22:18:15.419845",
     "status": "completed"
    },
    "tags": []
   },
   "outputs": [
    {
     "data": {
      "text/html": [
       "<div>\n",
       "<style scoped>\n",
       "    .dataframe tbody tr th:only-of-type {\n",
       "        vertical-align: middle;\n",
       "    }\n",
       "\n",
       "    .dataframe tbody tr th {\n",
       "        vertical-align: top;\n",
       "    }\n",
       "\n",
       "    .dataframe thead th {\n",
       "        text-align: right;\n",
       "    }\n",
       "</style>\n",
       "<table border=\"1\" class=\"dataframe\">\n",
       "  <thead>\n",
       "    <tr style=\"text-align: right;\">\n",
       "      <th></th>\n",
       "      <th>presented_quote</th>\n",
       "      <th>presented_response</th>\n",
       "      <th>disagree_agree</th>\n",
       "      <th>presented_response_tag</th>\n",
       "      <th>emotion_fact</th>\n",
       "    </tr>\n",
       "  </thead>\n",
       "  <tbody>\n",
       "    <tr>\n",
       "      <th>0</th>\n",
       "      <td>i get a good idea however they do tend to stay...</td>\n",
       "      <td>by your own admission you havent hang out with...</td>\n",
       "      <td>disagreement</td>\n",
       "      <td>IN PRP$ JJ NN PRP VBP VB RP IN NN IN DT NN CC ...</td>\n",
       "      <td>feeling-based</td>\n",
       "    </tr>\n",
       "    <tr>\n",
       "      <th>2</th>\n",
       "      <td>one of the big argument against gun control be...</td>\n",
       "      <td>not quite to be more correct regard government...</td>\n",
       "      <td>disagreement</td>\n",
       "      <td>RB RB TO VB RBR JJ JJ NN CC VB DT NN TO VB NN ...</td>\n",
       "      <td>fact-based</td>\n",
       "    </tr>\n",
       "    <tr>\n",
       "      <th>4</th>\n",
       "      <td>there be some incedents that be beyond your co...</td>\n",
       "      <td>well yes</td>\n",
       "      <td>agreement</td>\n",
       "      <td>RB RB</td>\n",
       "      <td>feeling-based</td>\n",
       "    </tr>\n",
       "    <tr>\n",
       "      <th>6</th>\n",
       "      <td>legality do not matter religous implication do...</td>\n",
       "      <td>exact to the point amp beautiful</td>\n",
       "      <td>agreement</td>\n",
       "      <td>NN TO DT NN NN NN</td>\n",
       "      <td>feeling-based</td>\n",
       "    </tr>\n",
       "    <tr>\n",
       "      <th>8</th>\n",
       "      <td>once again you seem to support the killing of ...</td>\n",
       "      <td>base on the idea that people be dispensible pa...</td>\n",
       "      <td>unsure</td>\n",
       "      <td>NN IN DT NN WDT NNS VB JJ RB IN PRP VBP PRP$ V...</td>\n",
       "      <td>feeling-based</td>\n",
       "    </tr>\n",
       "    <tr>\n",
       "      <th>...</th>\n",
       "      <td>...</td>\n",
       "      <td>...</td>\n",
       "      <td>...</td>\n",
       "      <td>...</td>\n",
       "      <td>...</td>\n",
       "    </tr>\n",
       "    <tr>\n",
       "      <th>9977</th>\n",
       "      <td>the id movement form of id state that there be...</td>\n",
       "      <td>that of course be the logical fallacy know as ...</td>\n",
       "      <td>disagreement</td>\n",
       "      <td>DT IN NN VB DT JJ NN VBP IN JJ NN DT NN PRP VB...</td>\n",
       "      <td>fact-based</td>\n",
       "    </tr>\n",
       "    <tr>\n",
       "      <th>9978</th>\n",
       "      <td>for me it would therefore have make no differe...</td>\n",
       "      <td>it logically follow from the moral foundation ...</td>\n",
       "      <td>agreement</td>\n",
       "      <td>PRP RB VBP IN DT JJ NN VBN RP CC PRP VBP TO JJ...</td>\n",
       "      <td>feeling-based</td>\n",
       "    </tr>\n",
       "    <tr>\n",
       "      <th>9979</th>\n",
       "      <td>good thing this argument have never be doneoh ...</td>\n",
       "      <td>and teen sex doesnt by the very nature of its ...</td>\n",
       "      <td>unsure</td>\n",
       "      <td>CC JJ NN NN IN DT JJ NN IN PRP$ NN NN IN NN DT...</td>\n",
       "      <td>feeling-based</td>\n",
       "    </tr>\n",
       "    <tr>\n",
       "      <th>9980</th>\n",
       "      <td>i know one thing anything that happen politica...</td>\n",
       "      <td>wasnt sinjin crow about his plan to take the f...</td>\n",
       "      <td>unsure</td>\n",
       "      <td>NN NN NN IN PRP$ NN TO VB DT NN NN CC NN TO DT...</td>\n",
       "      <td>feeling-based</td>\n",
       "    </tr>\n",
       "    <tr>\n",
       "      <th>9981</th>\n",
       "      <td>i enjoy botany more than most thing and i have...</td>\n",
       "      <td>hi smallax welcome to the forum i do a search ...</td>\n",
       "      <td>agreement</td>\n",
       "      <td>NN VBZ JJ TO DT NN NN VBP DT NN CC VBP VBN DT ...</td>\n",
       "      <td>fact-based</td>\n",
       "    </tr>\n",
       "  </tbody>\n",
       "</table>\n",
       "<p>5850 rows × 5 columns</p>\n",
       "</div>"
      ],
      "text/plain": [
       "                                        presented_quote  \\\n",
       "0     i get a good idea however they do tend to stay...   \n",
       "2     one of the big argument against gun control be...   \n",
       "4     there be some incedents that be beyond your co...   \n",
       "6     legality do not matter religous implication do...   \n",
       "8     once again you seem to support the killing of ...   \n",
       "...                                                 ...   \n",
       "9977  the id movement form of id state that there be...   \n",
       "9978  for me it would therefore have make no differe...   \n",
       "9979  good thing this argument have never be doneoh ...   \n",
       "9980  i know one thing anything that happen politica...   \n",
       "9981  i enjoy botany more than most thing and i have...   \n",
       "\n",
       "                                     presented_response disagree_agree  \\\n",
       "0     by your own admission you havent hang out with...   disagreement   \n",
       "2     not quite to be more correct regard government...   disagreement   \n",
       "4                                              well yes      agreement   \n",
       "6                      exact to the point amp beautiful      agreement   \n",
       "8     base on the idea that people be dispensible pa...         unsure   \n",
       "...                                                 ...            ...   \n",
       "9977  that of course be the logical fallacy know as ...   disagreement   \n",
       "9978  it logically follow from the moral foundation ...      agreement   \n",
       "9979  and teen sex doesnt by the very nature of its ...         unsure   \n",
       "9980  wasnt sinjin crow about his plan to take the f...         unsure   \n",
       "9981  hi smallax welcome to the forum i do a search ...      agreement   \n",
       "\n",
       "                                 presented_response_tag   emotion_fact  \n",
       "0     IN PRP$ JJ NN PRP VBP VB RP IN NN IN DT NN CC ...  feeling-based  \n",
       "2     RB RB TO VB RBR JJ JJ NN CC VB DT NN TO VB NN ...     fact-based  \n",
       "4                                                RB RB   feeling-based  \n",
       "6                                    NN TO DT NN NN NN   feeling-based  \n",
       "8     NN IN DT NN WDT NNS VB JJ RB IN PRP VBP PRP$ V...  feeling-based  \n",
       "...                                                 ...            ...  \n",
       "9977  DT IN NN VB DT JJ NN VBP IN JJ NN DT NN PRP VB...     fact-based  \n",
       "9978  PRP RB VBP IN DT JJ NN VBN RP CC PRP VBP TO JJ...  feeling-based  \n",
       "9979  CC JJ NN NN IN DT JJ NN IN PRP$ NN NN IN NN DT...  feeling-based  \n",
       "9980  NN NN NN IN PRP$ NN TO VB DT NN NN CC NN TO DT...  feeling-based  \n",
       "9981  NN VBZ JJ TO DT NN NN VBP DT NN CC VBP VBN DT ...     fact-based  \n",
       "\n",
       "[5850 rows x 5 columns]"
      ]
     },
     "execution_count": 4,
     "metadata": {},
     "output_type": "execute_result"
    }
   ],
   "source": [
    "df = df[df['emotion_fact'] != 'unsure']\n",
    "df = df.loc[:, ['presented_quote', 'presented_response', 'disagree_agree', 'presented_response_tag', 'emotion_fact']]\n",
    "df"
   ]
  },
  {
   "cell_type": "code",
   "execution_count": 5,
   "id": "c5b2da96",
   "metadata": {
    "execution": {
     "iopub.execute_input": "2021-11-16T22:18:15.595907Z",
     "iopub.status.busy": "2021-11-16T22:18:15.595081Z",
     "iopub.status.idle": "2021-11-16T22:18:58.965395Z",
     "shell.execute_reply": "2021-11-16T22:18:58.964813Z",
     "shell.execute_reply.started": "2021-11-16T20:42:16.226159Z"
    },
    "papermill": {
     "duration": 43.406968,
     "end_time": "2021-11-16T22:18:58.965551",
     "exception": false,
     "start_time": "2021-11-16T22:18:15.558583",
     "status": "completed"
    },
    "tags": []
   },
   "outputs": [],
   "source": [
    "df['presented_quote'] = df['presented_quote'].apply(lambda x: preprocessing(x))\n",
    "df['presented_response'] = df['presented_response'].apply(lambda x: preprocessing(x))\n",
    "df['disagree_agree'] = df['disagree_agree'].apply(lambda x: agreement_label_encoding(x))\n",
    "df['emotion_fact'] = df['emotion_fact'].apply(lambda x: fact_label_encoding(x))"
   ]
  },
  {
   "cell_type": "code",
   "execution_count": 6,
   "id": "aae2edd2",
   "metadata": {
    "execution": {
     "iopub.execute_input": "2021-11-16T22:18:59.039794Z",
     "iopub.status.busy": "2021-11-16T22:18:59.039158Z",
     "iopub.status.idle": "2021-11-16T22:18:59.041764Z",
     "shell.execute_reply": "2021-11-16T22:18:59.042298Z",
     "shell.execute_reply.started": "2021-11-16T20:43:00.066124Z"
    },
    "papermill": {
     "duration": 0.041989,
     "end_time": "2021-11-16T22:18:59.042451",
     "exception": false,
     "start_time": "2021-11-16T22:18:59.000462",
     "status": "completed"
    },
    "tags": []
   },
   "outputs": [
    {
     "data": {
      "text/plain": [
       "(5850, 5)"
      ]
     },
     "execution_count": 6,
     "metadata": {},
     "output_type": "execute_result"
    }
   ],
   "source": [
    "df.shape"
   ]
  },
  {
   "cell_type": "code",
   "execution_count": 7,
   "id": "3b6f1e7f",
   "metadata": {
    "execution": {
     "iopub.execute_input": "2021-11-16T22:18:59.117903Z",
     "iopub.status.busy": "2021-11-16T22:18:59.117266Z",
     "iopub.status.idle": "2021-11-16T22:18:59.123034Z",
     "shell.execute_reply": "2021-11-16T22:18:59.122581Z",
     "shell.execute_reply.started": "2021-11-16T20:43:00.073676Z"
    },
    "papermill": {
     "duration": 0.047106,
     "end_time": "2021-11-16T22:18:59.123156",
     "exception": false,
     "start_time": "2021-11-16T22:18:59.076050",
     "status": "completed"
    },
    "tags": []
   },
   "outputs": [],
   "source": [
    "df = df[~df['emotion_fact'].isin([2])]\n",
    "df = df[~df['disagree_agree'].isin([2])]"
   ]
  },
  {
   "cell_type": "code",
   "execution_count": 8,
   "id": "b7812fc4",
   "metadata": {
    "execution": {
     "iopub.execute_input": "2021-11-16T22:18:59.205136Z",
     "iopub.status.busy": "2021-11-16T22:18:59.204355Z",
     "iopub.status.idle": "2021-11-16T22:18:59.212031Z",
     "shell.execute_reply": "2021-11-16T22:18:59.212661Z",
     "shell.execute_reply.started": "2021-11-16T20:43:00.090045Z"
    },
    "papermill": {
     "duration": 0.055897,
     "end_time": "2021-11-16T22:18:59.212857",
     "exception": false,
     "start_time": "2021-11-16T22:18:59.156960",
     "status": "completed"
    },
    "tags": []
   },
   "outputs": [
    {
     "data": {
      "text/plain": [
       "(4409, 5)"
      ]
     },
     "execution_count": 8,
     "metadata": {},
     "output_type": "execute_result"
    }
   ],
   "source": [
    "df.shape"
   ]
  },
  {
   "cell_type": "code",
   "execution_count": 9,
   "id": "4372f2a9",
   "metadata": {
    "execution": {
     "iopub.execute_input": "2021-11-16T22:18:59.302848Z",
     "iopub.status.busy": "2021-11-16T22:18:59.301996Z",
     "iopub.status.idle": "2021-11-16T22:18:59.308708Z",
     "shell.execute_reply": "2021-11-16T22:18:59.308274Z",
     "shell.execute_reply.started": "2021-11-16T20:43:00.097755Z"
    },
    "papermill": {
     "duration": 0.046079,
     "end_time": "2021-11-16T22:18:59.308820",
     "exception": false,
     "start_time": "2021-11-16T22:18:59.262741",
     "status": "completed"
    },
    "tags": []
   },
   "outputs": [],
   "source": [
    "from sklearn.model_selection import train_test_split\n",
    "\n",
    "X = df.loc[:, ['presented_quote', 'presented_response', 'emotion_fact']]\n",
    "y = df.loc[:, ['disagree_agree']]\n",
    "\n",
    "X_train, X_test, y_train, y_test = train_test_split(X, y, test_size=0.15, random_state=20)"
   ]
  },
  {
   "cell_type": "code",
   "execution_count": 10,
   "id": "4d620809",
   "metadata": {
    "execution": {
     "iopub.execute_input": "2021-11-16T22:18:59.386668Z",
     "iopub.status.busy": "2021-11-16T22:18:59.386034Z",
     "iopub.status.idle": "2021-11-16T22:18:59.388690Z",
     "shell.execute_reply": "2021-11-16T22:18:59.389135Z",
     "shell.execute_reply.started": "2021-11-16T20:43:00.112366Z"
    },
    "papermill": {
     "duration": 0.04573,
     "end_time": "2021-11-16T22:18:59.389262",
     "exception": false,
     "start_time": "2021-11-16T22:18:59.343532",
     "status": "completed"
    },
    "tags": []
   },
   "outputs": [
    {
     "data": {
      "text/plain": [
       "disagree_agree\n",
       "0                 3709\n",
       "1                  700\n",
       "dtype: int64"
      ]
     },
     "execution_count": 10,
     "metadata": {},
     "output_type": "execute_result"
    }
   ],
   "source": [
    "y.value_counts()"
   ]
  },
  {
   "cell_type": "code",
   "execution_count": 11,
   "id": "b96bc1e6",
   "metadata": {
    "execution": {
     "iopub.execute_input": "2021-11-16T22:18:59.462738Z",
     "iopub.status.busy": "2021-11-16T22:18:59.461920Z",
     "iopub.status.idle": "2021-11-16T22:18:59.468923Z",
     "shell.execute_reply": "2021-11-16T22:18:59.469510Z",
     "shell.execute_reply.started": "2021-11-16T20:43:00.124152Z"
    },
    "papermill": {
     "duration": 0.046088,
     "end_time": "2021-11-16T22:18:59.469672",
     "exception": false,
     "start_time": "2021-11-16T22:18:59.423584",
     "status": "completed"
    },
    "tags": []
   },
   "outputs": [
    {
     "name": "stdout",
     "output_type": "stream",
     "text": [
      "disagree_agree\n",
      "0                 3147\n",
      "1                  600\n",
      "dtype: int64\n",
      "disagree_agree\n",
      "0                 562\n",
      "1                 100\n",
      "dtype: int64\n"
     ]
    }
   ],
   "source": [
    "print(y_train.value_counts())\n",
    "print(y_test.value_counts())"
   ]
  },
  {
   "cell_type": "code",
   "execution_count": 12,
   "id": "9c3e73a3",
   "metadata": {
    "execution": {
     "iopub.execute_input": "2021-11-16T22:18:59.547714Z",
     "iopub.status.busy": "2021-11-16T22:18:59.546842Z",
     "iopub.status.idle": "2021-11-16T22:18:59.548897Z",
     "shell.execute_reply": "2021-11-16T22:18:59.549384Z",
     "shell.execute_reply.started": "2021-11-16T20:43:00.136023Z"
    },
    "papermill": {
     "duration": 0.044829,
     "end_time": "2021-11-16T22:18:59.549502",
     "exception": false,
     "start_time": "2021-11-16T22:18:59.504673",
     "status": "completed"
    },
    "tags": []
   },
   "outputs": [],
   "source": [
    "X_train_quotes = X_train['presented_quote'].values\n",
    "X_train_responses = X_train['presented_response'].values\n",
    "X_train_emotion = X_train['emotion_fact'].values\n",
    "\n",
    "X_test_quotes = X_test['presented_quote'].values\n",
    "X_test_responses = X_test['presented_response'].values\n",
    "X_test_emotion = X_test['emotion_fact'].values\n",
    "\n",
    "y_train = y_train['disagree_agree'].values\n",
    "y_test = y_test['disagree_agree'].values\n",
    "\n",
    "X_train_text = X_train_quotes + X_train_responses"
   ]
  },
  {
   "cell_type": "code",
   "execution_count": 13,
   "id": "94b7ba6f",
   "metadata": {
    "execution": {
     "iopub.execute_input": "2021-11-16T22:18:59.652909Z",
     "iopub.status.busy": "2021-11-16T22:18:59.637617Z",
     "iopub.status.idle": "2021-11-16T22:19:00.420481Z",
     "shell.execute_reply": "2021-11-16T22:19:00.419885Z",
     "shell.execute_reply.started": "2021-11-16T20:43:00.149011Z"
    },
    "papermill": {
     "duration": 0.836362,
     "end_time": "2021-11-16T22:19:00.420641",
     "exception": false,
     "start_time": "2021-11-16T22:18:59.584279",
     "status": "completed"
    },
    "tags": []
   },
   "outputs": [],
   "source": [
    "tokenizer = Tokenizer(num_words=300000)\n",
    "tokenizer.fit_on_texts(list(X_train_text))\n",
    "\n",
    "X_train_quotes = tokenizer.texts_to_sequences(X_train_quotes)\n",
    "X_train_responses = tokenizer.texts_to_sequences(X_train_responses)\n",
    "X_test_quotes = tokenizer.texts_to_sequences(X_test_quotes)\n",
    "X_test_responses = tokenizer.texts_to_sequences(X_test_responses)\n",
    "\n",
    "X_train_quotes = sequence.pad_sequences(X_train_quotes, maxlen=1000)\n",
    "X_train_responses = sequence.pad_sequences(X_train_responses, maxlen=1000)\n",
    "X_test_quotes = sequence.pad_sequences(X_test_quotes, maxlen=1000)\n",
    "X_test_responses = sequence.pad_sequences(X_test_responses, maxlen=1000)\n"
   ]
  },
  {
   "cell_type": "code",
   "execution_count": 14,
   "id": "e9e7178d",
   "metadata": {
    "execution": {
     "iopub.execute_input": "2021-11-16T22:19:00.525179Z",
     "iopub.status.busy": "2021-11-16T22:19:00.496856Z",
     "iopub.status.idle": "2021-11-16T22:19:00.529527Z",
     "shell.execute_reply": "2021-11-16T22:19:00.528779Z",
     "shell.execute_reply.started": "2021-11-16T20:43:00.929627Z"
    },
    "papermill": {
     "duration": 0.071794,
     "end_time": "2021-11-16T22:19:00.529641",
     "exception": false,
     "start_time": "2021-11-16T22:19:00.457847",
     "status": "completed"
    },
    "tags": []
   },
   "outputs": [],
   "source": [
    "file = open(\"tokenizer.pkl\", \"wb\")\n",
    "pickle.dump(tokenizer, file)\n",
    "file.close()"
   ]
  },
  {
   "cell_type": "code",
   "execution_count": 15,
   "id": "2f38cb15",
   "metadata": {
    "execution": {
     "iopub.execute_input": "2021-11-16T22:19:00.605974Z",
     "iopub.status.busy": "2021-11-16T22:19:00.604855Z",
     "iopub.status.idle": "2021-11-16T22:19:00.609053Z",
     "shell.execute_reply": "2021-11-16T22:19:00.608282Z",
     "shell.execute_reply.started": "2021-11-16T20:43:00.966013Z"
    },
    "papermill": {
     "duration": 0.044412,
     "end_time": "2021-11-16T22:19:00.609204",
     "exception": false,
     "start_time": "2021-11-16T22:19:00.564792",
     "status": "completed"
    },
    "tags": []
   },
   "outputs": [
    {
     "name": "stdout",
     "output_type": "stream",
     "text": [
      "(3747, 1000)\n",
      "(3747, 1000)\n",
      "(662, 1000)\n",
      "(662, 1000)\n"
     ]
    }
   ],
   "source": [
    "print(X_train_quotes.shape)\n",
    "print(X_train_responses.shape)\n",
    "print(X_test_quotes.shape)\n",
    "print(X_test_responses.shape)"
   ]
  },
  {
   "cell_type": "code",
   "execution_count": 16,
   "id": "e51fdf23",
   "metadata": {
    "execution": {
     "iopub.execute_input": "2021-11-16T22:19:00.684327Z",
     "iopub.status.busy": "2021-11-16T22:19:00.683775Z",
     "iopub.status.idle": "2021-11-16T22:24:11.814713Z",
     "shell.execute_reply": "2021-11-16T22:24:11.815269Z",
     "shell.execute_reply.started": "2021-11-16T20:43:00.973903Z"
    },
    "papermill": {
     "duration": 311.169615,
     "end_time": "2021-11-16T22:24:11.815430",
     "exception": false,
     "start_time": "2021-11-16T22:19:00.645815",
     "status": "completed"
    },
    "tags": []
   },
   "outputs": [
    {
     "name": "stderr",
     "output_type": "stream",
     "text": [
      "Load Vector Model : 1999996it [05:11, 6429.91it/s]\n"
     ]
    }
   ],
   "source": [
    "fasttext_index = fasttext_embedding()\n",
    "fasttext_matrix = embedding_matrix(tokenizer, fasttext_index, 300)"
   ]
  },
  {
   "cell_type": "code",
   "execution_count": 17,
   "id": "869356aa",
   "metadata": {
    "execution": {
     "iopub.execute_input": "2021-11-16T22:24:13.460817Z",
     "iopub.status.busy": "2021-11-16T22:24:13.459891Z",
     "iopub.status.idle": "2021-11-16T22:24:13.557994Z",
     "shell.execute_reply": "2021-11-16T22:24:13.557466Z",
     "shell.execute_reply.started": "2021-11-16T20:48:00.379477Z"
    },
    "papermill": {
     "duration": 0.911686,
     "end_time": "2021-11-16T22:24:13.558136",
     "exception": false,
     "start_time": "2021-11-16T22:24:12.646450",
     "status": "completed"
    },
    "tags": []
   },
   "outputs": [],
   "source": [
    "file = open(\"fasttext_matrix.pkl\", \"wb\")\n",
    "pickle.dump(fasttext_matrix, file)\n",
    "file.close()"
   ]
  },
  {
   "cell_type": "code",
   "execution_count": 18,
   "id": "f24f6de3",
   "metadata": {
    "execution": {
     "iopub.execute_input": "2021-11-16T22:24:15.443935Z",
     "iopub.status.busy": "2021-11-16T22:24:15.443358Z",
     "iopub.status.idle": "2021-11-16T22:24:18.885708Z",
     "shell.execute_reply": "2021-11-16T22:24:18.886193Z",
     "shell.execute_reply.started": "2021-11-16T20:48:00.483226Z"
    },
    "papermill": {
     "duration": 4.409794,
     "end_time": "2021-11-16T22:24:18.886359",
     "exception": false,
     "start_time": "2021-11-16T22:24:14.476565",
     "status": "completed"
    },
    "tags": []
   },
   "outputs": [
    {
     "name": "stderr",
     "output_type": "stream",
     "text": [
      "2021-11-16 22:24:15.532086: I tensorflow/stream_executor/cuda/cuda_gpu_executor.cc:937] successful NUMA node read from SysFS had negative value (-1), but there must be at least one NUMA node, so returning NUMA node zero\n",
      "2021-11-16 22:24:15.655218: I tensorflow/stream_executor/cuda/cuda_gpu_executor.cc:937] successful NUMA node read from SysFS had negative value (-1), but there must be at least one NUMA node, so returning NUMA node zero\n",
      "2021-11-16 22:24:15.656084: I tensorflow/stream_executor/cuda/cuda_gpu_executor.cc:937] successful NUMA node read from SysFS had negative value (-1), but there must be at least one NUMA node, so returning NUMA node zero\n",
      "2021-11-16 22:24:15.657474: I tensorflow/core/platform/cpu_feature_guard.cc:142] This TensorFlow binary is optimized with oneAPI Deep Neural Network Library (oneDNN) to use the following CPU instructions in performance-critical operations:  AVX2 AVX512F FMA\n",
      "To enable them in other operations, rebuild TensorFlow with the appropriate compiler flags.\n",
      "2021-11-16 22:24:15.658764: I tensorflow/stream_executor/cuda/cuda_gpu_executor.cc:937] successful NUMA node read from SysFS had negative value (-1), but there must be at least one NUMA node, so returning NUMA node zero\n",
      "2021-11-16 22:24:15.659563: I tensorflow/stream_executor/cuda/cuda_gpu_executor.cc:937] successful NUMA node read from SysFS had negative value (-1), but there must be at least one NUMA node, so returning NUMA node zero\n",
      "2021-11-16 22:24:15.660316: I tensorflow/stream_executor/cuda/cuda_gpu_executor.cc:937] successful NUMA node read from SysFS had negative value (-1), but there must be at least one NUMA node, so returning NUMA node zero\n",
      "2021-11-16 22:24:17.647429: I tensorflow/stream_executor/cuda/cuda_gpu_executor.cc:937] successful NUMA node read from SysFS had negative value (-1), but there must be at least one NUMA node, so returning NUMA node zero\n",
      "2021-11-16 22:24:17.648342: I tensorflow/stream_executor/cuda/cuda_gpu_executor.cc:937] successful NUMA node read from SysFS had negative value (-1), but there must be at least one NUMA node, so returning NUMA node zero\n",
      "2021-11-16 22:24:17.649086: I tensorflow/stream_executor/cuda/cuda_gpu_executor.cc:937] successful NUMA node read from SysFS had negative value (-1), but there must be at least one NUMA node, so returning NUMA node zero\n",
      "2021-11-16 22:24:17.649649: I tensorflow/core/common_runtime/gpu/gpu_device.cc:1510] Created device /job:localhost/replica:0/task:0/device:GPU:0 with 15403 MB memory:  -> device: 0, name: Tesla P100-PCIE-16GB, pci bus id: 0000:00:04.0, compute capability: 6.0\n"
     ]
    }
   ],
   "source": [
    "quote_input    = keras.Input(shape=(None,), name='quote')\n",
    "response_input = keras.Input(shape=(None,), name='response')\n",
    "emotion_input = keras.Input(shape=(1,), name='emotion')\n",
    "quote_feature    = layers.Embedding(fasttext_matrix.shape[0], input_length=1000, output_dim=fasttext_matrix.shape[1], weights=[fasttext_matrix], trainable=False)(quote_input)\n",
    "response_feature = layers.Embedding(fasttext_matrix.shape[0], input_length=1000, output_dim=fasttext_matrix.shape[1], weights=[fasttext_matrix], trainable=False)(response_input)\n",
    "quote_feature    = layers.Bidirectional(GRU(100, return_sequences=False))(quote_feature)\n",
    "response_feature = layers.Bidirectional(GRU(100, return_sequences=False))(response_feature)\n",
    "double = layers.concatenate([quote_feature, response_feature, emotion_input])\n",
    "dense1  = layers.Dense(200, activation='relu')(double)\n",
    "dense2  = layers.Dense(200, activation='relu')(dense1)\n",
    "dense3  = layers.Dense(200, activation='relu')(dense2)\n",
    "pred   = layers.Dense(3, activation='softmax', name='agree_disagree')(dense3)\n",
    "\n",
    "model = keras.Model(inputs=[quote_input, response_input, emotion_input], outputs=[pred],)"
   ]
  },
  {
   "cell_type": "code",
   "execution_count": 19,
   "id": "6ca42d93",
   "metadata": {
    "execution": {
     "iopub.execute_input": "2021-11-16T22:24:20.503546Z",
     "iopub.status.busy": "2021-11-16T22:24:20.502642Z",
     "iopub.status.idle": "2021-11-16T22:24:20.509282Z",
     "shell.execute_reply": "2021-11-16T22:24:20.509833Z",
     "shell.execute_reply.started": "2021-11-16T20:48:03.672853Z"
    },
    "papermill": {
     "duration": 0.817887,
     "end_time": "2021-11-16T22:24:20.510040",
     "exception": false,
     "start_time": "2021-11-16T22:24:19.692153",
     "status": "completed"
    },
    "tags": []
   },
   "outputs": [
    {
     "name": "stdout",
     "output_type": "stream",
     "text": [
      "Model: \"model\"\n",
      "__________________________________________________________________________________________________\n",
      "Layer (type)                    Output Shape         Param #     Connected to                     \n",
      "==================================================================================================\n",
      "quote (InputLayer)              [(None, None)]       0                                            \n",
      "__________________________________________________________________________________________________\n",
      "response (InputLayer)           [(None, None)]       0                                            \n",
      "__________________________________________________________________________________________________\n",
      "embedding (Embedding)           (None, None, 300)    7827600     quote[0][0]                      \n",
      "__________________________________________________________________________________________________\n",
      "embedding_1 (Embedding)         (None, None, 300)    7827600     response[0][0]                   \n",
      "__________________________________________________________________________________________________\n",
      "bidirectional (Bidirectional)   (None, 200)          241200      embedding[0][0]                  \n",
      "__________________________________________________________________________________________________\n",
      "bidirectional_1 (Bidirectional) (None, 200)          241200      embedding_1[0][0]                \n",
      "__________________________________________________________________________________________________\n",
      "emotion (InputLayer)            [(None, 1)]          0                                            \n",
      "__________________________________________________________________________________________________\n",
      "concatenate (Concatenate)       (None, 401)          0           bidirectional[0][0]              \n",
      "                                                                 bidirectional_1[0][0]            \n",
      "                                                                 emotion[0][0]                    \n",
      "__________________________________________________________________________________________________\n",
      "dense (Dense)                   (None, 200)          80400       concatenate[0][0]                \n",
      "__________________________________________________________________________________________________\n",
      "dense_1 (Dense)                 (None, 200)          40200       dense[0][0]                      \n",
      "__________________________________________________________________________________________________\n",
      "dense_2 (Dense)                 (None, 200)          40200       dense_1[0][0]                    \n",
      "__________________________________________________________________________________________________\n",
      "agree_disagree (Dense)          (None, 3)            603         dense_2[0][0]                    \n",
      "==================================================================================================\n",
      "Total params: 16,299,003\n",
      "Trainable params: 643,803\n",
      "Non-trainable params: 15,655,200\n",
      "__________________________________________________________________________________________________\n"
     ]
    }
   ],
   "source": [
    "model.summary()"
   ]
  },
  {
   "cell_type": "code",
   "execution_count": 20,
   "id": "ba9a5c46",
   "metadata": {
    "execution": {
     "iopub.execute_input": "2021-11-16T22:24:22.112954Z",
     "iopub.status.busy": "2021-11-16T22:24:22.112115Z",
     "iopub.status.idle": "2021-11-16T22:24:23.150145Z",
     "shell.execute_reply": "2021-11-16T22:24:23.150609Z",
     "shell.execute_reply.started": "2021-11-16T20:48:03.687113Z"
    },
    "papermill": {
     "duration": 1.835514,
     "end_time": "2021-11-16T22:24:23.150773",
     "exception": false,
     "start_time": "2021-11-16T22:24:21.315259",
     "status": "completed"
    },
    "tags": []
   },
   "outputs": [
    {
     "data": {
      "image/png": "[encoded data removed]",
      "text/plain": [
       "<IPython.core.display.Image object>"
      ]
     },
     "execution_count": 20,
     "metadata": {},
     "output_type": "execute_result"
    }
   ],
   "source": [
    "keras.utils.plot_model(model, \"model.png\", show_shapes=True)"
   ]
  },
  {
   "cell_type": "code",
   "execution_count": 21,
   "id": "571986ca",
   "metadata": {
    "execution": {
     "iopub.execute_input": "2021-11-16T22:24:24.786219Z",
     "iopub.status.busy": "2021-11-16T22:24:24.785358Z",
     "iopub.status.idle": "2021-11-16T22:27:53.234077Z",
     "shell.execute_reply": "2021-11-16T22:27:53.234615Z",
     "shell.execute_reply.started": "2021-11-16T20:48:04.647115Z"
    },
    "papermill": {
     "duration": 209.275946,
     "end_time": "2021-11-16T22:27:53.234805",
     "exception": false,
     "start_time": "2021-11-16T22:24:23.958859",
     "status": "completed"
    },
    "tags": []
   },
   "outputs": [
    {
     "name": "stderr",
     "output_type": "stream",
     "text": [
      "2021-11-16 22:24:24.852802: I tensorflow/compiler/mlir/mlir_graph_optimization_pass.cc:185] None of the MLIR Optimization Passes are enabled (registered 2)\n"
     ]
    },
    {
     "name": "stdout",
     "output_type": "stream",
     "text": [
      "Epoch 1/10\n"
     ]
    },
    {
     "name": "stderr",
     "output_type": "stream",
     "text": [
      "2021-11-16 22:24:31.082320: I tensorflow/stream_executor/cuda/cuda_dnn.cc:369] Loaded cuDNN version 8005\n"
     ]
    },
    {
     "name": "stdout",
     "output_type": "stream",
     "text": [
      "106/106 [==============================] - 25s 168ms/step - loss: 0.4647 - accuracy: 0.8399 - val_loss: 0.4363 - val_accuracy: 0.8293\n",
      "Epoch 2/10\n",
      "106/106 [==============================] - 17s 156ms/step - loss: 0.4013 - accuracy: 0.8425 - val_loss: 0.4590 - val_accuracy: 0.8373\n",
      "Epoch 3/10\n",
      "106/106 [==============================] - 17s 157ms/step - loss: 0.3524 - accuracy: 0.8612 - val_loss: 0.4285 - val_accuracy: 0.8400\n",
      "Epoch 4/10\n",
      "106/106 [==============================] - 17s 156ms/step - loss: 0.2895 - accuracy: 0.8817 - val_loss: 0.4372 - val_accuracy: 0.8427\n",
      "Epoch 5/10\n",
      "106/106 [==============================] - 17s 157ms/step - loss: 0.1992 - accuracy: 0.9190 - val_loss: 0.5735 - val_accuracy: 0.8320\n",
      "Epoch 6/10\n",
      "106/106 [==============================] - 17s 156ms/step - loss: 0.1371 - accuracy: 0.9434 - val_loss: 0.6746 - val_accuracy: 0.8347\n",
      "Epoch 7/10\n",
      "106/106 [==============================] - 17s 157ms/step - loss: 0.0909 - accuracy: 0.9677 - val_loss: 0.8827 - val_accuracy: 0.8347\n",
      "Epoch 8/10\n",
      "106/106 [==============================] - 17s 156ms/step - loss: 0.0504 - accuracy: 0.9816 - val_loss: 1.1434 - val_accuracy: 0.8160\n",
      "Epoch 9/10\n",
      "106/106 [==============================] - 17s 156ms/step - loss: 0.0357 - accuracy: 0.9878 - val_loss: 1.6078 - val_accuracy: 0.8453\n",
      "Epoch 10/10\n",
      "106/106 [==============================] - 17s 157ms/step - loss: 0.0334 - accuracy: 0.9881 - val_loss: 1.2078 - val_accuracy: 0.8267\n"
     ]
    },
    {
     "data": {
      "text/plain": [
       "<keras.callbacks.History at 0x7f89cc7ebc10>"
      ]
     },
     "execution_count": 21,
     "metadata": {},
     "output_type": "execute_result"
    }
   ],
   "source": [
    "model.compile(\n",
    "    optimizer='adam',\n",
    "    loss=keras.losses.SparseCategoricalCrossentropy(),\n",
    "    metrics=['accuracy']\n",
    ")\n",
    "\n",
    "model.fit(\n",
    "    {'quote': X_train_quotes, 'response': X_train_responses, 'emotion': X_train_emotion},\n",
    "    {'agree_disagree': y_train},\n",
    "    epochs=10,\n",
    "    batch_size=32,\n",
    "    validation_split=0.1\n",
    ")"
   ]
  },
  {
   "cell_type": "code",
   "execution_count": 22,
   "id": "3284d061",
   "metadata": {
    "execution": {
     "iopub.execute_input": "2021-11-16T22:27:56.273519Z",
     "iopub.status.busy": "2021-11-16T22:27:56.272410Z",
     "iopub.status.idle": "2021-11-16T22:27:59.855091Z",
     "shell.execute_reply": "2021-11-16T22:27:59.855869Z",
     "shell.execute_reply.started": "2021-11-16T20:51:31.883191Z"
    },
    "papermill": {
     "duration": 4.758691,
     "end_time": "2021-11-16T22:27:59.856083",
     "exception": false,
     "start_time": "2021-11-16T22:27:55.097392",
     "status": "completed"
    },
    "tags": []
   },
   "outputs": [],
   "source": [
    "prediction = model.predict({'quote': X_test_quotes, 'response': X_test_responses, 'emotion': X_test_emotion})"
   ]
  },
  {
   "cell_type": "code",
   "execution_count": 23,
   "id": "566154a0",
   "metadata": {
    "execution": {
     "iopub.execute_input": "2021-11-16T22:28:02.071204Z",
     "iopub.status.busy": "2021-11-16T22:28:02.069397Z",
     "iopub.status.idle": "2021-11-16T22:28:02.073330Z",
     "shell.execute_reply": "2021-11-16T22:28:02.072844Z",
     "shell.execute_reply.started": "2021-11-16T20:51:35.454953Z"
    },
    "papermill": {
     "duration": 1.103558,
     "end_time": "2021-11-16T22:28:02.073451",
     "exception": false,
     "start_time": "2021-11-16T22:28:00.969893",
     "status": "completed"
    },
    "tags": []
   },
   "outputs": [
    {
     "data": {
      "text/plain": [
       "array([[9.7962475e-01, 2.0363459e-02, 1.1828407e-05],\n",
       "       [9.9995518e-01, 4.4782384e-05, 3.7335646e-10],\n",
       "       [9.9999940e-01, 5.9079406e-07, 1.0637642e-13],\n",
       "       ...,\n",
       "       [9.9962890e-01, 3.7102765e-04, 3.4811102e-08],\n",
       "       [4.8947844e-01, 5.1039410e-01, 1.2749639e-04],\n",
       "       [9.9969077e-01, 3.0922299e-04, 1.6440321e-08]], dtype=float32)"
      ]
     },
     "execution_count": 23,
     "metadata": {},
     "output_type": "execute_result"
    }
   ],
   "source": [
    "prediction"
   ]
  },
  {
   "cell_type": "code",
   "execution_count": 24,
   "id": "c7063cac",
   "metadata": {
    "execution": {
     "iopub.execute_input": "2021-11-16T22:28:04.333354Z",
     "iopub.status.busy": "2021-11-16T22:28:04.332757Z",
     "iopub.status.idle": "2021-11-16T22:28:04.338166Z",
     "shell.execute_reply": "2021-11-16T22:28:04.337678Z",
     "shell.execute_reply.started": "2021-11-16T20:51:35.463395Z"
    },
    "papermill": {
     "duration": 1.154582,
     "end_time": "2021-11-16T22:28:04.338322",
     "exception": false,
     "start_time": "2021-11-16T22:28:03.183740",
     "status": "completed"
    },
    "tags": []
   },
   "outputs": [
    {
     "data": {
      "text/plain": [
       "array([0, 0, 0, 0, 0, 0, 0, 0, 0, 0, 0, 0, 0, 1, 0, 1, 1, 0, 0, 0, 0, 0,\n",
       "       0, 0, 0, 1, 1, 0, 0, 0, 0, 1, 0, 0, 0, 0, 0, 0, 0, 0, 0, 1, 0, 0,\n",
       "       0, 0, 0, 0, 0, 0, 0, 0, 1, 1, 0, 0, 0, 0, 0, 0, 0, 0, 0, 0, 0, 0,\n",
       "       0, 0, 0, 0, 0, 0, 0, 0, 0, 1, 1, 1, 0, 0, 0, 0, 0, 0, 0, 1, 0, 0,\n",
       "       0, 0, 1, 0, 0, 0, 0, 0, 0, 0, 0, 0, 0, 0, 0, 0, 0, 0, 0, 0, 0, 0,\n",
       "       0, 0, 0, 0, 0, 0, 1, 0, 0, 1, 0, 1, 0, 0, 0, 0, 0, 0, 1, 0, 0, 0,\n",
       "       0, 0, 0, 0, 0, 0, 0, 1, 0, 0, 0, 0, 0, 0, 0, 0, 0, 0, 0, 0, 0, 0,\n",
       "       0, 0, 0, 0, 1, 0, 1, 0, 0, 0, 0, 1, 0, 0, 0, 0, 0, 0, 0, 0, 1, 0,\n",
       "       0, 0, 0, 1, 1, 0, 0, 0, 0, 0, 0, 0, 0, 0, 0, 1, 0, 0, 0, 0, 1, 0,\n",
       "       0, 0, 0, 0, 0, 0, 0, 0, 1, 0, 1, 0, 0, 0, 1, 0, 0, 0, 0, 0, 1, 0,\n",
       "       0, 0, 0, 0, 1, 0, 0, 0, 0, 0, 0, 0, 0, 0, 0, 0, 1, 0, 0, 0, 0, 0,\n",
       "       0, 0, 1, 0, 0, 0, 0, 0, 0, 0, 0, 0, 0, 0, 0, 0, 0, 1, 0, 1, 0, 1,\n",
       "       0, 0, 0, 0, 0, 0, 0, 0, 0, 0, 0, 0, 0, 0, 0, 0, 0, 0, 0, 0, 0, 0,\n",
       "       0, 0, 0, 0, 0, 0, 0, 0, 1, 1, 0, 0, 1, 0, 1, 0, 0, 0, 0, 0, 0, 0,\n",
       "       0, 0, 0, 0, 0, 0, 0, 0, 0, 0, 0, 0, 0, 0, 0, 0, 0, 0, 0, 0, 1, 0,\n",
       "       0, 1, 0, 0, 0, 1, 1, 0, 0, 0, 0, 0, 0, 0, 0, 0, 0, 0, 0, 0, 0, 0,\n",
       "       0, 0, 0, 0, 0, 0, 0, 0, 0, 0, 0, 0, 0, 0, 0, 0, 0, 1, 1, 0, 1, 0,\n",
       "       0, 0, 0, 0, 0, 0, 0, 0, 0, 0, 0, 0, 0, 0, 0, 0, 0, 0, 0, 0, 0, 0,\n",
       "       0, 0, 0, 0, 1, 0, 0, 0, 0, 0, 0, 0, 0, 0, 0, 0, 0, 0, 0, 0, 0, 0,\n",
       "       1, 0, 0, 0, 0, 0, 0, 0, 0, 0, 0, 0, 0, 0, 0, 0, 0, 0, 0, 0, 0, 0,\n",
       "       0, 0, 0, 1, 0, 0, 0, 0, 1, 0, 0, 0, 0, 0, 0, 0, 0, 0, 0, 1, 0, 0,\n",
       "       0, 0, 0, 0, 0, 0, 0, 0, 0, 0, 0, 0, 0, 0, 0, 0, 0, 0, 0, 1, 0, 0,\n",
       "       0, 0, 0, 0, 0, 0, 0, 0, 0, 0, 0, 0, 0, 0, 0, 0, 0, 0, 1, 0, 0, 0,\n",
       "       0, 0, 0, 0, 0, 0, 0, 0, 0, 0, 0, 0, 0, 0, 0, 0, 0, 0, 0, 0, 0, 1,\n",
       "       0, 0, 0, 0, 0, 0, 0, 1, 0, 0, 0, 0, 1, 0, 0, 0, 0, 0, 0, 1, 0, 0,\n",
       "       1, 0, 0, 1, 0, 0, 0, 1, 0, 0, 0, 0, 0, 0, 1, 1, 0, 0, 0, 0, 0, 0,\n",
       "       0, 0, 0, 0, 0, 0, 0, 0, 0, 0, 0, 0, 0, 0, 0, 0, 0, 1, 0, 0, 0, 0,\n",
       "       0, 1, 0, 0, 0, 0, 0, 0, 0, 0, 0, 0, 0, 0, 0, 0, 0, 0, 0, 0, 0, 0,\n",
       "       0, 0, 0, 0, 0, 0, 0, 0, 0, 0, 0, 1, 0, 0, 0, 0, 0, 0, 0, 0, 0, 0,\n",
       "       0, 0, 0, 0, 1, 0, 0, 0, 0, 0, 0, 0, 0, 0, 0, 0, 0, 0, 0, 0, 0, 0,\n",
       "       1, 0])"
      ]
     },
     "execution_count": 24,
     "metadata": {},
     "output_type": "execute_result"
    }
   ],
   "source": [
    "r = []\n",
    "for predict in prediction:\n",
    "    label = np.argmax(predict)\n",
    "    r.append(label)\n",
    "    \n",
    "r = np.array(r)\n",
    "\n",
    "r"
   ]
  },
  {
   "cell_type": "code",
   "execution_count": 25,
   "id": "7e721eb7",
   "metadata": {
    "execution": {
     "iopub.execute_input": "2021-11-16T22:28:06.722850Z",
     "iopub.status.busy": "2021-11-16T22:28:06.721808Z",
     "iopub.status.idle": "2021-11-16T22:28:06.735638Z",
     "shell.execute_reply": "2021-11-16T22:28:06.735158Z",
     "shell.execute_reply.started": "2021-11-16T20:51:35.482129Z"
    },
    "papermill": {
     "duration": 1.170679,
     "end_time": "2021-11-16T22:28:06.735753",
     "exception": false,
     "start_time": "2021-11-16T22:28:05.565074",
     "status": "completed"
    },
    "tags": []
   },
   "outputs": [
    {
     "name": "stdout",
     "output_type": "stream",
     "text": [
      "              precision    recall  f1-score   support\n",
      "\n",
      "           0       0.91      0.86      0.89       593\n",
      "           1       0.19      0.28      0.22        69\n",
      "\n",
      "    accuracy                           0.80       662\n",
      "   macro avg       0.55      0.57      0.56       662\n",
      "weighted avg       0.84      0.80      0.82       662\n",
      "\n"
     ]
    }
   ],
   "source": [
    "from sklearn.metrics import classification_report\n",
    "print(classification_report(r, y_test))"
   ]
  },
  {
   "cell_type": "code",
   "execution_count": 26,
   "id": "ac035aba",
   "metadata": {
    "execution": {
     "iopub.execute_input": "2021-11-16T22:28:08.945616Z",
     "iopub.status.busy": "2021-11-16T22:28:08.944784Z",
     "iopub.status.idle": "2021-11-16T22:28:09.133994Z",
     "shell.execute_reply": "2021-11-16T22:28:09.133082Z",
     "shell.execute_reply.started": "2021-11-16T20:51:35.499155Z"
    },
    "papermill": {
     "duration": 1.325555,
     "end_time": "2021-11-16T22:28:09.134171",
     "exception": false,
     "start_time": "2021-11-16T22:28:07.808616",
     "status": "completed"
    },
    "tags": []
   },
   "outputs": [],
   "source": [
    "# file = open(\"double_biGRU_with_emotion_model.pkl\", \"wb\")\n",
    "# pickle.dump(model, file)\n",
    "# file.close()\n",
    "model.save(\"double_biGRU_with_emotion_model.h5\")"
   ]
  },
  {
   "cell_type": "code",
   "execution_count": 27,
   "id": "1738c34c",
   "metadata": {
    "execution": {
     "iopub.execute_input": "2021-11-16T22:28:11.316102Z",
     "iopub.status.busy": "2021-11-16T22:28:11.315228Z",
     "iopub.status.idle": "2021-11-16T22:28:12.125964Z",
     "shell.execute_reply": "2021-11-16T22:28:12.124897Z",
     "shell.execute_reply.started": "2021-11-16T20:51:35.711515Z"
    },
    "papermill": {
     "duration": 1.886064,
     "end_time": "2021-11-16T22:28:12.126133",
     "exception": false,
     "start_time": "2021-11-16T22:28:10.240069",
     "status": "completed"
    },
    "tags": []
   },
   "outputs": [],
   "source": [
    "quote_input    = keras.Input(shape=(None,), name='quote')\n",
    "response_input = keras.Input(shape=(None,), name='response')\n",
    "quote_feature    = layers.Embedding(fasttext_matrix.shape[0], input_length=1000, output_dim=fasttext_matrix.shape[1], weights=[fasttext_matrix], trainable=False)(quote_input)\n",
    "response_feature = layers.Embedding(fasttext_matrix.shape[0], input_length=1000, output_dim=fasttext_matrix.shape[1], weights=[fasttext_matrix], trainable=False)(response_input)\n",
    "quote_feature    = layers.Bidirectional(GRU(100, return_sequences=False))(quote_feature)\n",
    "response_feature = layers.Bidirectional(GRU(100, return_sequences=False))(response_feature)\n",
    "double = layers.concatenate([quote_feature, response_feature])\n",
    "dense1  = layers.Dense(200, activation='relu')(double)\n",
    "dense2  = layers.Dense(200, activation='relu')(dense1)\n",
    "dense3  = layers.Dense(200, activation='relu')(dense2)\n",
    "pred   = layers.Dense(3, activation='softmax', name='agree_disagree')(dense3)\n",
    "\n",
    "model = keras.Model(inputs=[quote_input, response_input], outputs=[pred],)"
   ]
  },
  {
   "cell_type": "code",
   "execution_count": 28,
   "id": "779a4586",
   "metadata": {
    "execution": {
     "iopub.execute_input": "2021-11-16T22:28:14.270330Z",
     "iopub.status.busy": "2021-11-16T22:28:14.269656Z",
     "iopub.status.idle": "2021-11-16T22:31:42.644503Z",
     "shell.execute_reply": "2021-11-16T22:31:42.645632Z",
     "shell.execute_reply.started": "2021-11-16T20:51:36.546685Z"
    },
    "papermill": {
     "duration": 209.45164,
     "end_time": "2021-11-16T22:31:42.645893",
     "exception": false,
     "start_time": "2021-11-16T22:28:13.194253",
     "status": "completed"
    },
    "tags": []
   },
   "outputs": [
    {
     "name": "stdout",
     "output_type": "stream",
     "text": [
      "Epoch 1/10\n",
      "106/106 [==============================] - 23s 167ms/step - loss: 0.4601 - accuracy: 0.8402 - val_loss: 0.4429 - val_accuracy: 0.8293\n",
      "Epoch 2/10\n",
      "106/106 [==============================] - 17s 157ms/step - loss: 0.4142 - accuracy: 0.8413 - val_loss: 0.4292 - val_accuracy: 0.8320\n",
      "Epoch 3/10\n",
      "106/106 [==============================] - 17s 157ms/step - loss: 0.3727 - accuracy: 0.8499 - val_loss: 0.4180 - val_accuracy: 0.8373\n",
      "Epoch 4/10\n",
      "106/106 [==============================] - 17s 156ms/step - loss: 0.3113 - accuracy: 0.8760 - val_loss: 0.4885 - val_accuracy: 0.8373\n",
      "Epoch 5/10\n",
      "106/106 [==============================] - 17s 157ms/step - loss: 0.2224 - accuracy: 0.9125 - val_loss: 0.4908 - val_accuracy: 0.8400\n",
      "Epoch 6/10\n",
      "106/106 [==============================] - 17s 157ms/step - loss: 0.1505 - accuracy: 0.9380 - val_loss: 0.7027 - val_accuracy: 0.8107\n",
      "Epoch 7/10\n",
      "106/106 [==============================] - 17s 157ms/step - loss: 0.0932 - accuracy: 0.9674 - val_loss: 0.8897 - val_accuracy: 0.8240\n",
      "Epoch 8/10\n",
      "106/106 [==============================] - 17s 156ms/step - loss: 0.0519 - accuracy: 0.9816 - val_loss: 1.2202 - val_accuracy: 0.8187\n",
      "Epoch 9/10\n",
      "106/106 [==============================] - 17s 156ms/step - loss: 0.0407 - accuracy: 0.9837 - val_loss: 1.3086 - val_accuracy: 0.8427\n",
      "Epoch 10/10\n",
      "106/106 [==============================] - 17s 156ms/step - loss: 0.0194 - accuracy: 0.9920 - val_loss: 1.3612 - val_accuracy: 0.8267\n"
     ]
    },
    {
     "data": {
      "text/plain": [
       "<keras.callbacks.History at 0x7f8945fa1450>"
      ]
     },
     "execution_count": 28,
     "metadata": {},
     "output_type": "execute_result"
    }
   ],
   "source": [
    "model.compile(\n",
    "    optimizer='adam',\n",
    "    loss=keras.losses.SparseCategoricalCrossentropy(),\n",
    "    metrics=['accuracy']\n",
    ")\n",
    "\n",
    "model.fit(\n",
    "    {'quote': X_train_quotes, 'response': X_train_responses},\n",
    "    {'agree_disagree': y_train},\n",
    "    epochs=10,\n",
    "    batch_size=32,\n",
    "    validation_split=0.1\n",
    ")"
   ]
  },
  {
   "cell_type": "code",
   "execution_count": 29,
   "id": "ef2d3944",
   "metadata": {
    "execution": {
     "iopub.execute_input": "2021-11-16T22:31:46.162859Z",
     "iopub.status.busy": "2021-11-16T22:31:46.161998Z",
     "iopub.status.idle": "2021-11-16T22:31:49.670553Z",
     "shell.execute_reply": "2021-11-16T22:31:49.669619Z",
     "shell.execute_reply.started": "2021-11-16T20:55:03.623152Z"
    },
    "papermill": {
     "duration": 5.192004,
     "end_time": "2021-11-16T22:31:49.670708",
     "exception": false,
     "start_time": "2021-11-16T22:31:44.478704",
     "status": "completed"
    },
    "tags": []
   },
   "outputs": [],
   "source": [
    "prediction = model.predict({'quote': X_test_quotes, 'response': X_test_responses})"
   ]
  },
  {
   "cell_type": "code",
   "execution_count": 30,
   "id": "ef5366a8",
   "metadata": {
    "execution": {
     "iopub.execute_input": "2021-11-16T22:31:52.398955Z",
     "iopub.status.busy": "2021-11-16T22:31:52.398075Z",
     "iopub.status.idle": "2021-11-16T22:31:52.400927Z",
     "shell.execute_reply": "2021-11-16T22:31:52.401345Z",
     "shell.execute_reply.started": "2021-11-16T20:55:07.146719Z"
    },
    "papermill": {
     "duration": 1.358866,
     "end_time": "2021-11-16T22:31:52.401481",
     "exception": false,
     "start_time": "2021-11-16T22:31:51.042615",
     "status": "completed"
    },
    "tags": []
   },
   "outputs": [
    {
     "data": {
      "text/plain": [
       "array([[9.9999774e-01, 2.3012635e-06, 4.2625430e-13],\n",
       "       [9.9942493e-01, 5.7510106e-04, 2.5929565e-09],\n",
       "       [9.9996424e-01, 3.5813078e-05, 1.0950401e-10],\n",
       "       ...,\n",
       "       [9.9999869e-01, 1.2872837e-06, 4.9615307e-14],\n",
       "       [5.0058751e-03, 9.9499375e-01, 3.6234914e-07],\n",
       "       [9.8336792e-01, 1.6622867e-02, 9.2403743e-06]], dtype=float32)"
      ]
     },
     "execution_count": 30,
     "metadata": {},
     "output_type": "execute_result"
    }
   ],
   "source": [
    "prediction"
   ]
  },
  {
   "cell_type": "code",
   "execution_count": 31,
   "id": "a7219f5f",
   "metadata": {
    "execution": {
     "iopub.execute_input": "2021-11-16T22:31:55.211786Z",
     "iopub.status.busy": "2021-11-16T22:31:55.210622Z",
     "iopub.status.idle": "2021-11-16T22:31:55.218855Z",
     "shell.execute_reply": "2021-11-16T22:31:55.219281Z",
     "shell.execute_reply.started": "2021-11-16T20:55:07.155735Z"
    },
    "papermill": {
     "duration": 1.397825,
     "end_time": "2021-11-16T22:31:55.219424",
     "exception": false,
     "start_time": "2021-11-16T22:31:53.821599",
     "status": "completed"
    },
    "tags": []
   },
   "outputs": [
    {
     "data": {
      "text/plain": [
       "array([0, 0, 0, 0, 0, 0, 0, 0, 0, 0, 0, 0, 0, 1, 0, 1, 0, 0, 0, 0, 0, 0,\n",
       "       0, 1, 0, 0, 0, 0, 0, 0, 0, 0, 0, 0, 0, 0, 0, 0, 0, 0, 0, 1, 0, 0,\n",
       "       0, 0, 0, 0, 0, 0, 0, 0, 1, 1, 0, 1, 0, 0, 0, 0, 0, 0, 0, 0, 0, 0,\n",
       "       0, 0, 0, 0, 0, 0, 0, 0, 0, 1, 0, 1, 0, 0, 0, 0, 0, 0, 0, 0, 1, 0,\n",
       "       0, 0, 0, 0, 0, 0, 0, 0, 0, 0, 0, 0, 0, 0, 0, 0, 0, 0, 0, 0, 0, 1,\n",
       "       0, 0, 0, 1, 0, 0, 1, 0, 0, 1, 0, 1, 0, 0, 0, 0, 0, 1, 0, 0, 0, 0,\n",
       "       0, 0, 0, 0, 0, 0, 0, 1, 0, 0, 0, 0, 0, 0, 0, 0, 0, 0, 0, 0, 0, 0,\n",
       "       0, 1, 0, 0, 1, 0, 0, 0, 0, 0, 1, 1, 0, 0, 0, 0, 0, 0, 0, 0, 1, 0,\n",
       "       0, 0, 0, 0, 1, 0, 0, 0, 1, 0, 0, 0, 0, 0, 0, 1, 0, 0, 0, 0, 0, 0,\n",
       "       0, 0, 0, 0, 0, 0, 0, 0, 0, 0, 0, 0, 0, 0, 0, 0, 0, 1, 0, 1, 0, 0,\n",
       "       0, 0, 0, 0, 0, 1, 0, 0, 0, 0, 0, 0, 0, 0, 0, 0, 1, 0, 0, 0, 0, 0,\n",
       "       0, 0, 0, 0, 0, 1, 0, 0, 0, 0, 0, 0, 0, 1, 0, 0, 0, 1, 0, 0, 1, 0,\n",
       "       0, 0, 0, 0, 1, 0, 0, 0, 0, 0, 0, 1, 0, 1, 0, 0, 0, 1, 0, 0, 0, 0,\n",
       "       0, 0, 0, 0, 0, 0, 0, 0, 1, 1, 0, 0, 0, 0, 0, 0, 0, 0, 0, 0, 0, 0,\n",
       "       0, 0, 0, 0, 0, 0, 0, 0, 0, 0, 0, 0, 0, 0, 0, 0, 0, 0, 0, 0, 0, 0,\n",
       "       0, 1, 0, 0, 0, 0, 1, 0, 0, 0, 0, 0, 0, 0, 0, 0, 0, 0, 0, 0, 0, 0,\n",
       "       0, 0, 0, 0, 0, 0, 1, 0, 0, 0, 0, 0, 0, 0, 0, 0, 0, 0, 1, 0, 0, 0,\n",
       "       0, 0, 0, 0, 0, 0, 0, 0, 1, 0, 0, 1, 0, 0, 0, 0, 0, 0, 0, 1, 0, 0,\n",
       "       0, 0, 0, 0, 0, 0, 0, 0, 0, 0, 0, 0, 0, 0, 0, 0, 0, 0, 0, 0, 0, 0,\n",
       "       1, 0, 0, 0, 0, 0, 0, 0, 0, 0, 0, 0, 0, 0, 0, 0, 0, 0, 0, 0, 0, 1,\n",
       "       0, 0, 0, 0, 0, 0, 0, 0, 0, 0, 0, 0, 1, 0, 0, 0, 1, 0, 0, 0, 0, 0,\n",
       "       1, 0, 0, 0, 0, 0, 0, 0, 0, 0, 0, 0, 0, 0, 0, 0, 0, 0, 0, 1, 0, 0,\n",
       "       0, 0, 0, 0, 0, 0, 0, 0, 0, 0, 0, 0, 0, 0, 0, 0, 0, 0, 1, 0, 0, 0,\n",
       "       0, 0, 0, 0, 0, 0, 0, 0, 1, 0, 0, 0, 0, 0, 0, 0, 0, 0, 0, 0, 0, 1,\n",
       "       0, 0, 0, 0, 0, 0, 0, 1, 0, 1, 0, 0, 1, 0, 0, 0, 0, 0, 0, 1, 0, 0,\n",
       "       0, 0, 0, 1, 0, 0, 0, 0, 0, 0, 0, 0, 0, 0, 1, 1, 0, 0, 0, 0, 0, 0,\n",
       "       0, 0, 0, 0, 0, 0, 1, 0, 0, 0, 1, 0, 0, 0, 0, 0, 0, 1, 0, 0, 0, 1,\n",
       "       0, 1, 0, 0, 0, 0, 0, 0, 0, 0, 0, 0, 0, 0, 0, 0, 0, 0, 0, 0, 0, 0,\n",
       "       0, 0, 0, 0, 0, 0, 0, 0, 0, 0, 0, 1, 0, 0, 0, 0, 0, 0, 0, 0, 0, 0,\n",
       "       0, 0, 0, 0, 0, 0, 0, 0, 0, 0, 0, 0, 0, 0, 0, 0, 0, 0, 0, 0, 0, 0,\n",
       "       1, 0])"
      ]
     },
     "execution_count": 31,
     "metadata": {},
     "output_type": "execute_result"
    }
   ],
   "source": [
    "r = []\n",
    "for predict in prediction:\n",
    "    label = np.argmax(predict)\n",
    "    r.append(label)\n",
    "    \n",
    "r = np.array(r)\n",
    "\n",
    "r"
   ]
  },
  {
   "cell_type": "code",
   "execution_count": 32,
   "id": "415f45a9",
   "metadata": {
    "execution": {
     "iopub.execute_input": "2021-11-16T22:31:58.249935Z",
     "iopub.status.busy": "2021-11-16T22:31:58.249068Z",
     "iopub.status.idle": "2021-11-16T22:31:58.256677Z",
     "shell.execute_reply": "2021-11-16T22:31:58.257180Z",
     "shell.execute_reply.started": "2021-11-16T20:55:07.172749Z"
    },
    "papermill": {
     "duration": 1.39138,
     "end_time": "2021-11-16T22:31:58.257326",
     "exception": false,
     "start_time": "2021-11-16T22:31:56.865946",
     "status": "completed"
    },
    "tags": []
   },
   "outputs": [
    {
     "name": "stdout",
     "output_type": "stream",
     "text": [
      "              precision    recall  f1-score   support\n",
      "\n",
      "           0       0.90      0.86      0.88       593\n",
      "           1       0.15      0.22      0.18        69\n",
      "\n",
      "    accuracy                           0.79       662\n",
      "   macro avg       0.53      0.54      0.53       662\n",
      "weighted avg       0.83      0.79      0.81       662\n",
      "\n"
     ]
    }
   ],
   "source": [
    "from sklearn.metrics import classification_report\n",
    "print(classification_report(r, y_test))"
   ]
  },
  {
   "cell_type": "code",
   "execution_count": 33,
   "id": "fe93eaf0",
   "metadata": {
    "execution": {
     "iopub.execute_input": "2021-11-16T22:32:01.082547Z",
     "iopub.status.busy": "2021-11-16T22:32:01.081571Z",
     "iopub.status.idle": "2021-11-16T22:32:01.264538Z",
     "shell.execute_reply": "2021-11-16T22:32:01.265193Z",
     "shell.execute_reply.started": "2021-11-16T20:55:07.187083Z"
    },
    "papermill": {
     "duration": 1.599074,
     "end_time": "2021-11-16T22:32:01.265463",
     "exception": false,
     "start_time": "2021-11-16T22:31:59.666389",
     "status": "completed"
    },
    "tags": []
   },
   "outputs": [],
   "source": [
    "model.save(\"double_biGRU.h5\")"
   ]
  },
  {
   "cell_type": "code",
   "execution_count": 34,
   "id": "987c1348",
   "metadata": {
    "execution": {
     "iopub.execute_input": "2021-11-16T22:32:04.026849Z",
     "iopub.status.busy": "2021-11-16T22:32:04.012048Z",
     "iopub.status.idle": "2021-11-16T22:32:05.981279Z",
     "shell.execute_reply": "2021-11-16T22:32:05.981873Z",
     "shell.execute_reply.started": "2021-11-16T20:59:03.852119Z"
    },
    "papermill": {
     "duration": 3.329761,
     "end_time": "2021-11-16T22:32:05.982094",
     "exception": false,
     "start_time": "2021-11-16T22:32:02.652333",
     "status": "completed"
    },
    "tags": []
   },
   "outputs": [
    {
     "name": "stdout",
     "output_type": "stream",
     "text": [
      "1\n"
     ]
    }
   ],
   "source": [
    "import re\n",
    "def agree_predict(quote, response, emotion):\n",
    "    model = keras.models.load_model('double_biGRU_with_emotion_model.h5')\n",
    "    q = tokenizer.texts_to_sequences(np.array([preprocessing(quote)]))\n",
    "    r = tokenizer.texts_to_sequences(np.array([preprocessing(response)]))\n",
    "    e = fact_label_encoding(emotion)\n",
    "    q = sequence.pad_sequences(q, maxlen=1000)\n",
    "    r = sequence.pad_sequences(r, maxlen=1000)\n",
    "    e = np.array([e])\n",
    "    p = model.predict({'quote': q, 'response':r, 'emotion':e})\n",
    "    return np.argmax(p)\n",
    "\n",
    "a = \"I am against suicide because you are basically not only harming yourself, but everyone else around you. Let’s not mention it is a cowards way out. I also have a religious but I CAN explain that reason.\"\n",
    "b = \"So true man people only harm the people they love by dying. I am not religious and religiously and non-religiously suicide is wrong.\"\n",
    "\n",
    "c = \"The majority of the information learned in school is irrelevant to real world skills. Besides, in a voluntary setting, most children would go to school via parents demands where school choice would be much more abundant.\"\n",
    "d = \"Children learn math which is relevant, children learn history which is relvant, children learn the releveant languge to their country, children learn foreign languages which imporoves economic opportunites. My one friend grew up in Baghdad, Iraq, and they don’t play when it comes to education. He started learning English in the 3rd grade I think through graduation which helped his economic ooportunities, and he is an artchitect so the math helped. Please excuse my typos. I have a learning disability\"\n",
    "\n",
    "pr = agree_predict(c, d, \"feeling-based\")\n",
    "print(pr)\n",
    "    "
   ]
  },
  {
   "cell_type": "code",
   "execution_count": 35,
   "id": "7a121489",
   "metadata": {
    "execution": {
     "iopub.execute_input": "2021-11-16T22:32:08.996045Z",
     "iopub.status.busy": "2021-11-16T22:32:08.995369Z",
     "iopub.status.idle": "2021-11-16T22:32:09.145793Z",
     "shell.execute_reply": "2021-11-16T22:32:09.145274Z",
     "shell.execute_reply.started": "2021-11-16T20:59:08.446209Z"
    },
    "papermill": {
     "duration": 1.610344,
     "end_time": "2021-11-16T22:32:09.145920",
     "exception": false,
     "start_time": "2021-11-16T22:32:07.535576",
     "status": "completed"
    },
    "tags": []
   },
   "outputs": [
    {
     "name": "stdout",
     "output_type": "stream",
     "text": [
      "                                     presented_quote  \\\n",
      "0  i get a good idea however they do tend to stay...   \n",
      "1  be sure to give your gun a big fat kiss tonigh...   \n",
      "2  one of the big argument against gun control be...   \n",
      "3  first of all compare the b specimen in your fo...   \n",
      "4  there be some incedents that be beyond your co...   \n",
      "\n",
      "                                  presented_response   emotion_fact  \\\n",
      "0  by your own admission you havent hang out with...  feeling-based   \n",
      "1  actually they didnt the whole tragedy be cause...         unsure   \n",
      "2  not quite to be more correct regard government...     fact-based   \n",
      "3  at your servicecomparisoni couldve just circle...         unsure   \n",
      "4                                           well yes  feeling-based   \n",
      "\n",
      "  disagree_agree plain_sarcasm  \\\n",
      "0   disagreement        unsure   \n",
      "1   disagreement        unsure   \n",
      "2   disagreement    no_sarcasm   \n",
      "3   disagreement        unsure   \n",
      "4      agreement    no_sarcasm   \n",
      "\n",
      "                                 presented_quote_tag  \\\n",
      "0    NN VBP DT JJ NN RB PRP VBP VB TO VB IN PRP$ JJ    \n",
      "1  VB JJ TO VB PRP$ NN DT JJ NN NN NN IN PRP VBP ...   \n",
      "2  CD IN DT JJ NN IN NN NN VB IN IN DT NN VB RB J...   \n",
      "3  RB IN DT VBP DT NN NNS IN PRP$ NN NN TO DT JJ ...   \n",
      "4  RB VB DT NNS WDT VB IN PRP$ NN IN PRP VBP DT N...   \n",
      "\n",
      "                              presented_response_tag  \n",
      "0  IN PRP$ JJ NN PRP VBP VB RP IN NN IN DT NN CC ...  \n",
      "1  RB PRP VBP DT JJ NN VB VBN IN NN NN IN RB CD N...  \n",
      "2  RB RB TO VB RBR JJ JJ NN CC VB DT NN TO VB NN ...  \n",
      "3  IN PRP$ JJ NN RB VB DT JJ NN CC DT VBP PRP JJ ...  \n",
      "4                                             RB RB   \n"
     ]
    }
   ],
   "source": [
    "import pickle\n",
    "\n",
    "file = open(\"../input/quote-response/quotexresponseprocessed.pkl\", \"rb\")\n",
    "df = pickle.load(file)\n",
    "file.close()\n",
    "print(df.head())"
   ]
  },
  {
   "cell_type": "code",
   "execution_count": 36,
   "id": "126f7d78",
   "metadata": {
    "execution": {
     "iopub.execute_input": "2021-11-16T22:32:11.872759Z",
     "iopub.status.busy": "2021-11-16T22:32:11.872229Z",
     "iopub.status.idle": "2021-11-16T22:32:11.879878Z",
     "shell.execute_reply": "2021-11-16T22:32:11.879395Z",
     "shell.execute_reply.started": "2021-11-16T20:59:11.09535Z"
    },
    "papermill": {
     "duration": 1.372184,
     "end_time": "2021-11-16T22:32:11.879995",
     "exception": false,
     "start_time": "2021-11-16T22:32:10.507811",
     "status": "completed"
    },
    "tags": []
   },
   "outputs": [],
   "source": [
    "df = df.loc[:, ['presented_quote', 'presented_response', 'disagree_agree', 'presented_response_tag', 'emotion_fact']]"
   ]
  },
  {
   "cell_type": "code",
   "execution_count": 37,
   "id": "a97a4242",
   "metadata": {
    "execution": {
     "iopub.execute_input": "2021-11-16T22:32:14.625809Z",
     "iopub.status.busy": "2021-11-16T22:32:14.625082Z",
     "iopub.status.idle": "2021-11-16T22:33:24.179632Z",
     "shell.execute_reply": "2021-11-16T22:33:24.179118Z",
     "shell.execute_reply.started": "2021-11-16T20:59:11.302105Z"
    },
    "papermill": {
     "duration": 70.951165,
     "end_time": "2021-11-16T22:33:24.179769",
     "exception": false,
     "start_time": "2021-11-16T22:32:13.228604",
     "status": "completed"
    },
    "tags": []
   },
   "outputs": [],
   "source": [
    "df['presented_quote'] = df['presented_quote'].apply(lambda x: preprocessing(x))\n",
    "df['presented_response'] = df['presented_response'].apply(lambda x: preprocessing(x))\n",
    "df['disagree_agree'] = df['disagree_agree'].apply(lambda x: agreement_label_encoding(x))\n",
    "df['emotion_fact'] = df['emotion_fact'].apply(lambda x: fact_label_encoding(x))"
   ]
  },
  {
   "cell_type": "code",
   "execution_count": 38,
   "id": "cdc656be",
   "metadata": {
    "execution": {
     "iopub.execute_input": "2021-11-16T22:33:27.135551Z",
     "iopub.status.busy": "2021-11-16T22:33:27.134799Z",
     "iopub.status.idle": "2021-11-16T22:33:27.143091Z",
     "shell.execute_reply": "2021-11-16T22:33:27.142631Z",
     "shell.execute_reply.started": "2021-11-16T21:00:20.139633Z"
    },
    "papermill": {
     "duration": 1.351798,
     "end_time": "2021-11-16T22:33:27.143213",
     "exception": false,
     "start_time": "2021-11-16T22:33:25.791415",
     "status": "completed"
    },
    "tags": []
   },
   "outputs": [],
   "source": [
    "from sklearn.model_selection import train_test_split\n",
    "\n",
    "X = df.loc[:, ['presented_quote', 'presented_response', 'emotion_fact']]\n",
    "y = df.loc[:, ['disagree_agree']]\n",
    "\n",
    "X_train, X_test, y_train, y_test = train_test_split(X, y, test_size=0.15, random_state=20)"
   ]
  },
  {
   "cell_type": "code",
   "execution_count": 39,
   "id": "20c1581c",
   "metadata": {
    "execution": {
     "iopub.execute_input": "2021-11-16T22:33:29.848041Z",
     "iopub.status.busy": "2021-11-16T22:33:29.847156Z",
     "iopub.status.idle": "2021-11-16T22:33:29.858003Z",
     "shell.execute_reply": "2021-11-16T22:33:29.857572Z",
     "shell.execute_reply.started": "2021-11-16T21:00:20.15233Z"
    },
    "papermill": {
     "duration": 1.374485,
     "end_time": "2021-11-16T22:33:29.858154",
     "exception": false,
     "start_time": "2021-11-16T22:33:28.483669",
     "status": "completed"
    },
    "tags": []
   },
   "outputs": [],
   "source": [
    "X_train_quotes = X_train['presented_quote'].values\n",
    "X_train_responses = X_train['presented_response'].values\n",
    "X_train_emotion = X_train['emotion_fact'].values\n",
    "\n",
    "X_test_quotes = X_test['presented_quote'].values\n",
    "X_test_responses = X_test['presented_response'].values\n",
    "X_test_emotion = X_test['emotion_fact'].values\n",
    "y_train = y_train['disagree_agree'].values\n",
    "y_test = y_test['disagree_agree'].values\n",
    "\n",
    "X_train_text = X_train_quotes + X_train_responses"
   ]
  },
  {
   "cell_type": "code",
   "execution_count": 40,
   "id": "f8e86e7c",
   "metadata": {
    "execution": {
     "iopub.execute_input": "2021-11-16T22:33:32.666947Z",
     "iopub.status.busy": "2021-11-16T22:33:32.625495Z",
     "iopub.status.idle": "2021-11-16T22:33:34.451838Z",
     "shell.execute_reply": "2021-11-16T22:33:34.451348Z",
     "shell.execute_reply.started": "2021-11-16T21:00:20.168719Z"
    },
    "papermill": {
     "duration": 3.194687,
     "end_time": "2021-11-16T22:33:34.451978",
     "exception": false,
     "start_time": "2021-11-16T22:33:31.257291",
     "status": "completed"
    },
    "tags": []
   },
   "outputs": [],
   "source": [
    "tokenizer = Tokenizer(num_words=300000)\n",
    "tokenizer.fit_on_texts(list(X_train_text))\n",
    "\n",
    "X_train_quotes = tokenizer.texts_to_sequences(X_train_quotes)\n",
    "X_train_responses = tokenizer.texts_to_sequences(X_train_responses)\n",
    "X_test_quotes = tokenizer.texts_to_sequences(X_test_quotes)\n",
    "X_test_responses = tokenizer.texts_to_sequences(X_test_responses)\n",
    "\n",
    "X_train_quotes = sequence.pad_sequences(X_train_quotes, maxlen=1000)\n",
    "X_train_responses = sequence.pad_sequences(X_train_responses, maxlen=1000)\n",
    "X_test_quotes = sequence.pad_sequences(X_test_quotes, maxlen=1000)\n",
    "X_test_responses = sequence.pad_sequences(X_test_responses, maxlen=1000)"
   ]
  },
  {
   "cell_type": "code",
   "execution_count": 41,
   "id": "edf1bd59",
   "metadata": {
    "execution": {
     "iopub.execute_input": "2021-11-16T22:33:37.412782Z",
     "iopub.status.busy": "2021-11-16T22:33:37.411912Z",
     "iopub.status.idle": "2021-11-16T22:33:38.170860Z",
     "shell.execute_reply": "2021-11-16T22:33:38.170328Z",
     "shell.execute_reply.started": "2021-11-16T21:00:21.890065Z"
    },
    "papermill": {
     "duration": 2.120172,
     "end_time": "2021-11-16T22:33:38.170995",
     "exception": false,
     "start_time": "2021-11-16T22:33:36.050823",
     "status": "completed"
    },
    "tags": []
   },
   "outputs": [],
   "source": [
    "quote_input    = keras.Input(shape=(None,), name='quote')\n",
    "response_input = keras.Input(shape=(None,), name='response')\n",
    "\n",
    "emotion_input = keras.Input(shape=(1,), name='emotion')\n",
    "\n",
    "quote_feature    = layers.Embedding(fasttext_matrix.shape[0], input_length=1000, output_dim=fasttext_matrix.shape[1], weights=[fasttext_matrix], trainable=False)(quote_input)\n",
    "response_feature = layers.Embedding(fasttext_matrix.shape[0], input_length=1000, output_dim=fasttext_matrix.shape[1], weights=[fasttext_matrix], trainable=False)(response_input)\n",
    "\n",
    "quote_feature    = layers.Bidirectional(GRU(100, return_sequences=False))(quote_feature)\n",
    "# quote_feature    = layers.LSTM(100, return_sequences=False)(quote_feature)\n",
    "\n",
    "response_feature = layers.Bidirectional(GRU(100, return_sequences=False))(response_feature)\n",
    "# response_feature = layers.LSTM(25, return_sequences=False)(response_feature)\n",
    "\n",
    "# emotion_feature = layers.Dense(1, activation='relu')(emotion_input)\n",
    "\n",
    "double = layers.concatenate([quote_feature, response_feature, emotion_input])\n",
    "\n",
    "dense1  = layers.Dense(200, activation='relu')(double)\n",
    "\n",
    "# dense  = layers.Dropout(0.3)(dense)  \n",
    "dense2  = layers.Dense(200, activation='relu')(dense1)\n",
    "\n",
    "dense3  = layers.Dense(200, activation='relu')(dense2)\n",
    "\n",
    "pred   = layers.Dense(3, activation='softmax', name='agree_disagree')(dense3)\n",
    "\n",
    "model = keras.Model(inputs=[quote_input, response_input, emotion_input], outputs=[pred],)\n"
   ]
  },
  {
   "cell_type": "code",
   "execution_count": 42,
   "id": "3e845c07",
   "metadata": {
    "execution": {
     "iopub.execute_input": "2021-11-16T22:33:40.907015Z",
     "iopub.status.busy": "2021-11-16T22:33:40.906149Z",
     "iopub.status.idle": "2021-11-16T22:40:07.053692Z",
     "shell.execute_reply": "2021-11-16T22:40:07.053155Z",
     "shell.execute_reply.started": "2021-11-16T21:01:05.519143Z"
    },
    "papermill": {
     "duration": 387.510408,
     "end_time": "2021-11-16T22:40:07.053835",
     "exception": false,
     "start_time": "2021-11-16T22:33:39.543427",
     "status": "completed"
    },
    "tags": []
   },
   "outputs": [
    {
     "name": "stdout",
     "output_type": "stream",
     "text": [
      "Epoch 1/10\n",
      "239/239 [==============================] - 43s 161ms/step - loss: 0.8978 - accuracy: 0.6130 - val_loss: 0.8804 - val_accuracy: 0.6172\n",
      "Epoch 2/10\n",
      "239/239 [==============================] - 37s 156ms/step - loss: 0.8480 - accuracy: 0.6224 - val_loss: 0.8932 - val_accuracy: 0.6113\n",
      "Epoch 3/10\n",
      "239/239 [==============================] - 37s 156ms/step - loss: 0.7857 - accuracy: 0.6468 - val_loss: 0.9026 - val_accuracy: 0.5960\n",
      "Epoch 4/10\n",
      "239/239 [==============================] - 37s 156ms/step - loss: 0.6856 - accuracy: 0.6954 - val_loss: 1.0114 - val_accuracy: 0.5995\n",
      "Epoch 5/10\n",
      "239/239 [==============================] - 37s 156ms/step - loss: 0.5474 - accuracy: 0.7639 - val_loss: 1.1216 - val_accuracy: 0.5442\n",
      "Epoch 6/10\n",
      "239/239 [==============================] - 37s 156ms/step - loss: 0.3876 - accuracy: 0.8418 - val_loss: 1.3415 - val_accuracy: 0.5795\n",
      "Epoch 7/10\n",
      "239/239 [==============================] - 37s 156ms/step - loss: 0.2498 - accuracy: 0.9053 - val_loss: 1.8724 - val_accuracy: 0.5230\n",
      "Epoch 8/10\n",
      "239/239 [==============================] - 37s 156ms/step - loss: 0.1598 - accuracy: 0.9400 - val_loss: 2.2581 - val_accuracy: 0.5218\n",
      "Epoch 9/10\n",
      "239/239 [==============================] - 37s 156ms/step - loss: 0.1009 - accuracy: 0.9653 - val_loss: 2.6017 - val_accuracy: 0.5548\n",
      "Epoch 10/10\n",
      "239/239 [==============================] - 37s 156ms/step - loss: 0.0815 - accuracy: 0.9724 - val_loss: 2.7458 - val_accuracy: 0.5583\n"
     ]
    },
    {
     "data": {
      "text/plain": [
       "<keras.callbacks.History at 0x7f89e1366250>"
      ]
     },
     "execution_count": 42,
     "metadata": {},
     "output_type": "execute_result"
    }
   ],
   "source": [
    "model.compile(\n",
    "    optimizer='adam',\n",
    "    loss=keras.losses.SparseCategoricalCrossentropy(),\n",
    "    metrics=['accuracy']\n",
    ")\n",
    "\n",
    "model.fit(\n",
    "    {'quote': X_train_quotes, 'response': X_train_responses, 'emotion': X_train_emotion},\n",
    "    {'agree_disagree': y_train},\n",
    "    epochs=10,\n",
    "    batch_size=32,\n",
    "    validation_split=0.1\n",
    ")"
   ]
  },
  {
   "cell_type": "code",
   "execution_count": 43,
   "id": "d343fb8e",
   "metadata": {
    "execution": {
     "iopub.execute_input": "2021-11-16T22:40:11.111495Z",
     "iopub.status.busy": "2021-11-16T22:40:11.110581Z",
     "iopub.status.idle": "2021-11-16T22:40:17.284774Z",
     "shell.execute_reply": "2021-11-16T22:40:17.283789Z",
     "shell.execute_reply.started": "2021-11-16T21:07:32.072871Z"
    },
    "papermill": {
     "duration": 8.218445,
     "end_time": "2021-11-16T22:40:17.284921",
     "exception": false,
     "start_time": "2021-11-16T22:40:09.066476",
     "status": "completed"
    },
    "tags": []
   },
   "outputs": [],
   "source": [
    "prediction = model.predict({'quote': X_test_quotes, 'response': X_test_responses, 'emotion': X_test_emotion})"
   ]
  },
  {
   "cell_type": "code",
   "execution_count": 44,
   "id": "a7b72aaa",
   "metadata": {
    "execution": {
     "iopub.execute_input": "2021-11-16T22:40:21.265824Z",
     "iopub.status.busy": "2021-11-16T22:40:21.264987Z",
     "iopub.status.idle": "2021-11-16T22:40:21.274496Z",
     "shell.execute_reply": "2021-11-16T22:40:21.274006Z",
     "shell.execute_reply.started": "2021-11-16T21:08:22.62807Z"
    },
    "papermill": {
     "duration": 2.024889,
     "end_time": "2021-11-16T22:40:21.274612",
     "exception": false,
     "start_time": "2021-11-16T22:40:19.249723",
     "status": "completed"
    },
    "tags": []
   },
   "outputs": [
    {
     "data": {
      "text/plain": [
       "array([0, 0, 0, ..., 0, 2, 2])"
      ]
     },
     "execution_count": 44,
     "metadata": {},
     "output_type": "execute_result"
    }
   ],
   "source": [
    "r = []\n",
    "for predict in prediction:\n",
    "    label = np.argmax(predict)\n",
    "    r.append(label)\n",
    "    \n",
    "r = np.array(r)\n",
    "\n",
    "r"
   ]
  },
  {
   "cell_type": "code",
   "execution_count": 45,
   "id": "43db5797",
   "metadata": {
    "execution": {
     "iopub.execute_input": "2021-11-16T22:40:25.447791Z",
     "iopub.status.busy": "2021-11-16T22:40:25.446909Z",
     "iopub.status.idle": "2021-11-16T22:40:25.454173Z",
     "shell.execute_reply": "2021-11-16T22:40:25.454579Z",
     "shell.execute_reply.started": "2021-11-16T21:08:30.389185Z"
    },
    "papermill": {
     "duration": 1.974683,
     "end_time": "2021-11-16T22:40:25.454743",
     "exception": false,
     "start_time": "2021-11-16T22:40:23.480060",
     "status": "completed"
    },
    "tags": []
   },
   "outputs": [
    {
     "name": "stdout",
     "output_type": "stream",
     "text": [
      "              precision    recall  f1-score   support\n",
      "\n",
      "           0       0.68      0.68      0.68       943\n",
      "           1       0.16      0.23      0.19       124\n",
      "           2       0.32      0.28      0.30       431\n",
      "\n",
      "    accuracy                           0.53      1498\n",
      "   macro avg       0.39      0.40      0.39      1498\n",
      "weighted avg       0.53      0.53      0.53      1498\n",
      "\n"
     ]
    }
   ],
   "source": [
    "from sklearn.metrics import classification_report\n",
    "print(classification_report(r, y_test))"
   ]
  },
  {
   "cell_type": "code",
   "execution_count": null,
   "id": "912b7778",
   "metadata": {
    "papermill": {
     "duration": 2.040715,
     "end_time": "2021-11-16T22:40:29.468660",
     "exception": false,
     "start_time": "2021-11-16T22:40:27.427945",
     "status": "completed"
    },
    "tags": []
   },
   "outputs": [],
   "source": []
  }
 ],
 "metadata": {
  "kernelspec": {
   "display_name": "Python 3",
   "language": "python",
   "name": "python3"
  },
  "language_info": {
   "codemirror_mode": {
    "name": "ipython",
    "version": 3
   },
   "file_extension": ".py",
   "mimetype": "text/x-python",
   "name": "python",
   "nbconvert_exporter": "python",
   "pygments_lexer": "ipython3",
   "version": "3.7.10"
  },
  "papermill": {
   "default_parameters": {},
   "duration": 1353.874392,
   "end_time": "2021-11-16T22:40:34.841701",
   "environment_variables": {},
   "exception": null,
   "input_path": "__notebook__.ipynb",
   "output_path": "__notebook__.ipynb",
   "parameters": {},
   "start_time": "2021-11-16T22:18:00.967309",
   "version": "2.3.3"
  }
 },
 "nbformat": 4,
 "nbformat_minor": 5
}
