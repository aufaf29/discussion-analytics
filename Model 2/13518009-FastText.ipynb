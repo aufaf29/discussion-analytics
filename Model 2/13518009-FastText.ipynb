{
 "cells": [
  {
   "cell_type": "markdown",
   "id": "3e924285",
   "metadata": {
    "papermill": {
     "duration": 0.022889,
     "end_time": "2021-11-16T16:25:15.646592",
     "exception": false,
     "start_time": "2021-11-16T16:25:15.623703",
     "status": "completed"
    },
    "tags": []
   },
   "source": [
    "## Import Library"
   ]
  },
  {
   "cell_type": "code",
   "execution_count": 1,
   "id": "44595003",
   "metadata": {
    "execution": {
     "iopub.execute_input": "2021-11-16T16:25:15.702196Z",
     "iopub.status.busy": "2021-11-16T16:25:15.701229Z",
     "iopub.status.idle": "2021-11-16T16:25:22.284062Z",
     "shell.execute_reply": "2021-11-16T16:25:22.284720Z",
     "shell.execute_reply.started": "2021-11-16T15:52:30.378491Z"
    },
    "papermill": {
     "duration": 6.617136,
     "end_time": "2021-11-16T16:25:22.285072",
     "exception": false,
     "start_time": "2021-11-16T16:25:15.667936",
     "status": "completed"
    },
    "tags": []
   },
   "outputs": [
    {
     "name": "stdout",
     "output_type": "stream",
     "text": [
      "[nltk_data] Downloading package wordnet to /usr/share/nltk_data...\n",
      "[nltk_data]   Package wordnet is already up-to-date!\n",
      "[nltk_data] Downloading package averaged_perceptron_tagger to\n",
      "[nltk_data]     /usr/share/nltk_data...\n",
      "[nltk_data]   Package averaged_perceptron_tagger is already up-to-\n",
      "[nltk_data]       date!\n"
     ]
    }
   ],
   "source": [
    "import re\n",
    "import nltk\n",
    "import string\n",
    "import codecs\n",
    "import warnings\n",
    "import numpy as np\n",
    "import pandas as pd\n",
    "import fasttext.util\n",
    "import seaborn as sns\n",
    "import tensorflow as tf\n",
    "import matplotlib.pyplot as plt\n",
    "\n",
    "from sklearn.metrics import classification_report, confusion_matrix\n",
    "\n",
    "from tensorflow import keras\n",
    "from tensorflow.keras import layers, models, initializers, regularizers, constraints, optimizers\n",
    "from tensorflow.keras.models import Sequential\n",
    "from tensorflow.keras.layers import Input, Dense, Conv1D, Embedding, Dropout, GlobalMaxPool1D, SpatialDropout1D, BatchNormalization, Bidirectional, LSTM, GlobalMaxPooling1D, MaxPooling1D, Flatten\n",
    "from tensorflow.keras.preprocessing.text import Tokenizer\n",
    "from tensorflow.keras.preprocessing.sequence import pad_sequences\n",
    "from tensorflow.keras.preprocessing import text, sequence\n",
    "\n",
    "from tqdm import tqdm\n",
    "from gensim.models.word2vec import Word2Vec\n",
    "\n",
    "from nltk.corpus import stopwords\n",
    "from nltk.corpus import wordnet\n",
    "from nltk.tokenize import word_tokenize \n",
    "from nltk.stem import WordNetLemmatizer \n",
    "\n",
    "nltk.download('wordnet')\n",
    "nltk.download('averaged_perceptron_tagger')\n",
    "\n",
    "warnings.simplefilter(action=\"ignore\", category=FutureWarning)"
   ]
  },
  {
   "cell_type": "markdown",
   "id": "b83f7a93",
   "metadata": {
    "papermill": {
     "duration": 0.018764,
     "end_time": "2021-11-16T16:25:22.324339",
     "exception": false,
     "start_time": "2021-11-16T16:25:22.305575",
     "status": "completed"
    },
    "tags": []
   },
   "source": [
    "## Preparation\n",
    "\n",
    "Menyiapkan fungsi-fungsi yang dibutuhkan untuk melakukan pemrosesan seperti pembangkit index embedding, matriks embedding, hingga preprocessing teks. "
   ]
  },
  {
   "cell_type": "code",
   "execution_count": 2,
   "id": "d70df76d",
   "metadata": {
    "execution": {
     "iopub.execute_input": "2021-11-16T16:25:22.379657Z",
     "iopub.status.busy": "2021-11-16T16:25:22.378808Z",
     "iopub.status.idle": "2021-11-16T16:25:22.380753Z",
     "shell.execute_reply": "2021-11-16T16:25:22.381263Z",
     "shell.execute_reply.started": "2021-11-16T15:52:36.704891Z"
    },
    "papermill": {
     "duration": 0.037914,
     "end_time": "2021-11-16T16:25:22.381390",
     "exception": false,
     "start_time": "2021-11-16T16:25:22.343476",
     "status": "completed"
    },
    "tags": []
   },
   "outputs": [],
   "source": [
    "lemmatizer = WordNetLemmatizer()\n",
    "\n",
    "def fasttext_embedding():\n",
    "    \n",
    "    dictionary = {}\n",
    "    file = codecs.open('../input/fast-text-embeddings-without-subwords/crawl-300d-2M.vec/crawl-300d-2M.vec', encoding='utf-8')\n",
    "    for line in tqdm(file, desc=\"Load Vector Model \"):\n",
    "        values = line.rstrip().rsplit(' ')\n",
    "        word, coefs = values[0], np.asarray(values[1:], dtype='float32')\n",
    "        dictionary[word] = coefs\n",
    "    file.close()\n",
    "    return dictionary\n",
    "\n",
    "def embedding_matrix(tokenizer, embeddings_index, size):\n",
    "    embedding_matrix = np.zeros((len(tokenizer.word_index)+1, size))\n",
    "\n",
    "    for word, i in tokenizer.word_index.items():\n",
    "        embedding_vector = embeddings_index.get(word)\n",
    "        if embedding_vector is not None:\n",
    "            embedding_matrix[i] = embedding_vector\n",
    "    return embedding_matrix\n",
    "\n",
    "def longest_sentence(sentences):\n",
    "    max = 0\n",
    "    idx = 0\n",
    "    for i in range(len(sentences)):\n",
    "        words = sentences[i].split(' ')\n",
    "        if(len(words) > max):\n",
    "            max = len(words)\n",
    "            idx = i\n",
    "    return max, idx\n",
    "\n",
    "def label_encoding(label):\n",
    "    if(label == 'fact-based'):\n",
    "        return 0\n",
    "    elif(label == 'feeling-based'):\n",
    "        return 1\n",
    "    else:\n",
    "        return 2\n",
    "    \n",
    "def nltk_tag_to_wordnet_tag(nltk_tag):\n",
    "    if nltk_tag.startswith('J'):\n",
    "        return wordnet.ADJ\n",
    "    elif nltk_tag.startswith('V'):\n",
    "        return wordnet.VERB\n",
    "    elif nltk_tag.startswith('N'):\n",
    "        return wordnet.NOUN\n",
    "    elif nltk_tag.startswith('R'):\n",
    "        return wordnet.ADV\n",
    "    else:          \n",
    "        return None\n",
    "    \n",
    "def lemmatize_sentence(sentence):\n",
    "\n",
    "    nltk_tagged = nltk.pos_tag(nltk.word_tokenize(sentence))  \n",
    "    wordnet_tagged = map(lambda x: (x[0], nltk_tag_to_wordnet_tag(x[1])), nltk_tagged)\n",
    "    \n",
    "    lemmatized_sentence = []\n",
    "    for word, tag in wordnet_tagged:\n",
    "        if tag is None:\n",
    "            lemmatized_sentence.append(word)\n",
    "        else:        \n",
    "            lemmatized_sentence.append(lemmatizer.lemmatize(word, tag))\n",
    "    return \" \".join(lemmatized_sentence)\n",
    "\n",
    "def sentence_pos_tag(sentence):\n",
    "    text = word_tokenize(sentence)\n",
    "    pos_tag = nltk.pos_tag(text)\n",
    "    pos_tag_res = ''\n",
    "    for i in range(len(pos_tag)):\n",
    "        pos_tag_res += pos_tag[i][1]\n",
    "        pos_tag_res += ' ' if i != len(sentence)-1 else '' \n",
    "    return pos_tag_res\n",
    "\n",
    "def preprocessing(text):\n",
    "    text = text.lower()\n",
    "    text = text.strip()\n",
    "    text = re.sub(r\" \\d+ \", \" \", text)\n",
    "    text = text.translate(str.maketrans(\"\", \"\", string.punctuation))\n",
    "    text = re.sub(r\"[^a-z ]\", \"\", text)\n",
    "    text = re.sub(r\"  \", \" \", text)\n",
    "    text = lemmatize_sentence(text)\n",
    "    return text"
   ]
  },
  {
   "cell_type": "markdown",
   "id": "cde51afe",
   "metadata": {
    "papermill": {
     "duration": 0.018479,
     "end_time": "2021-11-16T16:25:22.418482",
     "exception": false,
     "start_time": "2021-11-16T16:25:22.400003",
     "status": "completed"
    },
    "tags": []
   },
   "source": [
    "### Load Dataset\n",
    "\n",
    "Dataset menggunakan hasil object python yang sudah diproses agar lebih cepat dan mudah dalam melakukan run berkali kali untuk keperluan eksperimen."
   ]
  },
  {
   "cell_type": "code",
   "execution_count": 3,
   "id": "1ee92cb2",
   "metadata": {
    "execution": {
     "iopub.execute_input": "2021-11-16T16:25:22.459366Z",
     "iopub.status.busy": "2021-11-16T16:25:22.458862Z",
     "iopub.status.idle": "2021-11-16T16:25:22.631131Z",
     "shell.execute_reply": "2021-11-16T16:25:22.630560Z",
     "shell.execute_reply.started": "2021-11-16T15:52:36.727626Z"
    },
    "papermill": {
     "duration": 0.194248,
     "end_time": "2021-11-16T16:25:22.631260",
     "exception": false,
     "start_time": "2021-11-16T16:25:22.437012",
     "status": "completed"
    },
    "tags": []
   },
   "outputs": [],
   "source": [
    "import pickle\n",
    "\n",
    "file = open(\"../input/quote-response/quotexresponseprocessed.pkl\", \"rb\")\n",
    "df = pickle.load(file)\n",
    "file.close()"
   ]
  },
  {
   "cell_type": "code",
   "execution_count": 4,
   "id": "2fc523c2",
   "metadata": {
    "execution": {
     "iopub.execute_input": "2021-11-16T16:25:22.678898Z",
     "iopub.status.busy": "2021-11-16T16:25:22.678224Z",
     "iopub.status.idle": "2021-11-16T16:25:22.703640Z",
     "shell.execute_reply": "2021-11-16T16:25:22.704101Z",
     "shell.execute_reply.started": "2021-11-16T15:52:36.933247Z"
    },
    "papermill": {
     "duration": 0.052963,
     "end_time": "2021-11-16T16:25:22.704245",
     "exception": false,
     "start_time": "2021-11-16T16:25:22.651282",
     "status": "completed"
    },
    "tags": []
   },
   "outputs": [
    {
     "data": {
      "text/html": [
       "<div>\n",
       "<style scoped>\n",
       "    .dataframe tbody tr th:only-of-type {\n",
       "        vertical-align: middle;\n",
       "    }\n",
       "\n",
       "    .dataframe tbody tr th {\n",
       "        vertical-align: top;\n",
       "    }\n",
       "\n",
       "    .dataframe thead th {\n",
       "        text-align: right;\n",
       "    }\n",
       "</style>\n",
       "<table border=\"1\" class=\"dataframe\">\n",
       "  <thead>\n",
       "    <tr style=\"text-align: right;\">\n",
       "      <th></th>\n",
       "      <th>presented_quote</th>\n",
       "      <th>presented_response</th>\n",
       "      <th>emotion_fact</th>\n",
       "      <th>presented_response_tag</th>\n",
       "    </tr>\n",
       "  </thead>\n",
       "  <tbody>\n",
       "    <tr>\n",
       "      <th>0</th>\n",
       "      <td>i get a good idea however they do tend to stay...</td>\n",
       "      <td>by your own admission you havent hang out with...</td>\n",
       "      <td>feeling-based</td>\n",
       "      <td>IN PRP$ JJ NN PRP VBP VB RP IN NN IN DT NN CC ...</td>\n",
       "    </tr>\n",
       "    <tr>\n",
       "      <th>2</th>\n",
       "      <td>one of the big argument against gun control be...</td>\n",
       "      <td>not quite to be more correct regard government...</td>\n",
       "      <td>fact-based</td>\n",
       "      <td>RB RB TO VB RBR JJ JJ NN CC VB DT NN TO VB NN ...</td>\n",
       "    </tr>\n",
       "    <tr>\n",
       "      <th>4</th>\n",
       "      <td>there be some incedents that be beyond your co...</td>\n",
       "      <td>well yes</td>\n",
       "      <td>feeling-based</td>\n",
       "      <td>RB RB</td>\n",
       "    </tr>\n",
       "    <tr>\n",
       "      <th>6</th>\n",
       "      <td>legality do not matter religous implication do...</td>\n",
       "      <td>exact to the point amp beautiful</td>\n",
       "      <td>feeling-based</td>\n",
       "      <td>NN TO DT NN NN NN</td>\n",
       "    </tr>\n",
       "    <tr>\n",
       "      <th>8</th>\n",
       "      <td>once again you seem to support the killing of ...</td>\n",
       "      <td>base on the idea that people be dispensible pa...</td>\n",
       "      <td>feeling-based</td>\n",
       "      <td>NN IN DT NN WDT NNS VB JJ RB IN PRP VBP PRP$ V...</td>\n",
       "    </tr>\n",
       "    <tr>\n",
       "      <th>...</th>\n",
       "      <td>...</td>\n",
       "      <td>...</td>\n",
       "      <td>...</td>\n",
       "      <td>...</td>\n",
       "    </tr>\n",
       "    <tr>\n",
       "      <th>9977</th>\n",
       "      <td>the id movement form of id state that there be...</td>\n",
       "      <td>that of course be the logical fallacy know as ...</td>\n",
       "      <td>fact-based</td>\n",
       "      <td>DT IN NN VB DT JJ NN VBP IN JJ NN DT NN PRP VB...</td>\n",
       "    </tr>\n",
       "    <tr>\n",
       "      <th>9978</th>\n",
       "      <td>for me it would therefore have make no differe...</td>\n",
       "      <td>it logically follow from the moral foundation ...</td>\n",
       "      <td>feeling-based</td>\n",
       "      <td>PRP RB VBP IN DT JJ NN VBN RP CC PRP VBP TO JJ...</td>\n",
       "    </tr>\n",
       "    <tr>\n",
       "      <th>9979</th>\n",
       "      <td>good thing this argument have never be doneoh ...</td>\n",
       "      <td>and teen sex doesnt by the very nature of its ...</td>\n",
       "      <td>feeling-based</td>\n",
       "      <td>CC JJ NN NN IN DT JJ NN IN PRP$ NN NN IN NN DT...</td>\n",
       "    </tr>\n",
       "    <tr>\n",
       "      <th>9980</th>\n",
       "      <td>i know one thing anything that happen politica...</td>\n",
       "      <td>wasnt sinjin crow about his plan to take the f...</td>\n",
       "      <td>feeling-based</td>\n",
       "      <td>NN NN NN IN PRP$ NN TO VB DT NN NN CC NN TO DT...</td>\n",
       "    </tr>\n",
       "    <tr>\n",
       "      <th>9981</th>\n",
       "      <td>i enjoy botany more than most thing and i have...</td>\n",
       "      <td>hi smallax welcome to the forum i do a search ...</td>\n",
       "      <td>fact-based</td>\n",
       "      <td>NN VBZ JJ TO DT NN NN VBP DT NN CC VBP VBN DT ...</td>\n",
       "    </tr>\n",
       "  </tbody>\n",
       "</table>\n",
       "<p>5850 rows × 4 columns</p>\n",
       "</div>"
      ],
      "text/plain": [
       "                                        presented_quote  \\\n",
       "0     i get a good idea however they do tend to stay...   \n",
       "2     one of the big argument against gun control be...   \n",
       "4     there be some incedents that be beyond your co...   \n",
       "6     legality do not matter religous implication do...   \n",
       "8     once again you seem to support the killing of ...   \n",
       "...                                                 ...   \n",
       "9977  the id movement form of id state that there be...   \n",
       "9978  for me it would therefore have make no differe...   \n",
       "9979  good thing this argument have never be doneoh ...   \n",
       "9980  i know one thing anything that happen politica...   \n",
       "9981  i enjoy botany more than most thing and i have...   \n",
       "\n",
       "                                     presented_response   emotion_fact  \\\n",
       "0     by your own admission you havent hang out with...  feeling-based   \n",
       "2     not quite to be more correct regard government...     fact-based   \n",
       "4                                              well yes  feeling-based   \n",
       "6                      exact to the point amp beautiful  feeling-based   \n",
       "8     base on the idea that people be dispensible pa...  feeling-based   \n",
       "...                                                 ...            ...   \n",
       "9977  that of course be the logical fallacy know as ...     fact-based   \n",
       "9978  it logically follow from the moral foundation ...  feeling-based   \n",
       "9979  and teen sex doesnt by the very nature of its ...  feeling-based   \n",
       "9980  wasnt sinjin crow about his plan to take the f...  feeling-based   \n",
       "9981  hi smallax welcome to the forum i do a search ...     fact-based   \n",
       "\n",
       "                                 presented_response_tag  \n",
       "0     IN PRP$ JJ NN PRP VBP VB RP IN NN IN DT NN CC ...  \n",
       "2     RB RB TO VB RBR JJ JJ NN CC VB DT NN TO VB NN ...  \n",
       "4                                                RB RB   \n",
       "6                                    NN TO DT NN NN NN   \n",
       "8     NN IN DT NN WDT NNS VB JJ RB IN PRP VBP PRP$ V...  \n",
       "...                                                 ...  \n",
       "9977  DT IN NN VB DT JJ NN VBP IN JJ NN DT NN PRP VB...  \n",
       "9978  PRP RB VBP IN DT JJ NN VBN RP CC PRP VBP TO JJ...  \n",
       "9979  CC JJ NN NN IN DT JJ NN IN PRP$ NN NN IN NN DT...  \n",
       "9980  NN NN NN IN PRP$ NN TO VB DT NN NN CC NN TO DT...  \n",
       "9981  NN VBZ JJ TO DT NN NN VBP DT NN CC VBP VBN DT ...  \n",
       "\n",
       "[5850 rows x 4 columns]"
      ]
     },
     "execution_count": 4,
     "metadata": {},
     "output_type": "execute_result"
    }
   ],
   "source": [
    "df = df[df['emotion_fact'] != 'unsure']\n",
    "df = df.loc[:, ['presented_quote', 'presented_response', 'emotion_fact', 'presented_response_tag']]\n",
    "df"
   ]
  },
  {
   "cell_type": "code",
   "execution_count": 5,
   "id": "7299e085",
   "metadata": {
    "execution": {
     "iopub.execute_input": "2021-11-16T16:25:22.746300Z",
     "iopub.status.busy": "2021-11-16T16:25:22.745481Z",
     "iopub.status.idle": "2021-11-16T16:25:22.754730Z",
     "shell.execute_reply": "2021-11-16T16:25:22.754264Z",
     "shell.execute_reply.started": "2021-11-16T15:52:36.967986Z"
    },
    "papermill": {
     "duration": 0.031314,
     "end_time": "2021-11-16T16:25:22.754848",
     "exception": false,
     "start_time": "2021-11-16T16:25:22.723534",
     "status": "completed"
    },
    "tags": []
   },
   "outputs": [],
   "source": [
    "# df['presented_quote'] = df['presented_quote'].apply(lambda x: preprocessing(x))\n",
    "# df['presented_response'] = df['presented_response'].apply(lambda x: preprocessing(x))\n",
    "df['emotion_fact'] = df['emotion_fact'].apply(lambda x: label_encoding(x))"
   ]
  },
  {
   "cell_type": "code",
   "execution_count": 6,
   "id": "a5079c34",
   "metadata": {
    "execution": {
     "iopub.execute_input": "2021-11-16T16:25:22.803715Z",
     "iopub.status.busy": "2021-11-16T16:25:22.802849Z",
     "iopub.status.idle": "2021-11-16T16:25:22.807006Z",
     "shell.execute_reply": "2021-11-16T16:25:22.806593Z",
     "shell.execute_reply.started": "2021-11-16T15:52:36.980553Z"
    },
    "papermill": {
     "duration": 0.033081,
     "end_time": "2021-11-16T16:25:22.807114",
     "exception": false,
     "start_time": "2021-11-16T16:25:22.774033",
     "status": "completed"
    },
    "tags": []
   },
   "outputs": [],
   "source": [
    "from sklearn.model_selection import train_test_split\n",
    "\n",
    "X = df.loc[:, ['presented_quote', 'presented_response', 'presented_response_tag']]\n",
    "y = df.loc[:, ['emotion_fact']]\n",
    "\n",
    "X_train, X_test, y_train, y_test = train_test_split(X, y, test_size=0.15, random_state=20)"
   ]
  },
  {
   "cell_type": "code",
   "execution_count": 7,
   "id": "8d9f1e04",
   "metadata": {
    "execution": {
     "iopub.execute_input": "2021-11-16T16:25:22.852595Z",
     "iopub.status.busy": "2021-11-16T16:25:22.850380Z",
     "iopub.status.idle": "2021-11-16T16:25:22.854957Z",
     "shell.execute_reply": "2021-11-16T16:25:22.854547Z",
     "shell.execute_reply.started": "2021-11-16T15:52:36.993579Z"
    },
    "papermill": {
     "duration": 0.02898,
     "end_time": "2021-11-16T16:25:22.855062",
     "exception": false,
     "start_time": "2021-11-16T16:25:22.826082",
     "status": "completed"
    },
    "tags": []
   },
   "outputs": [],
   "source": [
    "X_train_quotes = X_train['presented_response'].values\n",
    "X_train_responses = X_train['presented_response'].values\n",
    "X_train_responses_tag = X_train['presented_response_tag'].values\n",
    "\n",
    "X_test_quotes = X_test['presented_response'].values\n",
    "X_test_responses = X_test['presented_response'].values\n",
    "X_test_responses_tag = X_test['presented_response_tag'].values\n",
    "\n",
    "y_train = y_train['emotion_fact'].values\n",
    "y_test = y_test['emotion_fact'].values\n",
    "\n",
    "X_train_text = X_train_quotes + X_train_responses"
   ]
  },
  {
   "cell_type": "code",
   "execution_count": 8,
   "id": "3927b285",
   "metadata": {
    "execution": {
     "iopub.execute_input": "2021-11-16T16:25:22.901466Z",
     "iopub.status.busy": "2021-11-16T16:25:22.900579Z",
     "iopub.status.idle": "2021-11-16T16:25:24.652499Z",
     "shell.execute_reply": "2021-11-16T16:25:24.651550Z",
     "shell.execute_reply.started": "2021-11-16T15:52:37.005309Z"
    },
    "papermill": {
     "duration": 1.778591,
     "end_time": "2021-11-16T16:25:24.652639",
     "exception": false,
     "start_time": "2021-11-16T16:25:22.874048",
     "status": "completed"
    },
    "tags": []
   },
   "outputs": [],
   "source": [
    "tokenizer = Tokenizer(num_words=300000)\n",
    "tokenizer.fit_on_texts(list(X_train_text))\n",
    "\n",
    "X_train_quotes = tokenizer.texts_to_sequences(X_train_quotes)\n",
    "X_train_responses = tokenizer.texts_to_sequences(X_train_responses)\n",
    "X_train_responses_tag = tokenizer.texts_to_sequences(X_train_responses_tag)\n",
    "\n",
    "X_test_quotes = tokenizer.texts_to_sequences(X_test_quotes)\n",
    "X_test_responses = tokenizer.texts_to_sequences(X_test_responses)\n",
    "X_test_responses_tag = tokenizer.texts_to_sequences(X_test_responses_tag)\n",
    "\n",
    "X_train_quotes = sequence.pad_sequences(X_train_quotes, maxlen=1000)\n",
    "X_train_responses = sequence.pad_sequences(X_train_responses, maxlen=1000)\n",
    "X_train_responses_tag = sequence.pad_sequences(X_train_responses_tag, maxlen=1000)\n",
    "\n",
    "X_test_quotes = sequence.pad_sequences(X_test_quotes, maxlen=1000)\n",
    "X_test_responses = sequence.pad_sequences(X_test_responses, maxlen=1000)\n",
    "X_test_responses_tag = sequence.pad_sequences(X_test_responses_tag, maxlen=1000)\n"
   ]
  },
  {
   "cell_type": "code",
   "execution_count": 9,
   "id": "def20a91",
   "metadata": {
    "execution": {
     "iopub.execute_input": "2021-11-16T16:25:24.696915Z",
     "iopub.status.busy": "2021-11-16T16:25:24.695970Z",
     "iopub.status.idle": "2021-11-16T16:25:24.699592Z",
     "shell.execute_reply": "2021-11-16T16:25:24.700042Z",
     "shell.execute_reply.started": "2021-11-16T15:52:38.409322Z"
    },
    "papermill": {
     "duration": 0.028049,
     "end_time": "2021-11-16T16:25:24.700175",
     "exception": false,
     "start_time": "2021-11-16T16:25:24.672126",
     "status": "completed"
    },
    "tags": []
   },
   "outputs": [
    {
     "name": "stdout",
     "output_type": "stream",
     "text": [
      "(4972, 1000)\n",
      "(4972, 1000)\n",
      "(878, 1000)\n",
      "(878, 1000)\n"
     ]
    }
   ],
   "source": [
    "print(X_train_quotes.shape)\n",
    "print(X_train_responses.shape)\n",
    "print(X_test_quotes.shape)\n",
    "print(X_test_responses.shape)"
   ]
  },
  {
   "cell_type": "code",
   "execution_count": 10,
   "id": "85bed24a",
   "metadata": {
    "execution": {
     "iopub.execute_input": "2021-11-16T16:25:24.743531Z",
     "iopub.status.busy": "2021-11-16T16:25:24.742847Z",
     "iopub.status.idle": "2021-11-16T16:30:35.565617Z",
     "shell.execute_reply": "2021-11-16T16:30:35.565087Z",
     "shell.execute_reply.started": "2021-11-16T15:52:38.423318Z"
    },
    "papermill": {
     "duration": 310.846054,
     "end_time": "2021-11-16T16:30:35.565747",
     "exception": false,
     "start_time": "2021-11-16T16:25:24.719693",
     "status": "completed"
    },
    "tags": []
   },
   "outputs": [
    {
     "name": "stderr",
     "output_type": "stream",
     "text": [
      "Load Vector Model : 1999996it [05:10, 6436.12it/s]\n"
     ]
    }
   ],
   "source": [
    "fasttext_index = fasttext_embedding()\n",
    "fasttext_matrix = embedding_matrix(tokenizer, fasttext_index, 300)"
   ]
  },
  {
   "cell_type": "markdown",
   "id": "4613c6c8",
   "metadata": {
    "papermill": {
     "duration": 0.805104,
     "end_time": "2021-11-16T16:30:37.160653",
     "exception": false,
     "start_time": "2021-11-16T16:30:36.355549",
     "status": "completed"
    },
    "tags": []
   },
   "source": [
    "## Model 1 (Input Quote dan Response dalam Arsitektur BiLSTM sederhana)"
   ]
  },
  {
   "cell_type": "code",
   "execution_count": 11,
   "id": "df48db30",
   "metadata": {
    "execution": {
     "iopub.execute_input": "2021-11-16T16:30:39.075747Z",
     "iopub.status.busy": "2021-11-16T16:30:39.075044Z",
     "iopub.status.idle": "2021-11-16T16:30:42.854803Z",
     "shell.execute_reply": "2021-11-16T16:30:42.855247Z",
     "shell.execute_reply.started": "2021-11-16T16:00:21.957608Z"
    },
    "papermill": {
     "duration": 4.851791,
     "end_time": "2021-11-16T16:30:42.855454",
     "exception": false,
     "start_time": "2021-11-16T16:30:38.003663",
     "status": "completed"
    },
    "tags": []
   },
   "outputs": [
    {
     "name": "stderr",
     "output_type": "stream",
     "text": [
      "2021-11-16 16:30:39.158499: I tensorflow/stream_executor/cuda/cuda_gpu_executor.cc:937] successful NUMA node read from SysFS had negative value (-1), but there must be at least one NUMA node, so returning NUMA node zero\n",
      "2021-11-16 16:30:39.269041: I tensorflow/stream_executor/cuda/cuda_gpu_executor.cc:937] successful NUMA node read from SysFS had negative value (-1), but there must be at least one NUMA node, so returning NUMA node zero\n",
      "2021-11-16 16:30:39.269851: I tensorflow/stream_executor/cuda/cuda_gpu_executor.cc:937] successful NUMA node read from SysFS had negative value (-1), but there must be at least one NUMA node, so returning NUMA node zero\n",
      "2021-11-16 16:30:39.271096: I tensorflow/core/platform/cpu_feature_guard.cc:142] This TensorFlow binary is optimized with oneAPI Deep Neural Network Library (oneDNN) to use the following CPU instructions in performance-critical operations:  AVX2 AVX512F FMA\n",
      "To enable them in other operations, rebuild TensorFlow with the appropriate compiler flags.\n",
      "2021-11-16 16:30:39.272394: I tensorflow/stream_executor/cuda/cuda_gpu_executor.cc:937] successful NUMA node read from SysFS had negative value (-1), but there must be at least one NUMA node, so returning NUMA node zero\n",
      "2021-11-16 16:30:39.273108: I tensorflow/stream_executor/cuda/cuda_gpu_executor.cc:937] successful NUMA node read from SysFS had negative value (-1), but there must be at least one NUMA node, so returning NUMA node zero\n",
      "2021-11-16 16:30:39.273799: I tensorflow/stream_executor/cuda/cuda_gpu_executor.cc:937] successful NUMA node read from SysFS had negative value (-1), but there must be at least one NUMA node, so returning NUMA node zero\n",
      "2021-11-16 16:30:41.097961: I tensorflow/stream_executor/cuda/cuda_gpu_executor.cc:937] successful NUMA node read from SysFS had negative value (-1), but there must be at least one NUMA node, so returning NUMA node zero\n",
      "2021-11-16 16:30:41.098866: I tensorflow/stream_executor/cuda/cuda_gpu_executor.cc:937] successful NUMA node read from SysFS had negative value (-1), but there must be at least one NUMA node, so returning NUMA node zero\n",
      "2021-11-16 16:30:41.099580: I tensorflow/stream_executor/cuda/cuda_gpu_executor.cc:937] successful NUMA node read from SysFS had negative value (-1), but there must be at least one NUMA node, so returning NUMA node zero\n",
      "2021-11-16 16:30:41.100197: I tensorflow/core/common_runtime/gpu/gpu_device.cc:1510] Created device /job:localhost/replica:0/task:0/device:GPU:0 with 15403 MB memory:  -> device: 0, name: Tesla P100-PCIE-16GB, pci bus id: 0000:00:04.0, compute capability: 6.0\n"
     ]
    }
   ],
   "source": [
    "quote_input    = keras.Input(shape=(None,), name='quote')\n",
    "response_input = keras.Input(shape=(None,), name='response')\n",
    "\n",
    "quote_feature    = layers.Embedding(fasttext_matrix.shape[0], input_length=1000, output_dim=fasttext_matrix.shape[1], weights=[fasttext_matrix], trainable=False)(quote_input)\n",
    "response_feature = layers.Embedding(fasttext_matrix.shape[0], input_length=1000, output_dim=fasttext_matrix.shape[1], weights=[fasttext_matrix], trainable=False)(response_input)\n",
    "\n",
    "quote_feature    = layers.Bidirectional(LSTM(100, return_sequences=True))(quote_feature)\n",
    "quote_feature    = layers.LSTM(100, return_sequences=False)(quote_feature)\n",
    "\n",
    "response_feature = layers.Bidirectional(LSTM(100, return_sequences=True))(response_feature)\n",
    "response_feature = layers.LSTM(25, return_sequences=False)(response_feature)\n",
    "\n",
    "double = layers.concatenate([quote_feature, response_feature])\n",
    "\n",
    "dense  = layers.Dense(200, activation='relu')(double)\n",
    "\n",
    "dense  = layers.Dropout(0.3)(dense)  \n",
    "\n",
    "pred   = layers.Dense(2, activation='softmax', name='argument_emotion')(dense)\n",
    "\n",
    "model = keras.Model(inputs=[quote_input, response_input], outputs=[pred],)"
   ]
  },
  {
   "cell_type": "code",
   "execution_count": 12,
   "id": "14f7c00c",
   "metadata": {
    "execution": {
     "iopub.execute_input": "2021-11-16T16:30:44.423497Z",
     "iopub.status.busy": "2021-11-16T16:30:44.422463Z",
     "iopub.status.idle": "2021-11-16T16:30:44.432980Z",
     "shell.execute_reply": "2021-11-16T16:30:44.432510Z",
     "shell.execute_reply.started": "2021-11-16T16:00:26.334132Z"
    },
    "papermill": {
     "duration": 0.797321,
     "end_time": "2021-11-16T16:30:44.433100",
     "exception": false,
     "start_time": "2021-11-16T16:30:43.635779",
     "status": "completed"
    },
    "tags": []
   },
   "outputs": [
    {
     "name": "stdout",
     "output_type": "stream",
     "text": [
      "Model: \"model\"\n",
      "__________________________________________________________________________________________________\n",
      "Layer (type)                    Output Shape         Param #     Connected to                     \n",
      "==================================================================================================\n",
      "quote (InputLayer)              [(None, None)]       0                                            \n",
      "__________________________________________________________________________________________________\n",
      "response (InputLayer)           [(None, None)]       0                                            \n",
      "__________________________________________________________________________________________________\n",
      "embedding (Embedding)           (None, None, 300)    7404600     quote[0][0]                      \n",
      "__________________________________________________________________________________________________\n",
      "embedding_1 (Embedding)         (None, None, 300)    7404600     response[0][0]                   \n",
      "__________________________________________________________________________________________________\n",
      "bidirectional (Bidirectional)   (None, None, 200)    320800      embedding[0][0]                  \n",
      "__________________________________________________________________________________________________\n",
      "bidirectional_1 (Bidirectional) (None, None, 200)    320800      embedding_1[0][0]                \n",
      "__________________________________________________________________________________________________\n",
      "lstm_1 (LSTM)                   (None, 100)          120400      bidirectional[0][0]              \n",
      "__________________________________________________________________________________________________\n",
      "lstm_3 (LSTM)                   (None, 25)           22600       bidirectional_1[0][0]            \n",
      "__________________________________________________________________________________________________\n",
      "concatenate (Concatenate)       (None, 125)          0           lstm_1[0][0]                     \n",
      "                                                                 lstm_3[0][0]                     \n",
      "__________________________________________________________________________________________________\n",
      "dense (Dense)                   (None, 200)          25200       concatenate[0][0]                \n",
      "__________________________________________________________________________________________________\n",
      "dropout (Dropout)               (None, 200)          0           dense[0][0]                      \n",
      "__________________________________________________________________________________________________\n",
      "argument_emotion (Dense)        (None, 2)            402         dropout[0][0]                    \n",
      "==================================================================================================\n",
      "Total params: 15,619,402\n",
      "Trainable params: 810,202\n",
      "Non-trainable params: 14,809,200\n",
      "__________________________________________________________________________________________________\n"
     ]
    }
   ],
   "source": [
    "model.summary()"
   ]
  },
  {
   "cell_type": "code",
   "execution_count": 13,
   "id": "bfa65b5c",
   "metadata": {
    "execution": {
     "iopub.execute_input": "2021-11-16T16:30:46.082188Z",
     "iopub.status.busy": "2021-11-16T16:30:46.081344Z",
     "iopub.status.idle": "2021-11-16T16:30:47.067073Z",
     "shell.execute_reply": "2021-11-16T16:30:47.067546Z",
     "shell.execute_reply.started": "2021-11-16T16:00:30.329312Z"
    },
    "papermill": {
     "duration": 1.785407,
     "end_time": "2021-11-16T16:30:47.067706",
     "exception": false,
     "start_time": "2021-11-16T16:30:45.282299",
     "status": "completed"
    },
    "tags": []
   },
   "outputs": [
    {
     "data": {
      "image/png": "[encoded data removed]",
      "text/plain": [
       "<IPython.core.display.Image object>"
      ]
     },
     "execution_count": 13,
     "metadata": {},
     "output_type": "execute_result"
    }
   ],
   "source": [
    "keras.utils.plot_model(model, \"model.png\", show_shapes=True)"
   ]
  },
  {
   "cell_type": "code",
   "execution_count": 14,
   "id": "166d081b",
   "metadata": {
    "execution": {
     "iopub.execute_input": "2021-11-16T16:30:48.731727Z",
     "iopub.status.busy": "2021-11-16T16:30:48.730788Z",
     "iopub.status.idle": "2021-11-16T16:37:19.413069Z",
     "shell.execute_reply": "2021-11-16T16:37:19.413532Z",
     "shell.execute_reply.started": "2021-11-16T16:00:32.245457Z"
    },
    "papermill": {
     "duration": 391.546954,
     "end_time": "2021-11-16T16:37:19.413692",
     "exception": false,
     "start_time": "2021-11-16T16:30:47.866738",
     "status": "completed"
    },
    "tags": []
   },
   "outputs": [
    {
     "name": "stderr",
     "output_type": "stream",
     "text": [
      "2021-11-16 16:30:48.798630: I tensorflow/compiler/mlir/mlir_graph_optimization_pass.cc:185] None of the MLIR Optimization Passes are enabled (registered 2)\n"
     ]
    },
    {
     "name": "stdout",
     "output_type": "stream",
     "text": [
      "Epoch 1/10\n"
     ]
    },
    {
     "name": "stderr",
     "output_type": "stream",
     "text": [
      "2021-11-16 16:30:57.200888: I tensorflow/stream_executor/cuda/cuda_dnn.cc:369] Loaded cuDNN version 8005\n"
     ]
    },
    {
     "name": "stdout",
     "output_type": "stream",
     "text": [
      "140/140 [==============================] - 48s 275ms/step - loss: 0.5584 - accuracy: 0.7047 - val_loss: 0.5138 - val_accuracy: 0.7490\n",
      "Epoch 2/10\n",
      "140/140 [==============================] - 36s 259ms/step - loss: 0.4910 - accuracy: 0.7613 - val_loss: 0.5385 - val_accuracy: 0.7088\n",
      "Epoch 3/10\n",
      "140/140 [==============================] - 36s 259ms/step - loss: 0.4882 - accuracy: 0.7684 - val_loss: 0.5055 - val_accuracy: 0.7410\n",
      "Epoch 4/10\n",
      "140/140 [==============================] - 37s 262ms/step - loss: 0.4524 - accuracy: 0.7955 - val_loss: 0.5197 - val_accuracy: 0.7349\n",
      "Epoch 5/10\n",
      "140/140 [==============================] - 37s 261ms/step - loss: 0.4743 - accuracy: 0.7702 - val_loss: 0.6072 - val_accuracy: 0.6727\n",
      "Epoch 6/10\n",
      "140/140 [==============================] - 37s 265ms/step - loss: 0.5222 - accuracy: 0.7452 - val_loss: 0.5330 - val_accuracy: 0.7108\n",
      "Epoch 7/10\n",
      "140/140 [==============================] - 37s 266ms/step - loss: 0.4661 - accuracy: 0.7785 - val_loss: 0.5333 - val_accuracy: 0.7369\n",
      "Epoch 8/10\n",
      "140/140 [==============================] - 37s 264ms/step - loss: 0.4291 - accuracy: 0.7977 - val_loss: 0.5672 - val_accuracy: 0.7068\n",
      "Epoch 9/10\n",
      "140/140 [==============================] - 37s 264ms/step - loss: 0.3908 - accuracy: 0.8181 - val_loss: 0.6074 - val_accuracy: 0.7269\n",
      "Epoch 10/10\n",
      "140/140 [==============================] - 37s 264ms/step - loss: 0.3621 - accuracy: 0.8337 - val_loss: 0.6147 - val_accuracy: 0.7390\n"
     ]
    },
    {
     "data": {
      "text/plain": [
       "<keras.callbacks.History at 0x7f11402c3990>"
      ]
     },
     "execution_count": 14,
     "metadata": {},
     "output_type": "execute_result"
    }
   ],
   "source": [
    "model.compile(\n",
    "    optimizer='adam',\n",
    "    loss=keras.losses.SparseCategoricalCrossentropy(),\n",
    "    metrics=['accuracy']\n",
    ")\n",
    "\n",
    "model.fit(\n",
    "    {'quote': X_train_quotes, 'response': X_train_responses},\n",
    "    {'argument_emotion': y_train},\n",
    "    epochs=10,\n",
    "    batch_size=32,\n",
    "    validation_split=0.1\n",
    ")"
   ]
  },
  {
   "cell_type": "code",
   "execution_count": 15,
   "id": "f4e901b3",
   "metadata": {
    "execution": {
     "iopub.execute_input": "2021-11-16T16:37:21.873106Z",
     "iopub.status.busy": "2021-11-16T16:37:21.872087Z",
     "iopub.status.idle": "2021-11-16T16:37:28.661798Z",
     "shell.execute_reply": "2021-11-16T16:37:28.660963Z",
     "shell.execute_reply.started": "2021-11-16T16:08:05.300368Z"
    },
    "papermill": {
     "duration": 8.076277,
     "end_time": "2021-11-16T16:37:28.661978",
     "exception": false,
     "start_time": "2021-11-16T16:37:20.585701",
     "status": "completed"
    },
    "tags": []
   },
   "outputs": [],
   "source": [
    "prediction = model.predict({'quote': X_test_quotes, 'response': X_test_responses})"
   ]
  },
  {
   "cell_type": "code",
   "execution_count": 16,
   "id": "7b41f6c6",
   "metadata": {
    "execution": {
     "iopub.execute_input": "2021-11-16T16:37:31.049541Z",
     "iopub.status.busy": "2021-11-16T16:37:31.047852Z",
     "iopub.status.idle": "2021-11-16T16:37:31.052653Z",
     "shell.execute_reply": "2021-11-16T16:37:31.052095Z",
     "shell.execute_reply.started": "2021-11-16T16:08:17.765636Z"
    },
    "papermill": {
     "duration": 1.239744,
     "end_time": "2021-11-16T16:37:31.052809",
     "exception": false,
     "start_time": "2021-11-16T16:37:29.813065",
     "status": "completed"
    },
    "tags": []
   },
   "outputs": [
    {
     "data": {
      "text/plain": [
       "array([[0.9349352 , 0.06506484],\n",
       "       [0.32258895, 0.677411  ],\n",
       "       [0.9873417 , 0.01265834],\n",
       "       ...,\n",
       "       [0.9493246 , 0.05067546],\n",
       "       [0.8333236 , 0.16667636],\n",
       "       [0.6832249 , 0.3167751 ]], dtype=float32)"
      ]
     },
     "execution_count": 16,
     "metadata": {},
     "output_type": "execute_result"
    }
   ],
   "source": [
    "prediction"
   ]
  },
  {
   "cell_type": "code",
   "execution_count": 17,
   "id": "090b8633",
   "metadata": {
    "execution": {
     "iopub.execute_input": "2021-11-16T16:37:33.499523Z",
     "iopub.status.busy": "2021-11-16T16:37:33.498717Z",
     "iopub.status.idle": "2021-11-16T16:37:33.508742Z",
     "shell.execute_reply": "2021-11-16T16:37:33.509151Z",
     "shell.execute_reply.started": "2021-11-16T16:08:17.774515Z"
    },
    "papermill": {
     "duration": 1.173395,
     "end_time": "2021-11-16T16:37:33.509295",
     "exception": false,
     "start_time": "2021-11-16T16:37:32.335900",
     "status": "completed"
    },
    "tags": []
   },
   "outputs": [
    {
     "data": {
      "text/plain": [
       "array([0, 1, 0, 1, 1, 0, 1, 0, 0, 0, 1, 1, 0, 1, 0, 0, 1, 0, 0, 0, 0, 0,\n",
       "       0, 1, 1, 1, 0, 0, 0, 1, 1, 0, 0, 1, 1, 1, 0, 0, 1, 0, 0, 0, 0, 0,\n",
       "       0, 0, 1, 0, 1, 1, 0, 0, 0, 0, 0, 0, 0, 0, 0, 1, 0, 1, 1, 0, 0, 0,\n",
       "       0, 1, 1, 0, 0, 0, 1, 0, 1, 0, 1, 0, 0, 0, 0, 0, 0, 0, 0, 0, 0, 1,\n",
       "       0, 1, 0, 0, 1, 0, 0, 0, 0, 0, 1, 0, 0, 1, 1, 0, 1, 0, 0, 0, 1, 0,\n",
       "       1, 0, 0, 0, 0, 0, 0, 0, 1, 0, 0, 0, 0, 0, 1, 0, 0, 0, 1, 0, 1, 0,\n",
       "       1, 1, 1, 1, 0, 0, 0, 1, 0, 0, 0, 0, 0, 1, 0, 0, 0, 0, 0, 0, 0, 1,\n",
       "       0, 0, 0, 1, 0, 0, 0, 1, 0, 1, 0, 0, 1, 0, 0, 0, 1, 0, 1, 0, 0, 0,\n",
       "       1, 0, 1, 1, 0, 1, 0, 1, 0, 0, 0, 0, 0, 0, 1, 0, 0, 1, 0, 0, 0, 0,\n",
       "       0, 1, 0, 0, 0, 0, 0, 0, 1, 0, 0, 1, 0, 0, 0, 0, 1, 0, 0, 1, 0, 0,\n",
       "       0, 1, 0, 0, 0, 0, 0, 0, 0, 0, 0, 0, 0, 0, 0, 1, 0, 0, 0, 0, 1, 0,\n",
       "       0, 0, 0, 0, 0, 0, 0, 0, 1, 0, 1, 1, 0, 0, 0, 0, 0, 1, 1, 1, 0, 0,\n",
       "       0, 1, 1, 0, 0, 0, 0, 0, 0, 0, 0, 1, 0, 0, 0, 0, 0, 1, 0, 0, 1, 1,\n",
       "       0, 0, 0, 0, 0, 0, 1, 0, 0, 1, 0, 1, 0, 0, 0, 1, 0, 0, 0, 1, 0, 0,\n",
       "       0, 0, 1, 1, 1, 0, 0, 1, 0, 0, 0, 1, 0, 1, 1, 0, 0, 0, 0, 0, 0, 0,\n",
       "       0, 0, 0, 1, 0, 0, 1, 0, 0, 1, 0, 1, 0, 1, 0, 1, 0, 0, 0, 1, 0, 1,\n",
       "       0, 0, 0, 0, 1, 0, 0, 0, 0, 1, 0, 1, 1, 1, 1, 1, 0, 0, 0, 0, 1, 0,\n",
       "       0, 0, 1, 0, 0, 0, 1, 1, 0, 0, 0, 0, 0, 0, 0, 0, 0, 0, 1, 0, 1, 0,\n",
       "       0, 1, 1, 0, 1, 0, 0, 0, 0, 0, 0, 1, 0, 0, 1, 0, 0, 0, 1, 0, 0, 0,\n",
       "       0, 0, 1, 0, 1, 1, 1, 0, 0, 1, 1, 0, 1, 0, 0, 1, 0, 1, 0, 1, 1, 0,\n",
       "       0, 1, 0, 1, 0, 0, 1, 1, 1, 0, 0, 0, 0, 1, 1, 0, 0, 1, 1, 1, 1, 0,\n",
       "       1, 1, 0, 0, 1, 0, 0, 0, 0, 0, 0, 0, 1, 0, 0, 0, 0, 0, 0, 0, 0, 0,\n",
       "       0, 1, 1, 0, 0, 1, 0, 0, 1, 0, 0, 0, 0, 0, 0, 0, 0, 0, 1, 0, 1, 0,\n",
       "       1, 0, 1, 0, 0, 0, 0, 0, 0, 0, 0, 0, 1, 0, 0, 0, 1, 0, 0, 0, 0, 0,\n",
       "       1, 1, 0, 0, 0, 0, 0, 0, 0, 0, 1, 1, 0, 1, 1, 0, 0, 0, 1, 0, 0, 0,\n",
       "       0, 0, 0, 0, 0, 1, 1, 0, 1, 1, 0, 0, 0, 0, 1, 0, 0, 0, 0, 1, 0, 1,\n",
       "       0, 0, 0, 0, 0, 0, 0, 0, 1, 0, 1, 0, 1, 0, 0, 0, 0, 0, 0, 1, 1, 0,\n",
       "       1, 0, 1, 0, 1, 1, 1, 0, 0, 0, 0, 0, 0, 0, 0, 0, 0, 0, 0, 0, 0, 1,\n",
       "       0, 1, 0, 1, 0, 1, 1, 0, 0, 0, 0, 0, 0, 0, 1, 0, 0, 0, 1, 1, 1, 0,\n",
       "       1, 0, 0, 1, 0, 0, 1, 0, 0, 0, 0, 1, 0, 1, 1, 1, 1, 0, 0, 1, 1, 0,\n",
       "       0, 0, 0, 1, 0, 0, 1, 1, 0, 1, 0, 1, 0, 1, 0, 0, 1, 0, 0, 0, 0, 0,\n",
       "       0, 0, 0, 1, 1, 0, 0, 1, 0, 0, 1, 0, 0, 0, 0, 0, 0, 0, 0, 0, 0, 1,\n",
       "       0, 0, 1, 0, 1, 0, 0, 1, 0, 0, 1, 0, 0, 0, 1, 1, 1, 1, 1, 0, 0, 1,\n",
       "       0, 0, 1, 0, 0, 0, 0, 0, 0, 0, 1, 1, 0, 1, 0, 0, 1, 1, 0, 1, 0, 0,\n",
       "       0, 0, 0, 1, 0, 1, 0, 0, 0, 1, 0, 0, 1, 0, 1, 1, 1, 0, 1, 0, 0, 0,\n",
       "       1, 1, 0, 0, 1, 0, 0, 0, 0, 1, 0, 0, 0, 1, 0, 0, 0, 0, 0, 1, 0, 0,\n",
       "       0, 0, 1, 0, 1, 0, 0, 1, 0, 0, 0, 1, 1, 1, 0, 1, 0, 1, 0, 0, 1, 1,\n",
       "       0, 0, 1, 0, 0, 0, 0, 0, 0, 0, 1, 1, 1, 0, 1, 1, 1, 0, 0, 1, 0, 1,\n",
       "       0, 1, 1, 0, 0, 0, 0, 0, 0, 0, 0, 1, 0, 0, 1, 0, 0, 0, 0, 0, 0, 0,\n",
       "       0, 0, 0, 0, 1, 1, 0, 0, 1, 1, 0, 0, 0, 0, 0, 0, 0, 0, 0, 0])"
      ]
     },
     "execution_count": 17,
     "metadata": {},
     "output_type": "execute_result"
    }
   ],
   "source": [
    "re = []\n",
    "for predict in prediction:\n",
    "    label = np.argmax(predict)\n",
    "    re.append(label)\n",
    "    \n",
    "re = np.array(re)\n",
    "\n",
    "re"
   ]
  },
  {
   "cell_type": "code",
   "execution_count": 18,
   "id": "33b46252",
   "metadata": {
    "execution": {
     "iopub.execute_input": "2021-11-16T16:37:35.842176Z",
     "iopub.status.busy": "2021-11-16T16:37:35.841445Z",
     "iopub.status.idle": "2021-11-16T16:37:35.845556Z",
     "shell.execute_reply": "2021-11-16T16:37:35.846319Z",
     "shell.execute_reply.started": "2021-11-16T16:08:17.797435Z"
    },
    "papermill": {
     "duration": 1.165701,
     "end_time": "2021-11-16T16:37:35.846561",
     "exception": false,
     "start_time": "2021-11-16T16:37:34.680860",
     "status": "completed"
    },
    "tags": []
   },
   "outputs": [
    {
     "name": "stdout",
     "output_type": "stream",
     "text": [
      "              precision    recall  f1-score   support\n",
      "\n",
      "           0       0.75      0.87      0.81       524\n",
      "           1       0.75      0.57      0.65       354\n",
      "\n",
      "    accuracy                           0.75       878\n",
      "   macro avg       0.75      0.72      0.73       878\n",
      "weighted avg       0.75      0.75      0.75       878\n",
      "\n"
     ]
    }
   ],
   "source": [
    "from sklearn.metrics import classification_report\n",
    "print(classification_report(y_test, re))"
   ]
  },
  {
   "cell_type": "code",
   "execution_count": 19,
   "id": "b746b3f7",
   "metadata": {
    "execution": {
     "iopub.execute_input": "2021-11-16T16:37:38.532367Z",
     "iopub.status.busy": "2021-11-16T16:37:38.531636Z",
     "iopub.status.idle": "2021-11-16T16:38:07.600785Z",
     "shell.execute_reply": "2021-11-16T16:38:07.601459Z",
     "shell.execute_reply.started": "2021-11-16T16:17:43.603514Z"
    },
    "papermill": {
     "duration": 30.288104,
     "end_time": "2021-11-16T16:38:07.601653",
     "exception": false,
     "start_time": "2021-11-16T16:37:37.313549",
     "status": "completed"
    },
    "tags": []
   },
   "outputs": [
    {
     "name": "stderr",
     "output_type": "stream",
     "text": [
      "2021-11-16 16:37:50.427133: W tensorflow/python/util/util.cc:348] Sets are not currently considered sequences, but this may change in the future, so consider avoiding using them.\n"
     ]
    }
   ],
   "source": [
    "model.save('model_fasttext_1')"
   ]
  },
  {
   "cell_type": "markdown",
   "id": "3bc114f0",
   "metadata": {
    "papermill": {
     "duration": 1.414728,
     "end_time": "2021-11-16T16:38:10.213683",
     "exception": false,
     "start_time": "2021-11-16T16:38:08.798955",
     "status": "completed"
    },
    "tags": []
   },
   "source": [
    "## Model 2 (Input Response dan Response POS TAG dalam Arsitektur BiLSTM sederhana)"
   ]
  },
  {
   "cell_type": "code",
   "execution_count": 20,
   "id": "1a22f7c3",
   "metadata": {
    "execution": {
     "iopub.execute_input": "2021-11-16T16:38:12.535389Z",
     "iopub.status.busy": "2021-11-16T16:38:12.533404Z",
     "iopub.status.idle": "2021-11-16T16:38:14.169281Z",
     "shell.execute_reply": "2021-11-16T16:38:14.169792Z"
    },
    "papermill": {
     "duration": 2.804465,
     "end_time": "2021-11-16T16:38:14.169953",
     "exception": false,
     "start_time": "2021-11-16T16:38:11.365488",
     "status": "completed"
    },
    "tags": []
   },
   "outputs": [],
   "source": [
    "quote_input    = keras.Input(shape=(None,), name='response')\n",
    "response_input = keras.Input(shape=(None,), name='response_tag')\n",
    "\n",
    "quote_feature    = layers.Embedding(fasttext_matrix.shape[0], input_length=1000, output_dim=fasttext_matrix.shape[1], weights=[fasttext_matrix], trainable=False)(quote_input)\n",
    "response_feature = layers.Embedding(fasttext_matrix.shape[0], input_length=1000, output_dim=fasttext_matrix.shape[1], weights=[fasttext_matrix], trainable=False)(response_input)\n",
    "\n",
    "quote_feature    = layers.Bidirectional(LSTM(100, return_sequences=True))(quote_feature)\n",
    "quote_feature    = layers.LSTM(100, return_sequences=False)(quote_feature)\n",
    "\n",
    "response_feature = layers.Bidirectional(LSTM(100, return_sequences=True))(response_feature)\n",
    "response_feature = layers.LSTM(25, return_sequences=False)(response_feature)\n",
    "\n",
    "double = layers.concatenate([quote_feature, response_feature])\n",
    "\n",
    "dense  = layers.Dense(200, activation='relu')(double)\n",
    "\n",
    "dense  = layers.Dropout(0.3)(dense)  \n",
    "\n",
    "pred   = layers.Dense(2, activation='softmax', name='argument_emotion')(dense)\n",
    "\n",
    "model2 = keras.Model(inputs=[quote_input, response_input], outputs=[pred],)"
   ]
  },
  {
   "cell_type": "code",
   "execution_count": 21,
   "id": "9af4e4e4",
   "metadata": {
    "execution": {
     "iopub.execute_input": "2021-11-16T16:38:16.543882Z",
     "iopub.status.busy": "2021-11-16T16:38:16.542996Z",
     "iopub.status.idle": "2021-11-16T16:44:27.744198Z",
     "shell.execute_reply": "2021-11-16T16:44:27.744632Z"
    },
    "papermill": {
     "duration": 372.423199,
     "end_time": "2021-11-16T16:44:27.744788",
     "exception": false,
     "start_time": "2021-11-16T16:38:15.321589",
     "status": "completed"
    },
    "tags": []
   },
   "outputs": [
    {
     "name": "stdout",
     "output_type": "stream",
     "text": [
      "Epoch 1/10\n",
      "140/140 [==============================] - 44s 266ms/step - loss: 0.5605 - accuracy: 0.7068 - val_loss: 0.5312 - val_accuracy: 0.7349\n",
      "Epoch 2/10\n",
      "140/140 [==============================] - 36s 256ms/step - loss: 0.4794 - accuracy: 0.7798 - val_loss: 0.5483 - val_accuracy: 0.7430\n",
      "Epoch 3/10\n",
      "140/140 [==============================] - 36s 261ms/step - loss: 0.4567 - accuracy: 0.7928 - val_loss: 0.5258 - val_accuracy: 0.7470\n",
      "Epoch 4/10\n",
      "140/140 [==============================] - 36s 260ms/step - loss: 0.4465 - accuracy: 0.7919 - val_loss: 0.5867 - val_accuracy: 0.7229\n",
      "Epoch 5/10\n",
      "140/140 [==============================] - 36s 260ms/step - loss: 0.4017 - accuracy: 0.8219 - val_loss: 0.5542 - val_accuracy: 0.7369\n",
      "Epoch 6/10\n",
      "140/140 [==============================] - 37s 262ms/step - loss: 0.4274 - accuracy: 0.7973 - val_loss: 0.6013 - val_accuracy: 0.7249\n",
      "Epoch 7/10\n",
      "140/140 [==============================] - 37s 262ms/step - loss: 0.3669 - accuracy: 0.8319 - val_loss: 0.5747 - val_accuracy: 0.7129\n",
      "Epoch 8/10\n",
      "140/140 [==============================] - 36s 259ms/step - loss: 0.3124 - accuracy: 0.8661 - val_loss: 0.7043 - val_accuracy: 0.7108\n",
      "Epoch 9/10\n",
      "140/140 [==============================] - 36s 260ms/step - loss: 0.2699 - accuracy: 0.8880 - val_loss: 0.7444 - val_accuracy: 0.7289\n",
      "Epoch 10/10\n",
      "140/140 [==============================] - 37s 261ms/step - loss: 0.2263 - accuracy: 0.9088 - val_loss: 0.8847 - val_accuracy: 0.7169\n"
     ]
    },
    {
     "data": {
      "text/plain": [
       "<keras.callbacks.History at 0x7f0cbd0ce5d0>"
      ]
     },
     "execution_count": 21,
     "metadata": {},
     "output_type": "execute_result"
    }
   ],
   "source": [
    "model2.compile(\n",
    "    optimizer='adam',\n",
    "    loss=keras.losses.SparseCategoricalCrossentropy(),\n",
    "    metrics=['accuracy']\n",
    ")\n",
    "\n",
    "model2.fit(\n",
    "    {'response': X_train_responses, 'response_tag': X_train_responses_tag},\n",
    "    {'argument_emotion': y_train},\n",
    "    epochs=10,\n",
    "    batch_size=32,\n",
    "    validation_split=0.1\n",
    ")"
   ]
  },
  {
   "cell_type": "code",
   "execution_count": 22,
   "id": "1086a090",
   "metadata": {
    "execution": {
     "iopub.execute_input": "2021-11-16T16:44:30.818010Z",
     "iopub.status.busy": "2021-11-16T16:44:30.817062Z",
     "iopub.status.idle": "2021-11-16T16:44:37.428298Z",
     "shell.execute_reply": "2021-11-16T16:44:37.427800Z"
    },
    "papermill": {
     "duration": 8.168597,
     "end_time": "2021-11-16T16:44:37.428472",
     "exception": false,
     "start_time": "2021-11-16T16:44:29.259875",
     "status": "completed"
    },
    "tags": []
   },
   "outputs": [],
   "source": [
    "prediction = model2.predict({'response': X_test_responses, 'response_tag': X_test_responses_tag})"
   ]
  },
  {
   "cell_type": "code",
   "execution_count": 23,
   "id": "9e48196c",
   "metadata": {
    "execution": {
     "iopub.execute_input": "2021-11-16T16:44:40.696522Z",
     "iopub.status.busy": "2021-11-16T16:44:40.693252Z",
     "iopub.status.idle": "2021-11-16T16:44:40.706323Z",
     "shell.execute_reply": "2021-11-16T16:44:40.705886Z"
    },
    "papermill": {
     "duration": 1.72249,
     "end_time": "2021-11-16T16:44:40.706457",
     "exception": false,
     "start_time": "2021-11-16T16:44:38.983967",
     "status": "completed"
    },
    "tags": []
   },
   "outputs": [
    {
     "data": {
      "text/plain": [
       "array([0, 1, 0, 1, 1, 0, 1, 1, 1, 0, 1, 1, 0, 1, 0, 0, 1, 0, 0, 0, 0, 1,\n",
       "       1, 0, 1, 1, 0, 0, 0, 1, 1, 0, 0, 1, 1, 1, 0, 0, 1, 0, 0, 0, 0, 0,\n",
       "       0, 1, 1, 0, 1, 1, 0, 0, 0, 0, 1, 0, 0, 0, 0, 1, 1, 1, 1, 0, 1, 0,\n",
       "       0, 1, 1, 0, 0, 0, 1, 0, 1, 0, 1, 0, 0, 0, 0, 0, 0, 0, 0, 0, 0, 1,\n",
       "       0, 1, 0, 0, 1, 0, 0, 1, 0, 0, 0, 0, 0, 1, 1, 0, 1, 0, 0, 0, 1, 0,\n",
       "       1, 0, 0, 0, 0, 0, 0, 0, 1, 0, 0, 0, 0, 0, 1, 1, 0, 0, 1, 0, 1, 1,\n",
       "       1, 1, 1, 1, 0, 0, 0, 1, 0, 0, 1, 0, 0, 1, 1, 1, 0, 0, 1, 0, 0, 1,\n",
       "       0, 0, 1, 1, 0, 0, 0, 1, 0, 1, 0, 0, 1, 0, 1, 0, 1, 0, 1, 0, 0, 1,\n",
       "       1, 0, 1, 1, 0, 1, 0, 1, 0, 0, 0, 0, 0, 0, 0, 0, 0, 1, 0, 0, 0, 1,\n",
       "       0, 1, 0, 0, 0, 0, 0, 0, 1, 1, 1, 1, 0, 0, 0, 0, 1, 0, 1, 1, 1, 0,\n",
       "       0, 1, 0, 1, 0, 0, 1, 0, 0, 1, 0, 0, 0, 1, 0, 1, 0, 0, 0, 0, 1, 0,\n",
       "       0, 0, 0, 1, 0, 0, 1, 0, 1, 0, 1, 1, 0, 1, 0, 0, 0, 1, 0, 1, 0, 0,\n",
       "       0, 1, 1, 0, 1, 0, 0, 1, 0, 0, 0, 1, 0, 0, 0, 0, 0, 1, 0, 0, 1, 1,\n",
       "       0, 0, 1, 0, 0, 0, 1, 0, 0, 1, 1, 1, 0, 0, 0, 1, 0, 0, 0, 1, 0, 0,\n",
       "       0, 0, 1, 1, 1, 0, 0, 1, 0, 0, 1, 1, 0, 1, 1, 1, 0, 0, 0, 0, 0, 1,\n",
       "       0, 0, 0, 1, 0, 0, 1, 0, 0, 1, 0, 1, 0, 0, 0, 0, 0, 0, 0, 1, 0, 0,\n",
       "       0, 0, 0, 0, 1, 0, 0, 0, 1, 1, 0, 1, 1, 1, 1, 1, 0, 1, 0, 1, 1, 1,\n",
       "       0, 1, 1, 0, 0, 0, 1, 1, 1, 0, 0, 0, 0, 0, 0, 0, 0, 0, 1, 0, 1, 0,\n",
       "       1, 1, 1, 0, 1, 0, 0, 1, 0, 0, 0, 1, 0, 0, 1, 0, 0, 0, 0, 1, 0, 0,\n",
       "       0, 0, 1, 0, 1, 1, 1, 0, 0, 0, 1, 0, 1, 0, 0, 1, 0, 1, 1, 1, 1, 1,\n",
       "       0, 0, 0, 1, 0, 1, 1, 0, 1, 0, 0, 0, 0, 1, 1, 0, 0, 0, 1, 1, 1, 0,\n",
       "       1, 1, 0, 0, 1, 0, 0, 0, 0, 1, 1, 0, 1, 0, 0, 1, 1, 0, 0, 0, 1, 1,\n",
       "       0, 1, 1, 0, 0, 1, 0, 0, 1, 0, 0, 0, 0, 1, 0, 0, 0, 0, 1, 0, 1, 0,\n",
       "       1, 0, 1, 0, 1, 1, 0, 0, 0, 0, 0, 1, 1, 0, 0, 0, 1, 0, 0, 0, 0, 1,\n",
       "       1, 1, 0, 0, 0, 0, 1, 0, 0, 0, 1, 1, 0, 1, 1, 0, 0, 0, 0, 0, 1, 0,\n",
       "       0, 0, 0, 0, 0, 1, 1, 0, 1, 1, 0, 1, 0, 0, 1, 0, 0, 0, 1, 1, 0, 1,\n",
       "       0, 0, 0, 0, 0, 0, 0, 1, 1, 0, 1, 1, 1, 0, 1, 0, 0, 0, 0, 1, 1, 0,\n",
       "       1, 1, 1, 1, 1, 1, 1, 0, 1, 0, 0, 0, 0, 0, 0, 1, 0, 1, 0, 0, 0, 1,\n",
       "       1, 1, 0, 1, 1, 1, 1, 0, 1, 0, 0, 0, 0, 1, 1, 0, 0, 0, 1, 1, 1, 0,\n",
       "       1, 0, 0, 1, 0, 0, 1, 0, 0, 0, 1, 1, 0, 1, 1, 1, 1, 0, 0, 1, 1, 0,\n",
       "       0, 1, 0, 1, 0, 0, 1, 1, 1, 1, 0, 1, 0, 1, 0, 0, 1, 1, 0, 0, 0, 0,\n",
       "       0, 0, 0, 1, 1, 0, 0, 1, 0, 0, 1, 0, 0, 1, 0, 0, 1, 0, 1, 0, 0, 1,\n",
       "       0, 0, 1, 0, 1, 0, 0, 1, 0, 0, 1, 0, 0, 0, 1, 1, 1, 1, 1, 0, 1, 1,\n",
       "       0, 0, 0, 0, 0, 0, 0, 0, 1, 0, 1, 1, 0, 1, 0, 0, 1, 1, 1, 1, 0, 0,\n",
       "       0, 0, 1, 1, 0, 1, 0, 0, 0, 1, 0, 1, 1, 0, 1, 1, 1, 0, 1, 0, 0, 0,\n",
       "       1, 1, 0, 0, 0, 0, 0, 1, 1, 1, 0, 0, 1, 1, 0, 1, 0, 0, 1, 1, 1, 0,\n",
       "       0, 0, 0, 1, 1, 0, 0, 1, 1, 0, 0, 1, 1, 1, 0, 1, 0, 1, 0, 0, 1, 1,\n",
       "       1, 0, 1, 1, 0, 0, 1, 0, 1, 1, 1, 1, 1, 0, 1, 1, 1, 0, 0, 1, 1, 1,\n",
       "       1, 0, 1, 0, 0, 1, 0, 0, 0, 1, 1, 1, 0, 0, 1, 0, 0, 0, 1, 0, 1, 0,\n",
       "       0, 1, 0, 0, 1, 1, 0, 1, 0, 1, 0, 1, 1, 0, 0, 1, 0, 0, 0, 1])"
      ]
     },
     "execution_count": 23,
     "metadata": {},
     "output_type": "execute_result"
    }
   ],
   "source": [
    "re = []\n",
    "for predict in prediction:\n",
    "    label = np.argmax(predict)\n",
    "    re.append(label)\n",
    "    \n",
    "re = np.array(re)\n",
    "\n",
    "re"
   ]
  },
  {
   "cell_type": "code",
   "execution_count": 24,
   "id": "9d033b62",
   "metadata": {
    "execution": {
     "iopub.execute_input": "2021-11-16T16:44:43.836268Z",
     "iopub.status.busy": "2021-11-16T16:44:43.835397Z",
     "iopub.status.idle": "2021-11-16T16:44:43.843970Z",
     "shell.execute_reply": "2021-11-16T16:44:43.843460Z"
    },
    "papermill": {
     "duration": 1.585386,
     "end_time": "2021-11-16T16:44:43.844087",
     "exception": false,
     "start_time": "2021-11-16T16:44:42.258701",
     "status": "completed"
    },
    "tags": []
   },
   "outputs": [
    {
     "name": "stdout",
     "output_type": "stream",
     "text": [
      "              precision    recall  f1-score   support\n",
      "\n",
      "           0       0.78      0.77      0.78       524\n",
      "           1       0.67      0.69      0.68       354\n",
      "\n",
      "    accuracy                           0.73       878\n",
      "   macro avg       0.72      0.73      0.73       878\n",
      "weighted avg       0.74      0.73      0.74       878\n",
      "\n"
     ]
    }
   ],
   "source": [
    "from sklearn.metrics import classification_report\n",
    "print(classification_report(y_test, re))"
   ]
  }
 ],
 "metadata": {
  "kernelspec": {
   "display_name": "Python 3",
   "language": "python",
   "name": "python3"
  },
  "language_info": {
   "codemirror_mode": {
    "name": "ipython",
    "version": 3
   },
   "file_extension": ".py",
   "mimetype": "text/x-python",
   "name": "python",
   "nbconvert_exporter": "python",
   "pygments_lexer": "ipython3",
   "version": "3.7.10"
  },
  "papermill": {
   "default_parameters": {},
   "duration": 1181.042769,
   "end_time": "2021-11-16T16:44:49.080288",
   "environment_variables": {},
   "exception": null,
   "input_path": "__notebook__.ipynb",
   "output_path": "__notebook__.ipynb",
   "parameters": {},
   "start_time": "2021-11-16T16:25:08.037519",
   "version": "2.3.3"
  }
 },
 "nbformat": 4,
 "nbformat_minor": 5
}
