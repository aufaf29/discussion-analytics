{
 "cells": [
  {
   "cell_type": "markdown",
   "id": "b6011778",
   "metadata": {
    "papermill": {
     "duration": 0.01604,
     "end_time": "2021-11-16T17:19:53.462914",
     "exception": false,
     "start_time": "2021-11-16T17:19:53.446874",
     "status": "completed"
    },
    "tags": []
   },
   "source": [
    "## Import Library"
   ]
  },
  {
   "cell_type": "code",
   "execution_count": 1,
   "id": "e45e89b2",
   "metadata": {
    "execution": {
     "iopub.execute_input": "2021-11-16T17:19:53.500537Z",
     "iopub.status.busy": "2021-11-16T17:19:53.498771Z",
     "iopub.status.idle": "2021-11-16T17:19:55.475433Z",
     "shell.execute_reply": "2021-11-16T17:19:55.474734Z",
     "shell.execute_reply.started": "2021-11-16T16:37:29.441895Z"
    },
    "papermill": {
     "duration": 1.995816,
     "end_time": "2021-11-16T17:19:55.475594",
     "exception": false,
     "start_time": "2021-11-16T17:19:53.479778",
     "status": "completed"
    },
    "tags": []
   },
   "outputs": [
    {
     "name": "stdout",
     "output_type": "stream",
     "text": [
      "[nltk_data] Downloading package wordnet to /usr/share/nltk_data...\n",
      "[nltk_data]   Package wordnet is already up-to-date!\n",
      "[nltk_data] Downloading package averaged_perceptron_tagger to\n",
      "[nltk_data]     /usr/share/nltk_data...\n",
      "[nltk_data]   Package averaged_perceptron_tagger is already up-to-\n",
      "[nltk_data]       date!\n"
     ]
    }
   ],
   "source": [
    "import re\n",
    "import nltk\n",
    "import string\n",
    "import codecs\n",
    "import warnings\n",
    "import numpy as np\n",
    "import pandas as pd\n",
    "import matplotlib.pyplot as plt\n",
    "\n",
    "from sklearn.metrics import classification_report, confusion_matrix\n",
    "\n",
    "from nltk.corpus import stopwords\n",
    "from nltk.corpus import wordnet\n",
    "from nltk.tokenize import word_tokenize \n",
    "from nltk.stem import WordNetLemmatizer \n",
    "\n",
    "nltk.download('wordnet')\n",
    "nltk.download('averaged_perceptron_tagger')\n",
    "\n",
    "warnings.simplefilter(action=\"ignore\", category=FutureWarning)"
   ]
  },
  {
   "cell_type": "markdown",
   "id": "67305bb0",
   "metadata": {
    "papermill": {
     "duration": 0.015062,
     "end_time": "2021-11-16T17:19:55.508590",
     "exception": false,
     "start_time": "2021-11-16T17:19:55.493528",
     "status": "completed"
    },
    "tags": []
   },
   "source": [
    "## Preparation\n",
    "\n",
    "Menyiapkan fungsi-fungsi yang dibutuhkan untuk melakukan pemrosesan seperti pembangkit index embedding, matriks embedding, hingga preprocessing teks. "
   ]
  },
  {
   "cell_type": "code",
   "execution_count": 2,
   "id": "96908ac8",
   "metadata": {
    "execution": {
     "iopub.execute_input": "2021-11-16T17:19:55.554987Z",
     "iopub.status.busy": "2021-11-16T17:19:55.553963Z",
     "iopub.status.idle": "2021-11-16T17:19:55.556991Z",
     "shell.execute_reply": "2021-11-16T17:19:55.556365Z",
     "shell.execute_reply.started": "2021-11-16T16:37:29.453354Z"
    },
    "papermill": {
     "duration": 0.033138,
     "end_time": "2021-11-16T17:19:55.557128",
     "exception": false,
     "start_time": "2021-11-16T17:19:55.523990",
     "status": "completed"
    },
    "tags": []
   },
   "outputs": [],
   "source": [
    "lemmatizer = WordNetLemmatizer()\n",
    "\n",
    "def label_encoding(label):\n",
    "    if(label == 'fact-based'):\n",
    "        return 0\n",
    "    elif(label == 'feeling-based'):\n",
    "        return 1\n",
    "    else:\n",
    "        return 2\n",
    "    \n",
    "def nltk_tag_to_wordnet_tag(nltk_tag):\n",
    "    if nltk_tag.startswith('J'):\n",
    "        return wordnet.ADJ\n",
    "    elif nltk_tag.startswith('V'):\n",
    "        return wordnet.VERB\n",
    "    elif nltk_tag.startswith('N'):\n",
    "        return wordnet.NOUN\n",
    "    elif nltk_tag.startswith('R'):\n",
    "        return wordnet.ADV\n",
    "    else:          \n",
    "        return None\n",
    "    \n",
    "def lemmatize_sentence(sentence):\n",
    "\n",
    "    nltk_tagged = nltk.pos_tag(nltk.word_tokenize(sentence))  \n",
    "    wordnet_tagged = map(lambda x: (x[0], nltk_tag_to_wordnet_tag(x[1])), nltk_tagged)\n",
    "    \n",
    "    lemmatized_sentence = []\n",
    "    for word, tag in wordnet_tagged:\n",
    "        if tag is None:\n",
    "            lemmatized_sentence.append(word)\n",
    "        else:        \n",
    "            lemmatized_sentence.append(lemmatizer.lemmatize(word, tag))\n",
    "    return \" \".join(lemmatized_sentence)\n",
    "\n",
    "def sentence_pos_tag(sentence):\n",
    "    text = word_tokenize(sentence)\n",
    "    pos_tag = nltk.pos_tag(text)\n",
    "    pos_tag_res = ''\n",
    "    for i in range(len(pos_tag)):\n",
    "        pos_tag_res += pos_tag[i][1]\n",
    "        pos_tag_res += ' ' if i != len(sentence)-1 else '' \n",
    "    return pos_tag_res\n",
    "\n",
    "def preprocessing(text):\n",
    "    text = text.lower()\n",
    "    text = text.strip()\n",
    "    text = re.sub(r\" \\d+ \", \" \", text)\n",
    "    text = text.translate(str.maketrans(\"\", \"\", string.punctuation))\n",
    "    text = re.sub(r\"[^a-z ]\", \"\", text)\n",
    "    text = re.sub(r\"  \", \" \", text)\n",
    "    text = lemmatize_sentence(text)\n",
    "    return text"
   ]
  },
  {
   "cell_type": "code",
   "execution_count": 3,
   "id": "4b3d038b",
   "metadata": {
    "execution": {
     "iopub.execute_input": "2021-11-16T17:19:55.592503Z",
     "iopub.status.busy": "2021-11-16T17:19:55.591825Z",
     "iopub.status.idle": "2021-11-16T17:19:55.798071Z",
     "shell.execute_reply": "2021-11-16T17:19:55.797517Z",
     "shell.execute_reply.started": "2021-11-16T16:37:29.469828Z"
    },
    "papermill": {
     "duration": 0.226012,
     "end_time": "2021-11-16T17:19:55.798376",
     "exception": false,
     "start_time": "2021-11-16T17:19:55.572364",
     "status": "completed"
    },
    "tags": []
   },
   "outputs": [],
   "source": [
    "import pickle\n",
    "\n",
    "file = open(\"../input/quote-response/quotexresponseprocessed.pkl\", \"rb\")\n",
    "df = pickle.load(file)\n",
    "file.close()"
   ]
  },
  {
   "cell_type": "code",
   "execution_count": 4,
   "id": "cf8774ee",
   "metadata": {
    "execution": {
     "iopub.execute_input": "2021-11-16T17:19:55.833569Z",
     "iopub.status.busy": "2021-11-16T17:19:55.832790Z",
     "iopub.status.idle": "2021-11-16T17:19:55.874464Z",
     "shell.execute_reply": "2021-11-16T17:19:55.874976Z",
     "shell.execute_reply.started": "2021-11-16T16:37:29.511924Z"
    },
    "papermill": {
     "duration": 0.060425,
     "end_time": "2021-11-16T17:19:55.875149",
     "exception": false,
     "start_time": "2021-11-16T17:19:55.814724",
     "status": "completed"
    },
    "tags": []
   },
   "outputs": [
    {
     "data": {
      "text/html": [
       "<div>\n",
       "<style scoped>\n",
       "    .dataframe tbody tr th:only-of-type {\n",
       "        vertical-align: middle;\n",
       "    }\n",
       "\n",
       "    .dataframe tbody tr th {\n",
       "        vertical-align: top;\n",
       "    }\n",
       "\n",
       "    .dataframe thead th {\n",
       "        text-align: right;\n",
       "    }\n",
       "</style>\n",
       "<table border=\"1\" class=\"dataframe\">\n",
       "  <thead>\n",
       "    <tr style=\"text-align: right;\">\n",
       "      <th></th>\n",
       "      <th>presented_quote</th>\n",
       "      <th>presented_response</th>\n",
       "      <th>emotion_fact</th>\n",
       "      <th>presented_response_tag</th>\n",
       "    </tr>\n",
       "  </thead>\n",
       "  <tbody>\n",
       "    <tr>\n",
       "      <th>0</th>\n",
       "      <td>i get a good idea however they do tend to stay...</td>\n",
       "      <td>by your own admission you havent hang out with...</td>\n",
       "      <td>feeling-based</td>\n",
       "      <td>IN PRP$ JJ NN PRP VBP VB RP IN NN IN DT NN CC ...</td>\n",
       "    </tr>\n",
       "    <tr>\n",
       "      <th>2</th>\n",
       "      <td>one of the big argument against gun control be...</td>\n",
       "      <td>not quite to be more correct regard government...</td>\n",
       "      <td>fact-based</td>\n",
       "      <td>RB RB TO VB RBR JJ JJ NN CC VB DT NN TO VB NN ...</td>\n",
       "    </tr>\n",
       "    <tr>\n",
       "      <th>4</th>\n",
       "      <td>there be some incedents that be beyond your co...</td>\n",
       "      <td>well yes</td>\n",
       "      <td>feeling-based</td>\n",
       "      <td>RB RB</td>\n",
       "    </tr>\n",
       "    <tr>\n",
       "      <th>6</th>\n",
       "      <td>legality do not matter religous implication do...</td>\n",
       "      <td>exact to the point amp beautiful</td>\n",
       "      <td>feeling-based</td>\n",
       "      <td>NN TO DT NN NN NN</td>\n",
       "    </tr>\n",
       "    <tr>\n",
       "      <th>8</th>\n",
       "      <td>once again you seem to support the killing of ...</td>\n",
       "      <td>base on the idea that people be dispensible pa...</td>\n",
       "      <td>feeling-based</td>\n",
       "      <td>NN IN DT NN WDT NNS VB JJ RB IN PRP VBP PRP$ V...</td>\n",
       "    </tr>\n",
       "    <tr>\n",
       "      <th>...</th>\n",
       "      <td>...</td>\n",
       "      <td>...</td>\n",
       "      <td>...</td>\n",
       "      <td>...</td>\n",
       "    </tr>\n",
       "    <tr>\n",
       "      <th>9977</th>\n",
       "      <td>the id movement form of id state that there be...</td>\n",
       "      <td>that of course be the logical fallacy know as ...</td>\n",
       "      <td>fact-based</td>\n",
       "      <td>DT IN NN VB DT JJ NN VBP IN JJ NN DT NN PRP VB...</td>\n",
       "    </tr>\n",
       "    <tr>\n",
       "      <th>9978</th>\n",
       "      <td>for me it would therefore have make no differe...</td>\n",
       "      <td>it logically follow from the moral foundation ...</td>\n",
       "      <td>feeling-based</td>\n",
       "      <td>PRP RB VBP IN DT JJ NN VBN RP CC PRP VBP TO JJ...</td>\n",
       "    </tr>\n",
       "    <tr>\n",
       "      <th>9979</th>\n",
       "      <td>good thing this argument have never be doneoh ...</td>\n",
       "      <td>and teen sex doesnt by the very nature of its ...</td>\n",
       "      <td>feeling-based</td>\n",
       "      <td>CC JJ NN NN IN DT JJ NN IN PRP$ NN NN IN NN DT...</td>\n",
       "    </tr>\n",
       "    <tr>\n",
       "      <th>9980</th>\n",
       "      <td>i know one thing anything that happen politica...</td>\n",
       "      <td>wasnt sinjin crow about his plan to take the f...</td>\n",
       "      <td>feeling-based</td>\n",
       "      <td>NN NN NN IN PRP$ NN TO VB DT NN NN CC NN TO DT...</td>\n",
       "    </tr>\n",
       "    <tr>\n",
       "      <th>9981</th>\n",
       "      <td>i enjoy botany more than most thing and i have...</td>\n",
       "      <td>hi smallax welcome to the forum i do a search ...</td>\n",
       "      <td>fact-based</td>\n",
       "      <td>NN VBZ JJ TO DT NN NN VBP DT NN CC VBP VBN DT ...</td>\n",
       "    </tr>\n",
       "  </tbody>\n",
       "</table>\n",
       "<p>5850 rows × 4 columns</p>\n",
       "</div>"
      ],
      "text/plain": [
       "                                        presented_quote  \\\n",
       "0     i get a good idea however they do tend to stay...   \n",
       "2     one of the big argument against gun control be...   \n",
       "4     there be some incedents that be beyond your co...   \n",
       "6     legality do not matter religous implication do...   \n",
       "8     once again you seem to support the killing of ...   \n",
       "...                                                 ...   \n",
       "9977  the id movement form of id state that there be...   \n",
       "9978  for me it would therefore have make no differe...   \n",
       "9979  good thing this argument have never be doneoh ...   \n",
       "9980  i know one thing anything that happen politica...   \n",
       "9981  i enjoy botany more than most thing and i have...   \n",
       "\n",
       "                                     presented_response   emotion_fact  \\\n",
       "0     by your own admission you havent hang out with...  feeling-based   \n",
       "2     not quite to be more correct regard government...     fact-based   \n",
       "4                                              well yes  feeling-based   \n",
       "6                      exact to the point amp beautiful  feeling-based   \n",
       "8     base on the idea that people be dispensible pa...  feeling-based   \n",
       "...                                                 ...            ...   \n",
       "9977  that of course be the logical fallacy know as ...     fact-based   \n",
       "9978  it logically follow from the moral foundation ...  feeling-based   \n",
       "9979  and teen sex doesnt by the very nature of its ...  feeling-based   \n",
       "9980  wasnt sinjin crow about his plan to take the f...  feeling-based   \n",
       "9981  hi smallax welcome to the forum i do a search ...     fact-based   \n",
       "\n",
       "                                 presented_response_tag  \n",
       "0     IN PRP$ JJ NN PRP VBP VB RP IN NN IN DT NN CC ...  \n",
       "2     RB RB TO VB RBR JJ JJ NN CC VB DT NN TO VB NN ...  \n",
       "4                                                RB RB   \n",
       "6                                    NN TO DT NN NN NN   \n",
       "8     NN IN DT NN WDT NNS VB JJ RB IN PRP VBP PRP$ V...  \n",
       "...                                                 ...  \n",
       "9977  DT IN NN VB DT JJ NN VBP IN JJ NN DT NN PRP VB...  \n",
       "9978  PRP RB VBP IN DT JJ NN VBN RP CC PRP VBP TO JJ...  \n",
       "9979  CC JJ NN NN IN DT JJ NN IN PRP$ NN NN IN NN DT...  \n",
       "9980  NN NN NN IN PRP$ NN TO VB DT NN NN CC NN TO DT...  \n",
       "9981  NN VBZ JJ TO DT NN NN VBP DT NN CC VBP VBN DT ...  \n",
       "\n",
       "[5850 rows x 4 columns]"
      ]
     },
     "execution_count": 4,
     "metadata": {},
     "output_type": "execute_result"
    }
   ],
   "source": [
    "df = df[df['emotion_fact'] != 'unsure']\n",
    "df = df.loc[:, ['presented_quote', 'presented_response', 'emotion_fact', 'presented_response_tag']]\n",
    "df"
   ]
  },
  {
   "cell_type": "code",
   "execution_count": 5,
   "id": "2ebf78f9",
   "metadata": {
    "execution": {
     "iopub.execute_input": "2021-11-16T17:19:55.910459Z",
     "iopub.status.busy": "2021-11-16T17:19:55.909791Z",
     "iopub.status.idle": "2021-11-16T17:19:55.919531Z",
     "shell.execute_reply": "2021-11-16T17:19:55.920099Z",
     "shell.execute_reply.started": "2021-11-16T16:37:29.538552Z"
    },
    "papermill": {
     "duration": 0.029076,
     "end_time": "2021-11-16T17:19:55.920305",
     "exception": false,
     "start_time": "2021-11-16T17:19:55.891229",
     "status": "completed"
    },
    "tags": []
   },
   "outputs": [],
   "source": [
    "# df['presented_quote'] = df['presented_quote'].apply(lambda x: preprocessing(x))\n",
    "# df['presented_response'] = df['presented_response'].apply(lambda x: preprocessing(x))\n",
    "df['emotion_fact'] = df['emotion_fact'].apply(lambda x: label_encoding(x))"
   ]
  },
  {
   "cell_type": "code",
   "execution_count": 6,
   "id": "242ad064",
   "metadata": {
    "execution": {
     "iopub.execute_input": "2021-11-16T17:19:55.956279Z",
     "iopub.status.busy": "2021-11-16T17:19:55.955595Z",
     "iopub.status.idle": "2021-11-16T17:19:55.967160Z",
     "shell.execute_reply": "2021-11-16T17:19:55.967748Z",
     "shell.execute_reply.started": "2021-11-16T16:37:29.550386Z"
    },
    "papermill": {
     "duration": 0.031261,
     "end_time": "2021-11-16T17:19:55.967932",
     "exception": false,
     "start_time": "2021-11-16T17:19:55.936671",
     "status": "completed"
    },
    "tags": []
   },
   "outputs": [],
   "source": [
    "from sklearn.model_selection import train_test_split\n",
    "\n",
    "X = df.loc[:, ['presented_quote', 'presented_response', 'presented_response_tag']]\n",
    "y = df.loc[:, ['emotion_fact']]\n",
    "\n",
    "X_train, X_test, y_train, y_test = train_test_split(X, y, test_size=0.15, random_state=20)"
   ]
  },
  {
   "cell_type": "code",
   "execution_count": 7,
   "id": "db87e7a2",
   "metadata": {
    "execution": {
     "iopub.execute_input": "2021-11-16T17:19:56.004578Z",
     "iopub.status.busy": "2021-11-16T17:19:56.003852Z",
     "iopub.status.idle": "2021-11-16T17:19:56.016016Z",
     "shell.execute_reply": "2021-11-16T17:19:56.016543Z",
     "shell.execute_reply.started": "2021-11-16T16:37:29.574516Z"
    },
    "papermill": {
     "duration": 0.032157,
     "end_time": "2021-11-16T17:19:56.016735",
     "exception": false,
     "start_time": "2021-11-16T17:19:55.984578",
     "status": "completed"
    },
    "tags": []
   },
   "outputs": [],
   "source": [
    "X_train_quotes = X_train['presented_response'].values\n",
    "X_train_responses = X_train['presented_response'].values\n",
    "X_train_responses_tag = X_train['presented_response_tag'].values\n",
    "\n",
    "X_test_quotes = X_test['presented_response'].values\n",
    "X_test_responses = X_test['presented_response'].values\n",
    "X_test_responses_tag = X_test['presented_response_tag'].values\n",
    "\n",
    "y_train = y_train['emotion_fact'].values\n",
    "y_test = y_test['emotion_fact'].values\n",
    "\n",
    "X_train_text = X_train_quotes + X_train_responses + X_train_responses_tag"
   ]
  },
  {
   "cell_type": "code",
   "execution_count": 8,
   "id": "86c70ac3",
   "metadata": {
    "execution": {
     "iopub.execute_input": "2021-11-16T17:19:56.052128Z",
     "iopub.status.busy": "2021-11-16T17:19:56.051496Z",
     "iopub.status.idle": "2021-11-16T17:19:56.057565Z",
     "shell.execute_reply": "2021-11-16T17:19:56.056995Z",
     "shell.execute_reply.started": "2021-11-16T16:37:29.594999Z"
    },
    "papermill": {
     "duration": 0.024887,
     "end_time": "2021-11-16T17:19:56.057708",
     "exception": false,
     "start_time": "2021-11-16T17:19:56.032821",
     "status": "completed"
    },
    "tags": []
   },
   "outputs": [
    {
     "name": "stdout",
     "output_type": "stream",
     "text": [
      "(4972,)\n",
      "(4972,)\n",
      "(878,)\n",
      "(878,)\n"
     ]
    }
   ],
   "source": [
    "print(X_train_quotes.shape)\n",
    "print(X_train_responses.shape)\n",
    "print(X_test_quotes.shape)\n",
    "print(X_test_responses.shape)"
   ]
  },
  {
   "cell_type": "code",
   "execution_count": 9,
   "id": "307d87f5",
   "metadata": {
    "execution": {
     "iopub.execute_input": "2021-11-16T17:19:56.096982Z",
     "iopub.status.busy": "2021-11-16T17:19:56.096302Z",
     "iopub.status.idle": "2021-11-16T17:19:56.315025Z",
     "shell.execute_reply": "2021-11-16T17:19:56.314327Z",
     "shell.execute_reply.started": "2021-11-16T16:37:29.610120Z"
    },
    "papermill": {
     "duration": 0.241077,
     "end_time": "2021-11-16T17:19:56.315189",
     "exception": false,
     "start_time": "2021-11-16T17:19:56.074112",
     "status": "completed"
    },
    "tags": []
   },
   "outputs": [],
   "source": [
    "from sklearn import metrics\n",
    "from sklearn.metrics import classification_report\n",
    "from sklearn.feature_extraction.text import TfidfVectorizer\n",
    "from sklearn.neighbors import KNeighborsClassifier\n",
    "from sklearn.tree import DecisionTreeClassifier\n",
    "from sklearn.ensemble import RandomForestClassifier, AdaBoostClassifier\n",
    "from sklearn.naive_bayes import MultinomialNB\n",
    "from sklearn.dummy import DummyClassifier\n",
    "from xgboost import XGBClassifier\n",
    "from sklearn.svm import SVC"
   ]
  },
  {
   "cell_type": "code",
   "execution_count": 10,
   "id": "1a5ab69d",
   "metadata": {
    "execution": {
     "iopub.execute_input": "2021-11-16T17:19:56.378642Z",
     "iopub.status.busy": "2021-11-16T17:19:56.368136Z",
     "iopub.status.idle": "2021-11-16T17:19:58.821678Z",
     "shell.execute_reply": "2021-11-16T17:19:58.821034Z",
     "shell.execute_reply.started": "2021-11-16T17:18:38.075873Z"
    },
    "papermill": {
     "duration": 2.489595,
     "end_time": "2021-11-16T17:19:58.821847",
     "exception": false,
     "start_time": "2021-11-16T17:19:56.332252",
     "status": "completed"
    },
    "tags": []
   },
   "outputs": [],
   "source": [
    "vectorizer = TfidfVectorizer(max_features=3000)\n",
    "\n",
    "vectorizer.fit(X_train_text)\n",
    "\n",
    "X_train_quotes_ = vectorizer.transform(X_train_quotes)\n",
    "X_train_responses_ = vectorizer.transform(X_train_responses)\n",
    "X_train_responses_tag_ = vectorizer.transform(X_train_responses_tag)\n",
    "\n",
    "X_test_quotes_ = vectorizer.transform(X_test_quotes)\n",
    "X_test_responses_ = vectorizer.transform(X_test_responses)\n",
    "X_test_responses_tag_ = vectorizer.transform(X_test_responses_tag)"
   ]
  },
  {
   "cell_type": "code",
   "execution_count": 11,
   "id": "f0285b50",
   "metadata": {
    "execution": {
     "iopub.execute_input": "2021-11-16T17:19:58.861570Z",
     "iopub.status.busy": "2021-11-16T17:19:58.860830Z",
     "iopub.status.idle": "2021-11-16T17:19:58.863663Z",
     "shell.execute_reply": "2021-11-16T17:19:58.864157Z",
     "shell.execute_reply.started": "2021-11-16T17:18:40.774618Z"
    },
    "papermill": {
     "duration": 0.025421,
     "end_time": "2021-11-16T17:19:58.864336",
     "exception": false,
     "start_time": "2021-11-16T17:19:58.838915",
     "status": "completed"
    },
    "tags": []
   },
   "outputs": [
    {
     "name": "stdout",
     "output_type": "stream",
     "text": [
      "  (0, 2831)\t0.10728743572536519\n",
      "  (0, 2830)\t0.3919208894401395\n",
      "  (0, 2826)\t0.19757641622087066\n",
      "  (0, 2706)\t0.06719069394572035\n",
      "  (0, 2158)\t0.11069042500500868\n",
      "  (0, 2106)\t0.21572161635528578\n",
      "  (0, 1759)\t0.2499519930959555\n",
      "  (0, 1757)\t0.5554732613352785\n",
      "  (0, 1428)\t0.2528894682031386\n",
      "  (0, 1314)\t0.24827234782857924\n",
      "  (0, 913)\t0.15056369450292253\n",
      "  (0, 785)\t0.45695817075416467\n",
      "  (0, 379)\t0.06670252130747925\n"
     ]
    }
   ],
   "source": [
    "print(X_train_responses_tag_[0])"
   ]
  },
  {
   "cell_type": "code",
   "execution_count": 12,
   "id": "62cc800e",
   "metadata": {
    "execution": {
     "iopub.execute_input": "2021-11-16T17:19:58.904287Z",
     "iopub.status.busy": "2021-11-16T17:19:58.903613Z",
     "iopub.status.idle": "2021-11-16T17:19:58.915305Z",
     "shell.execute_reply": "2021-11-16T17:19:58.915889Z",
     "shell.execute_reply.started": "2021-11-16T17:18:40.782198Z"
    },
    "papermill": {
     "duration": 0.035122,
     "end_time": "2021-11-16T17:19:58.916060",
     "exception": false,
     "start_time": "2021-11-16T17:19:58.880938",
     "status": "completed"
    },
    "tags": []
   },
   "outputs": [
    {
     "name": "stdout",
     "output_type": "stream",
     "text": [
      "              precision    recall  f1-score   support\n",
      "\n",
      "           0       0.73      0.89      0.80       524\n",
      "           1       0.75      0.52      0.61       354\n",
      "\n",
      "    accuracy                           0.74       878\n",
      "   macro avg       0.74      0.70      0.71       878\n",
      "weighted avg       0.74      0.74      0.73       878\n",
      "\n"
     ]
    }
   ],
   "source": [
    "clf = MultinomialNB().fit(X_train_responses_, y_train)\n",
    "predicted = clf.predict(X_test_responses_)\n",
    "print(classification_report(y_test, predicted))"
   ]
  },
  {
   "cell_type": "code",
   "execution_count": 13,
   "id": "57d61032",
   "metadata": {
    "execution": {
     "iopub.execute_input": "2021-11-16T17:19:58.953807Z",
     "iopub.status.busy": "2021-11-16T17:19:58.953148Z",
     "iopub.status.idle": "2021-11-16T17:20:02.779249Z",
     "shell.execute_reply": "2021-11-16T17:20:02.779870Z",
     "shell.execute_reply.started": "2021-11-16T17:18:40.809030Z"
    },
    "papermill": {
     "duration": 3.846555,
     "end_time": "2021-11-16T17:20:02.780084",
     "exception": false,
     "start_time": "2021-11-16T17:19:58.933529",
     "status": "completed"
    },
    "tags": []
   },
   "outputs": [
    {
     "name": "stdout",
     "output_type": "stream",
     "text": [
      "[17:19:59] WARNING: ../src/learner.cc:1115: Starting in XGBoost 1.3.0, the default evaluation metric used with the objective 'binary:logistic' was changed from 'error' to 'logloss'. Explicitly set eval_metric if you'd like to restore the old behavior.\n"
     ]
    },
    {
     "name": "stderr",
     "output_type": "stream",
     "text": [
      "/opt/conda/lib/python3.7/site-packages/xgboost/sklearn.py:1224: UserWarning: The use of label encoder in XGBClassifier is deprecated and will be removed in a future release. To remove this warning, do the following: 1) Pass option use_label_encoder=False when constructing XGBClassifier object; and 2) Encode your labels (y) as integers starting with 0, i.e. 0, 1, 2, ..., [num_class - 1].\n",
      "  warnings.warn(label_encoder_deprecation_msg, UserWarning)\n"
     ]
    },
    {
     "name": "stdout",
     "output_type": "stream",
     "text": [
      "              precision    recall  f1-score   support\n",
      "\n",
      "           0       0.78      0.80      0.79       524\n",
      "           1       0.69      0.66      0.67       354\n",
      "\n",
      "    accuracy                           0.74       878\n",
      "   macro avg       0.73      0.73      0.73       878\n",
      "weighted avg       0.74      0.74      0.74       878\n",
      "\n"
     ]
    }
   ],
   "source": [
    "clf = XGBClassifier().fit(X_train_responses_, y_train)\n",
    "predicted = clf.predict(X_test_responses_)\n",
    "print(classification_report(y_test, predicted))"
   ]
  },
  {
   "cell_type": "code",
   "execution_count": 14,
   "id": "ab38a548",
   "metadata": {
    "execution": {
     "iopub.execute_input": "2021-11-16T17:20:02.824891Z",
     "iopub.status.busy": "2021-11-16T17:20:02.824240Z",
     "iopub.status.idle": "2021-11-16T17:20:10.789155Z",
     "shell.execute_reply": "2021-11-16T17:20:10.788559Z",
     "shell.execute_reply.started": "2021-11-16T17:18:44.865087Z"
    },
    "papermill": {
     "duration": 7.989939,
     "end_time": "2021-11-16T17:20:10.789312",
     "exception": false,
     "start_time": "2021-11-16T17:20:02.799373",
     "status": "completed"
    },
    "tags": []
   },
   "outputs": [
    {
     "name": "stdout",
     "output_type": "stream",
     "text": [
      "              precision    recall  f1-score   support\n",
      "\n",
      "           0       0.77      0.83      0.80       524\n",
      "           1       0.71      0.63      0.67       354\n",
      "\n",
      "    accuracy                           0.75       878\n",
      "   macro avg       0.74      0.73      0.73       878\n",
      "weighted avg       0.75      0.75      0.75       878\n",
      "\n"
     ]
    }
   ],
   "source": [
    "clf = SVC().fit(X_train_responses_, y_train)\n",
    "predicted = clf.predict(X_test_responses_)\n",
    "print(classification_report(y_test, predicted))"
   ]
  },
  {
   "cell_type": "code",
   "execution_count": 15,
   "id": "ef07a9ec",
   "metadata": {
    "execution": {
     "iopub.execute_input": "2021-11-16T17:20:10.829528Z",
     "iopub.status.busy": "2021-11-16T17:20:10.828845Z",
     "iopub.status.idle": "2021-11-16T17:20:15.787306Z",
     "shell.execute_reply": "2021-11-16T17:20:15.787922Z",
     "shell.execute_reply.started": "2021-11-16T17:18:54.163709Z"
    },
    "papermill": {
     "duration": 4.980231,
     "end_time": "2021-11-16T17:20:15.788104",
     "exception": false,
     "start_time": "2021-11-16T17:20:10.807873",
     "status": "completed"
    },
    "tags": []
   },
   "outputs": [
    {
     "name": "stdout",
     "output_type": "stream",
     "text": [
      "              precision    recall  f1-score   support\n",
      "\n",
      "           0       0.74      0.85      0.79       524\n",
      "           1       0.71      0.55      0.62       354\n",
      "\n",
      "    accuracy                           0.73       878\n",
      "   macro avg       0.72      0.70      0.71       878\n",
      "weighted avg       0.73      0.73      0.72       878\n",
      "\n"
     ]
    }
   ],
   "source": [
    "clf = RandomForestClassifier().fit(X_train_responses_, y_train)\n",
    "predicted = clf.predict(X_test_responses_)\n",
    "print(classification_report(y_test, predicted))"
   ]
  },
  {
   "cell_type": "code",
   "execution_count": 16,
   "id": "b1e25028",
   "metadata": {
    "execution": {
     "iopub.execute_input": "2021-11-16T17:20:15.828557Z",
     "iopub.status.busy": "2021-11-16T17:20:15.827917Z",
     "iopub.status.idle": "2021-11-16T17:20:17.270379Z",
     "shell.execute_reply": "2021-11-16T17:20:17.270863Z",
     "shell.execute_reply.started": "2021-11-16T17:18:59.336307Z"
    },
    "papermill": {
     "duration": 1.464302,
     "end_time": "2021-11-16T17:20:17.271041",
     "exception": false,
     "start_time": "2021-11-16T17:20:15.806739",
     "status": "completed"
    },
    "tags": []
   },
   "outputs": [
    {
     "name": "stdout",
     "output_type": "stream",
     "text": [
      "              precision    recall  f1-score   support\n",
      "\n",
      "           0       0.73      0.75      0.74       524\n",
      "           1       0.61      0.59      0.60       354\n",
      "\n",
      "    accuracy                           0.69       878\n",
      "   macro avg       0.67      0.67      0.67       878\n",
      "weighted avg       0.68      0.69      0.68       878\n",
      "\n"
     ]
    }
   ],
   "source": [
    "clf = AdaBoostClassifier().fit(X_train_responses_, y_train)\n",
    "predicted = clf.predict(X_test_responses_)\n",
    "print(classification_report(y_test, predicted))"
   ]
  }
 ],
 "metadata": {
  "kernelspec": {
   "display_name": "Python 3",
   "language": "python",
   "name": "python3"
  },
  "language_info": {
   "codemirror_mode": {
    "name": "ipython",
    "version": 3
   },
   "file_extension": ".py",
   "mimetype": "text/x-python",
   "name": "python",
   "nbconvert_exporter": "python",
   "pygments_lexer": "ipython3",
   "version": "3.7.10"
  },
  "papermill": {
   "default_parameters": {},
   "duration": 34.029939,
   "end_time": "2021-11-16T17:20:18.001862",
   "environment_variables": {},
   "exception": null,
   "input_path": "__notebook__.ipynb",
   "output_path": "__notebook__.ipynb",
   "parameters": {},
   "start_time": "2021-11-16T17:19:43.971923",
   "version": "2.3.3"
  }
 },
 "nbformat": 4,
 "nbformat_minor": 5
}
