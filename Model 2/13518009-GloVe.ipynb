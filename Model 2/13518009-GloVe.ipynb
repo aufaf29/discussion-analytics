{
 "cells": [
  {
   "cell_type": "code",
   "execution_count": 1,
   "id": "e9ea7dc0",
   "metadata": {
    "_cell_guid": "b1076dfc-b9ad-4769-8c92-a6c4dae69d19",
    "_uuid": "8f2839f25d086af736a60e9eeb907d3b93b6e0e5",
    "execution": {
     "iopub.execute_input": "2021-11-16T20:06:13.804281Z",
     "iopub.status.busy": "2021-11-16T20:06:13.803486Z",
     "iopub.status.idle": "2021-11-16T20:06:20.279941Z",
     "shell.execute_reply": "2021-11-16T20:06:20.280372Z"
    },
    "papermill": {
     "duration": 6.50475,
     "end_time": "2021-11-16T20:06:20.280651",
     "exception": false,
     "start_time": "2021-11-16T20:06:13.775901",
     "status": "completed"
    },
    "tags": []
   },
   "outputs": [
    {
     "name": "stdout",
     "output_type": "stream",
     "text": [
      "[nltk_data] Downloading package wordnet to /usr/share/nltk_data...\n",
      "[nltk_data]   Package wordnet is already up-to-date!\n",
      "[nltk_data] Downloading package averaged_perceptron_tagger to\n",
      "[nltk_data]     /usr/share/nltk_data...\n",
      "[nltk_data]   Package averaged_perceptron_tagger is already up-to-\n",
      "[nltk_data]       date!\n"
     ]
    }
   ],
   "source": [
    "import re\n",
    "import nltk\n",
    "import string\n",
    "import codecs\n",
    "import warnings\n",
    "import numpy as np\n",
    "import pandas as pd\n",
    "import fasttext.util\n",
    "import seaborn as sns\n",
    "import tensorflow as tf\n",
    "import matplotlib.pyplot as plt\n",
    "\n",
    "from sklearn.metrics import classification_report, confusion_matrix\n",
    "\n",
    "from tensorflow import keras\n",
    "from tensorflow.keras import layers, models, initializers, regularizers, constraints, optimizers\n",
    "from tensorflow.keras.models import Sequential\n",
    "from tensorflow.keras.layers import Input, Dense, Conv1D, Embedding, Dropout, GlobalMaxPool1D, SpatialDropout1D, BatchNormalization, Bidirectional, LSTM, GlobalMaxPooling1D, MaxPooling1D, Flatten\n",
    "from tensorflow.keras.preprocessing.text import Tokenizer\n",
    "from tensorflow.keras.preprocessing.sequence import pad_sequences\n",
    "from tensorflow.keras.preprocessing import text, sequence\n",
    "\n",
    "from tqdm import tqdm\n",
    "\n",
    "from nltk.corpus import stopwords\n",
    "from nltk.corpus import wordnet\n",
    "from nltk.tokenize import word_tokenize \n",
    "from nltk.stem import WordNetLemmatizer \n",
    "\n",
    "nltk.download('wordnet')\n",
    "nltk.download('averaged_perceptron_tagger')\n",
    "\n",
    "\n",
    "warnings.simplefilter(action=\"ignore\", category=FutureWarning)"
   ]
  },
  {
   "cell_type": "code",
   "execution_count": 2,
   "id": "c6b52299",
   "metadata": {
    "execution": {
     "iopub.execute_input": "2021-11-16T20:06:20.329242Z",
     "iopub.status.busy": "2021-11-16T20:06:20.328702Z",
     "iopub.status.idle": "2021-11-16T20:06:20.332296Z",
     "shell.execute_reply": "2021-11-16T20:06:20.331872Z"
    },
    "papermill": {
     "duration": 0.034263,
     "end_time": "2021-11-16T20:06:20.332400",
     "exception": false,
     "start_time": "2021-11-16T20:06:20.298137",
     "status": "completed"
    },
    "tags": []
   },
   "outputs": [],
   "source": [
    "def glove_embedding():\n",
    "    \n",
    "    dictionary = {}\n",
    "    file = open(\"../input/donors-choose-complete-dataset-direct-upload/glove.42B.300d.txt\")\n",
    "    for line in tqdm(file, desc=\"Load Vector Model \"):\n",
    "        values = line.split(' ')\n",
    "        word, coefs = values[0], np.asarray(values[1:], dtype='float32')\n",
    "        dictionary[word] = coefs\n",
    "\n",
    "    file.close()\n",
    "    return dictionary\n",
    "\n",
    "\n",
    "lemmatizer = WordNetLemmatizer()\n",
    "\n",
    "\n",
    "def embedding_matrix(tokenizer, embeddings_index, size):\n",
    "    embedding_matrix = np.zeros((len(tokenizer.word_index)+1, size))\n",
    "\n",
    "    for word, i in tokenizer.word_index.items():\n",
    "        embedding_vector = embeddings_index.get(word)\n",
    "        if embedding_vector is not None:\n",
    "            embedding_matrix[i] = embedding_vector\n",
    "    return embedding_matrix\n",
    "\n",
    "def longest_sentence(sentences):\n",
    "    max = 0\n",
    "    idx = 0\n",
    "    for i in range(len(sentences)):\n",
    "        words = sentences[i].split(' ')\n",
    "        if(len(words) > max):\n",
    "            max = len(words)\n",
    "            idx = i\n",
    "    return max, idx\n",
    "\n",
    "def label_encoding(label):\n",
    "    if(label == 'fact-based'):\n",
    "        return 0\n",
    "    elif(label == 'feeling-based'):\n",
    "        return 1\n",
    "    else:\n",
    "        return 2\n",
    "    \n",
    "def nltk_tag_to_wordnet_tag(nltk_tag):\n",
    "    if nltk_tag.startswith('J'):\n",
    "        return wordnet.ADJ\n",
    "    elif nltk_tag.startswith('V'):\n",
    "        return wordnet.VERB\n",
    "    elif nltk_tag.startswith('N'):\n",
    "        return wordnet.NOUN\n",
    "    elif nltk_tag.startswith('R'):\n",
    "        return wordnet.ADV\n",
    "    else:          \n",
    "        return None\n",
    "    \n",
    "def lemmatize_sentence(sentence):\n",
    "\n",
    "    nltk_tagged = nltk.pos_tag(nltk.word_tokenize(sentence))  \n",
    "    wordnet_tagged = map(lambda x: (x[0], nltk_tag_to_wordnet_tag(x[1])), nltk_tagged)\n",
    "    \n",
    "    lemmatized_sentence = []\n",
    "    for word, tag in wordnet_tagged:\n",
    "        if tag is None:\n",
    "            lemmatized_sentence.append(word)\n",
    "        else:        \n",
    "            lemmatized_sentence.append(lemmatizer.lemmatize(word, tag))\n",
    "    return \" \".join(lemmatized_sentence)\n",
    "\n",
    "def sentence_pos_tag(sentence):\n",
    "    text = word_tokenize(sentence)\n",
    "    pos_tag = nltk.pos_tag(text)\n",
    "    pos_tag_res = ''\n",
    "    for i in range(len(pos_tag)):\n",
    "        pos_tag_res += pos_tag[i][1]\n",
    "        pos_tag_res += ' ' if i != len(sentence)-1 else '' \n",
    "    return pos_tag_res\n",
    "\n",
    "def preprocessing(text):\n",
    "    text = text.lower()\n",
    "    text = text.strip()\n",
    "    text = re.sub(r\" \\d+ \", \" \", text)\n",
    "    text = text.translate(str.maketrans(\"\", \"\", string.punctuation))\n",
    "    text = re.sub(r\"[^a-z ]\", \"\", text)\n",
    "    text = re.sub(r\"  \", \" \", text)\n",
    "    text = lemmatize_sentence(text)\n",
    "    return text"
   ]
  },
  {
   "cell_type": "markdown",
   "id": "10754a75",
   "metadata": {
    "papermill": {
     "duration": 0.015063,
     "end_time": "2021-11-16T20:06:20.362640",
     "exception": false,
     "start_time": "2021-11-16T20:06:20.347577",
     "status": "completed"
    },
    "tags": []
   },
   "source": [
    "### Load Preprocessed Data\n",
    "\n",
    "Untuk mengurangi waktu dan beban komputasi"
   ]
  },
  {
   "cell_type": "code",
   "execution_count": 3,
   "id": "e34183cb",
   "metadata": {
    "execution": {
     "iopub.execute_input": "2021-11-16T20:06:20.396927Z",
     "iopub.status.busy": "2021-11-16T20:06:20.396307Z",
     "iopub.status.idle": "2021-11-16T20:06:20.628153Z",
     "shell.execute_reply": "2021-11-16T20:06:20.627559Z"
    },
    "papermill": {
     "duration": 0.25042,
     "end_time": "2021-11-16T20:06:20.628287",
     "exception": false,
     "start_time": "2021-11-16T20:06:20.377867",
     "status": "completed"
    },
    "tags": []
   },
   "outputs": [],
   "source": [
    "import pickle\n",
    "\n",
    "file = open(\"../input/quote-response/quotexresponseprocessed.pkl\", \"rb\")\n",
    "df = pickle.load(file)\n",
    "file.close()"
   ]
  },
  {
   "cell_type": "code",
   "execution_count": 4,
   "id": "bbaf3a0a",
   "metadata": {
    "execution": {
     "iopub.execute_input": "2021-11-16T20:06:20.673439Z",
     "iopub.status.busy": "2021-11-16T20:06:20.672469Z",
     "iopub.status.idle": "2021-11-16T20:06:20.694298Z",
     "shell.execute_reply": "2021-11-16T20:06:20.694743Z"
    },
    "papermill": {
     "duration": 0.050084,
     "end_time": "2021-11-16T20:06:20.694875",
     "exception": false,
     "start_time": "2021-11-16T20:06:20.644791",
     "status": "completed"
    },
    "tags": []
   },
   "outputs": [
    {
     "data": {
      "text/html": [
       "<div>\n",
       "<style scoped>\n",
       "    .dataframe tbody tr th:only-of-type {\n",
       "        vertical-align: middle;\n",
       "    }\n",
       "\n",
       "    .dataframe tbody tr th {\n",
       "        vertical-align: top;\n",
       "    }\n",
       "\n",
       "    .dataframe thead th {\n",
       "        text-align: right;\n",
       "    }\n",
       "</style>\n",
       "<table border=\"1\" class=\"dataframe\">\n",
       "  <thead>\n",
       "    <tr style=\"text-align: right;\">\n",
       "      <th></th>\n",
       "      <th>presented_quote</th>\n",
       "      <th>presented_response</th>\n",
       "      <th>emotion_fact</th>\n",
       "      <th>presented_response_tag</th>\n",
       "    </tr>\n",
       "  </thead>\n",
       "  <tbody>\n",
       "    <tr>\n",
       "      <th>0</th>\n",
       "      <td>i get a good idea however they do tend to stay...</td>\n",
       "      <td>by your own admission you havent hang out with...</td>\n",
       "      <td>feeling-based</td>\n",
       "      <td>IN PRP$ JJ NN PRP VBP VB RP IN NN IN DT NN CC ...</td>\n",
       "    </tr>\n",
       "    <tr>\n",
       "      <th>2</th>\n",
       "      <td>one of the big argument against gun control be...</td>\n",
       "      <td>not quite to be more correct regard government...</td>\n",
       "      <td>fact-based</td>\n",
       "      <td>RB RB TO VB RBR JJ JJ NN CC VB DT NN TO VB NN ...</td>\n",
       "    </tr>\n",
       "    <tr>\n",
       "      <th>4</th>\n",
       "      <td>there be some incedents that be beyond your co...</td>\n",
       "      <td>well yes</td>\n",
       "      <td>feeling-based</td>\n",
       "      <td>RB RB</td>\n",
       "    </tr>\n",
       "    <tr>\n",
       "      <th>6</th>\n",
       "      <td>legality do not matter religous implication do...</td>\n",
       "      <td>exact to the point amp beautiful</td>\n",
       "      <td>feeling-based</td>\n",
       "      <td>NN TO DT NN NN NN</td>\n",
       "    </tr>\n",
       "    <tr>\n",
       "      <th>8</th>\n",
       "      <td>once again you seem to support the killing of ...</td>\n",
       "      <td>base on the idea that people be dispensible pa...</td>\n",
       "      <td>feeling-based</td>\n",
       "      <td>NN IN DT NN WDT NNS VB JJ RB IN PRP VBP PRP$ V...</td>\n",
       "    </tr>\n",
       "    <tr>\n",
       "      <th>...</th>\n",
       "      <td>...</td>\n",
       "      <td>...</td>\n",
       "      <td>...</td>\n",
       "      <td>...</td>\n",
       "    </tr>\n",
       "    <tr>\n",
       "      <th>9977</th>\n",
       "      <td>the id movement form of id state that there be...</td>\n",
       "      <td>that of course be the logical fallacy know as ...</td>\n",
       "      <td>fact-based</td>\n",
       "      <td>DT IN NN VB DT JJ NN VBP IN JJ NN DT NN PRP VB...</td>\n",
       "    </tr>\n",
       "    <tr>\n",
       "      <th>9978</th>\n",
       "      <td>for me it would therefore have make no differe...</td>\n",
       "      <td>it logically follow from the moral foundation ...</td>\n",
       "      <td>feeling-based</td>\n",
       "      <td>PRP RB VBP IN DT JJ NN VBN RP CC PRP VBP TO JJ...</td>\n",
       "    </tr>\n",
       "    <tr>\n",
       "      <th>9979</th>\n",
       "      <td>good thing this argument have never be doneoh ...</td>\n",
       "      <td>and teen sex doesnt by the very nature of its ...</td>\n",
       "      <td>feeling-based</td>\n",
       "      <td>CC JJ NN NN IN DT JJ NN IN PRP$ NN NN IN NN DT...</td>\n",
       "    </tr>\n",
       "    <tr>\n",
       "      <th>9980</th>\n",
       "      <td>i know one thing anything that happen politica...</td>\n",
       "      <td>wasnt sinjin crow about his plan to take the f...</td>\n",
       "      <td>feeling-based</td>\n",
       "      <td>NN NN NN IN PRP$ NN TO VB DT NN NN CC NN TO DT...</td>\n",
       "    </tr>\n",
       "    <tr>\n",
       "      <th>9981</th>\n",
       "      <td>i enjoy botany more than most thing and i have...</td>\n",
       "      <td>hi smallax welcome to the forum i do a search ...</td>\n",
       "      <td>fact-based</td>\n",
       "      <td>NN VBZ JJ TO DT NN NN VBP DT NN CC VBP VBN DT ...</td>\n",
       "    </tr>\n",
       "  </tbody>\n",
       "</table>\n",
       "<p>5850 rows × 4 columns</p>\n",
       "</div>"
      ],
      "text/plain": [
       "                                        presented_quote  \\\n",
       "0     i get a good idea however they do tend to stay...   \n",
       "2     one of the big argument against gun control be...   \n",
       "4     there be some incedents that be beyond your co...   \n",
       "6     legality do not matter religous implication do...   \n",
       "8     once again you seem to support the killing of ...   \n",
       "...                                                 ...   \n",
       "9977  the id movement form of id state that there be...   \n",
       "9978  for me it would therefore have make no differe...   \n",
       "9979  good thing this argument have never be doneoh ...   \n",
       "9980  i know one thing anything that happen politica...   \n",
       "9981  i enjoy botany more than most thing and i have...   \n",
       "\n",
       "                                     presented_response   emotion_fact  \\\n",
       "0     by your own admission you havent hang out with...  feeling-based   \n",
       "2     not quite to be more correct regard government...     fact-based   \n",
       "4                                              well yes  feeling-based   \n",
       "6                      exact to the point amp beautiful  feeling-based   \n",
       "8     base on the idea that people be dispensible pa...  feeling-based   \n",
       "...                                                 ...            ...   \n",
       "9977  that of course be the logical fallacy know as ...     fact-based   \n",
       "9978  it logically follow from the moral foundation ...  feeling-based   \n",
       "9979  and teen sex doesnt by the very nature of its ...  feeling-based   \n",
       "9980  wasnt sinjin crow about his plan to take the f...  feeling-based   \n",
       "9981  hi smallax welcome to the forum i do a search ...     fact-based   \n",
       "\n",
       "                                 presented_response_tag  \n",
       "0     IN PRP$ JJ NN PRP VBP VB RP IN NN IN DT NN CC ...  \n",
       "2     RB RB TO VB RBR JJ JJ NN CC VB DT NN TO VB NN ...  \n",
       "4                                                RB RB   \n",
       "6                                    NN TO DT NN NN NN   \n",
       "8     NN IN DT NN WDT NNS VB JJ RB IN PRP VBP PRP$ V...  \n",
       "...                                                 ...  \n",
       "9977  DT IN NN VB DT JJ NN VBP IN JJ NN DT NN PRP VB...  \n",
       "9978  PRP RB VBP IN DT JJ NN VBN RP CC PRP VBP TO JJ...  \n",
       "9979  CC JJ NN NN IN DT JJ NN IN PRP$ NN NN IN NN DT...  \n",
       "9980  NN NN NN IN PRP$ NN TO VB DT NN NN CC NN TO DT...  \n",
       "9981  NN VBZ JJ TO DT NN NN VBP DT NN CC VBP VBN DT ...  \n",
       "\n",
       "[5850 rows x 4 columns]"
      ]
     },
     "execution_count": 4,
     "metadata": {},
     "output_type": "execute_result"
    }
   ],
   "source": [
    "df = df[df['emotion_fact'] != 'unsure']\n",
    "df = df.loc[:, ['presented_quote', 'presented_response', 'emotion_fact', 'presented_response_tag']]\n",
    "df"
   ]
  },
  {
   "cell_type": "code",
   "execution_count": 5,
   "id": "66b04137",
   "metadata": {
    "execution": {
     "iopub.execute_input": "2021-11-16T20:06:20.730028Z",
     "iopub.status.busy": "2021-11-16T20:06:20.729165Z",
     "iopub.status.idle": "2021-11-16T20:06:20.738175Z",
     "shell.execute_reply": "2021-11-16T20:06:20.737775Z"
    },
    "papermill": {
     "duration": 0.027316,
     "end_time": "2021-11-16T20:06:20.738290",
     "exception": false,
     "start_time": "2021-11-16T20:06:20.710974",
     "status": "completed"
    },
    "tags": []
   },
   "outputs": [],
   "source": [
    "# df['presented_quote'] = df['presented_quote'].apply(lambda x: preprocessing(x))\n",
    "# df['presented_response'] = df['presented_response'].apply(lambda x: preprocessing(x))\n",
    "df['emotion_fact'] = df['emotion_fact'].apply(lambda x: label_encoding(x))"
   ]
  },
  {
   "cell_type": "code",
   "execution_count": 6,
   "id": "8a3e1e36",
   "metadata": {
    "execution": {
     "iopub.execute_input": "2021-11-16T20:06:20.780978Z",
     "iopub.status.busy": "2021-11-16T20:06:20.780099Z",
     "iopub.status.idle": "2021-11-16T20:06:20.784466Z",
     "shell.execute_reply": "2021-11-16T20:06:20.784029Z"
    },
    "papermill": {
     "duration": 0.030032,
     "end_time": "2021-11-16T20:06:20.784579",
     "exception": false,
     "start_time": "2021-11-16T20:06:20.754547",
     "status": "completed"
    },
    "tags": []
   },
   "outputs": [],
   "source": [
    "from sklearn.model_selection import train_test_split\n",
    "\n",
    "X = df.loc[:, ['presented_quote', 'presented_response', 'presented_response_tag']]\n",
    "y = df.loc[:, ['emotion_fact']]\n",
    "\n",
    "X_train, X_test, y_train, y_test = train_test_split(X, y, test_size=0.15, random_state=20)"
   ]
  },
  {
   "cell_type": "code",
   "execution_count": 7,
   "id": "2d9f1fec",
   "metadata": {
    "execution": {
     "iopub.execute_input": "2021-11-16T20:06:20.829160Z",
     "iopub.status.busy": "2021-11-16T20:06:20.828356Z",
     "iopub.status.idle": "2021-11-16T20:06:20.830098Z",
     "shell.execute_reply": "2021-11-16T20:06:20.830664Z"
    },
    "papermill": {
     "duration": 0.029151,
     "end_time": "2021-11-16T20:06:20.830790",
     "exception": false,
     "start_time": "2021-11-16T20:06:20.801639",
     "status": "completed"
    },
    "tags": []
   },
   "outputs": [],
   "source": [
    "X_train_quotes = X_train['presented_response'].values\n",
    "X_train_responses = X_train['presented_response'].values\n",
    "X_train_responses_tag = X_train['presented_response_tag'].values\n",
    "\n",
    "X_test_quotes = X_test['presented_response'].values\n",
    "X_test_responses = X_test['presented_response'].values\n",
    "X_test_responses_tag = X_test['presented_response_tag'].values\n",
    "\n",
    "y_train = y_train['emotion_fact'].values\n",
    "y_test = y_test['emotion_fact'].values\n",
    "\n",
    "X_train_text = X_train_quotes + X_train_responses + X_train_responses_tag"
   ]
  },
  {
   "cell_type": "code",
   "execution_count": 8,
   "id": "40cb26ad",
   "metadata": {
    "execution": {
     "iopub.execute_input": "2021-11-16T20:06:20.896694Z",
     "iopub.status.busy": "2021-11-16T20:06:20.886449Z",
     "iopub.status.idle": "2021-11-16T20:06:22.826935Z",
     "shell.execute_reply": "2021-11-16T20:06:22.828100Z"
    },
    "papermill": {
     "duration": 1.981043,
     "end_time": "2021-11-16T20:06:22.828319",
     "exception": false,
     "start_time": "2021-11-16T20:06:20.847276",
     "status": "completed"
    },
    "tags": []
   },
   "outputs": [],
   "source": [
    "tokenizer = Tokenizer(num_words=300000)\n",
    "tokenizer.fit_on_texts(list(X_train_text))\n",
    "\n",
    "X_train_quotes = tokenizer.texts_to_sequences(X_train_quotes)\n",
    "X_train_responses = tokenizer.texts_to_sequences(X_train_responses)\n",
    "X_train_responses_tag = tokenizer.texts_to_sequences(X_train_responses_tag)\n",
    "\n",
    "X_test_quotes = tokenizer.texts_to_sequences(X_test_quotes)\n",
    "X_test_responses = tokenizer.texts_to_sequences(X_test_responses)\n",
    "X_test_responses_tag = tokenizer.texts_to_sequences(X_test_responses_tag)\n",
    "\n",
    "X_train_quotes = sequence.pad_sequences(X_train_quotes, maxlen=1000)\n",
    "X_train_responses = sequence.pad_sequences(X_train_responses, maxlen=1000)\n",
    "X_train_responses_tag = sequence.pad_sequences(X_train_responses_tag, maxlen=1000)\n",
    "\n",
    "X_test_quotes = sequence.pad_sequences(X_test_quotes, maxlen=1000)\n",
    "X_test_responses = sequence.pad_sequences(X_test_responses, maxlen=1000)\n",
    "X_test_responses_tag = sequence.pad_sequences(X_test_responses_tag, maxlen=1000)"
   ]
  },
  {
   "cell_type": "code",
   "execution_count": 9,
   "id": "a1f93f57",
   "metadata": {
    "execution": {
     "iopub.execute_input": "2021-11-16T20:06:22.872559Z",
     "iopub.status.busy": "2021-11-16T20:06:22.870939Z",
     "iopub.status.idle": "2021-11-16T20:06:22.874967Z",
     "shell.execute_reply": "2021-11-16T20:06:22.874338Z"
    },
    "papermill": {
     "duration": 0.025591,
     "end_time": "2021-11-16T20:06:22.875107",
     "exception": false,
     "start_time": "2021-11-16T20:06:22.849516",
     "status": "completed"
    },
    "tags": []
   },
   "outputs": [
    {
     "name": "stdout",
     "output_type": "stream",
     "text": [
      "(4972, 1000)\n",
      "(4972, 1000)\n",
      "(878, 1000)\n",
      "(878, 1000)\n"
     ]
    }
   ],
   "source": [
    "print(X_train_quotes.shape)\n",
    "print(X_train_responses.shape)\n",
    "print(X_test_quotes.shape)\n",
    "print(X_test_responses.shape)"
   ]
  },
  {
   "cell_type": "markdown",
   "id": "b44147ed",
   "metadata": {
    "papermill": {
     "duration": 0.016599,
     "end_time": "2021-11-16T20:06:22.909717",
     "exception": false,
     "start_time": "2021-11-16T20:06:22.893118",
     "status": "completed"
    },
    "tags": []
   },
   "source": [
    "### GloVe Embeddings"
   ]
  },
  {
   "cell_type": "code",
   "execution_count": 10,
   "id": "b9c2d0d4",
   "metadata": {
    "execution": {
     "iopub.execute_input": "2021-11-16T20:06:22.947237Z",
     "iopub.status.busy": "2021-11-16T20:06:22.946733Z",
     "iopub.status.idle": "2021-11-16T20:10:08.671973Z",
     "shell.execute_reply": "2021-11-16T20:10:08.671520Z"
    },
    "papermill": {
     "duration": 225.745024,
     "end_time": "2021-11-16T20:10:08.672110",
     "exception": false,
     "start_time": "2021-11-16T20:06:22.927086",
     "status": "completed"
    },
    "tags": []
   },
   "outputs": [
    {
     "name": "stderr",
     "output_type": "stream",
     "text": [
      "Load Vector Model : 1917495it [03:45, 8497.68it/s]\n"
     ]
    }
   ],
   "source": [
    "glove_index = glove_embedding()\n",
    "glove_matrix = embedding_matrix(tokenizer, glove_index, 300)"
   ]
  },
  {
   "cell_type": "markdown",
   "id": "1494cd4b",
   "metadata": {
    "papermill": {
     "duration": 0.774061,
     "end_time": "2021-11-16T20:10:10.254533",
     "exception": false,
     "start_time": "2021-11-16T20:10:09.480472",
     "status": "completed"
    },
    "tags": []
   },
   "source": [
    "## Model 1 (Input Quote dan Response dalam Arsitektur BiLSTM sederhana)"
   ]
  },
  {
   "cell_type": "code",
   "execution_count": 11,
   "id": "7d649234",
   "metadata": {
    "execution": {
     "iopub.execute_input": "2021-11-16T20:10:11.398196Z",
     "iopub.status.busy": "2021-11-16T20:10:11.397509Z",
     "iopub.status.idle": "2021-11-16T20:10:15.284609Z",
     "shell.execute_reply": "2021-11-16T20:10:15.285140Z"
    },
    "papermill": {
     "duration": 4.464394,
     "end_time": "2021-11-16T20:10:15.285291",
     "exception": false,
     "start_time": "2021-11-16T20:10:10.820897",
     "status": "completed"
    },
    "tags": []
   },
   "outputs": [
    {
     "name": "stderr",
     "output_type": "stream",
     "text": [
      "2021-11-16 20:10:11.486493: I tensorflow/stream_executor/cuda/cuda_gpu_executor.cc:937] successful NUMA node read from SysFS had negative value (-1), but there must be at least one NUMA node, so returning NUMA node zero\n",
      "2021-11-16 20:10:11.613574: I tensorflow/stream_executor/cuda/cuda_gpu_executor.cc:937] successful NUMA node read from SysFS had negative value (-1), but there must be at least one NUMA node, so returning NUMA node zero\n",
      "2021-11-16 20:10:11.614324: I tensorflow/stream_executor/cuda/cuda_gpu_executor.cc:937] successful NUMA node read from SysFS had negative value (-1), but there must be at least one NUMA node, so returning NUMA node zero\n",
      "2021-11-16 20:10:11.615507: I tensorflow/core/platform/cpu_feature_guard.cc:142] This TensorFlow binary is optimized with oneAPI Deep Neural Network Library (oneDNN) to use the following CPU instructions in performance-critical operations:  AVX2 AVX512F FMA\n",
      "To enable them in other operations, rebuild TensorFlow with the appropriate compiler flags.\n",
      "2021-11-16 20:10:11.616786: I tensorflow/stream_executor/cuda/cuda_gpu_executor.cc:937] successful NUMA node read from SysFS had negative value (-1), but there must be at least one NUMA node, so returning NUMA node zero\n",
      "2021-11-16 20:10:11.617511: I tensorflow/stream_executor/cuda/cuda_gpu_executor.cc:937] successful NUMA node read from SysFS had negative value (-1), but there must be at least one NUMA node, so returning NUMA node zero\n",
      "2021-11-16 20:10:11.618151: I tensorflow/stream_executor/cuda/cuda_gpu_executor.cc:937] successful NUMA node read from SysFS had negative value (-1), but there must be at least one NUMA node, so returning NUMA node zero\n",
      "2021-11-16 20:10:13.590581: I tensorflow/stream_executor/cuda/cuda_gpu_executor.cc:937] successful NUMA node read from SysFS had negative value (-1), but there must be at least one NUMA node, so returning NUMA node zero\n",
      "2021-11-16 20:10:13.591347: I tensorflow/stream_executor/cuda/cuda_gpu_executor.cc:937] successful NUMA node read from SysFS had negative value (-1), but there must be at least one NUMA node, so returning NUMA node zero\n",
      "2021-11-16 20:10:13.592065: I tensorflow/stream_executor/cuda/cuda_gpu_executor.cc:937] successful NUMA node read from SysFS had negative value (-1), but there must be at least one NUMA node, so returning NUMA node zero\n",
      "2021-11-16 20:10:13.592679: I tensorflow/core/common_runtime/gpu/gpu_device.cc:1510] Created device /job:localhost/replica:0/task:0/device:GPU:0 with 15403 MB memory:  -> device: 0, name: Tesla P100-PCIE-16GB, pci bus id: 0000:00:04.0, compute capability: 6.0\n"
     ]
    }
   ],
   "source": [
    "quote_input    = keras.Input(shape=(None,), name='quote')\n",
    "response_input = keras.Input(shape=(None,), name='response')\n",
    "\n",
    "quote_feature    = layers.Embedding(glove_matrix.shape[0], input_length=1000, output_dim=glove_matrix.shape[1], weights=[glove_matrix], trainable=False)(quote_input)\n",
    "response_feature = layers.Embedding(glove_matrix.shape[0], input_length=1000, output_dim=glove_matrix.shape[1], weights=[glove_matrix], trainable=False)(response_input)\n",
    "\n",
    "quote_feature    = layers.Bidirectional(LSTM(100, return_sequences=True))(quote_feature)\n",
    "quote_feature    = layers.LSTM(100, return_sequences=False)(quote_feature)\n",
    "\n",
    "response_feature = layers.Bidirectional(LSTM(100, return_sequences=True))(response_feature)\n",
    "response_feature = layers.LSTM(100, return_sequences=False)(response_feature)\n",
    "\n",
    "double = layers.concatenate([quote_feature, response_feature])\n",
    "\n",
    "dense  = layers.Dense(200, activation='relu')(double)\n",
    "\n",
    "dense  = layers.Dropout(0.3)(dense)  \n",
    "\n",
    "pred   = layers.Dense(2, activation='softmax', name='argument_emotion')(dense)\n",
    "\n",
    "model = keras.Model(inputs=[quote_input, response_input], outputs=[pred],)"
   ]
  },
  {
   "cell_type": "code",
   "execution_count": 12,
   "id": "b847a55b",
   "metadata": {
    "execution": {
     "iopub.execute_input": "2021-11-16T20:10:16.433391Z",
     "iopub.status.busy": "2021-11-16T20:10:16.432471Z",
     "iopub.status.idle": "2021-11-16T20:10:16.440833Z",
     "shell.execute_reply": "2021-11-16T20:10:16.441269Z"
    },
    "papermill": {
     "duration": 0.591902,
     "end_time": "2021-11-16T20:10:16.441465",
     "exception": false,
     "start_time": "2021-11-16T20:10:15.849563",
     "status": "completed"
    },
    "tags": []
   },
   "outputs": [
    {
     "name": "stdout",
     "output_type": "stream",
     "text": [
      "Model: \"model\"\n",
      "__________________________________________________________________________________________________\n",
      "Layer (type)                    Output Shape         Param #     Connected to                     \n",
      "==================================================================================================\n",
      "quote (InputLayer)              [(None, None)]       0                                            \n",
      "__________________________________________________________________________________________________\n",
      "response (InputLayer)           [(None, None)]       0                                            \n",
      "__________________________________________________________________________________________________\n",
      "embedding (Embedding)           (None, None, 300)    8363700     quote[0][0]                      \n",
      "__________________________________________________________________________________________________\n",
      "embedding_1 (Embedding)         (None, None, 300)    8363700     response[0][0]                   \n",
      "__________________________________________________________________________________________________\n",
      "bidirectional (Bidirectional)   (None, None, 200)    320800      embedding[0][0]                  \n",
      "__________________________________________________________________________________________________\n",
      "bidirectional_1 (Bidirectional) (None, None, 200)    320800      embedding_1[0][0]                \n",
      "__________________________________________________________________________________________________\n",
      "lstm_1 (LSTM)                   (None, 100)          120400      bidirectional[0][0]              \n",
      "__________________________________________________________________________________________________\n",
      "lstm_3 (LSTM)                   (None, 100)          120400      bidirectional_1[0][0]            \n",
      "__________________________________________________________________________________________________\n",
      "concatenate (Concatenate)       (None, 200)          0           lstm_1[0][0]                     \n",
      "                                                                 lstm_3[0][0]                     \n",
      "__________________________________________________________________________________________________\n",
      "dense (Dense)                   (None, 200)          40200       concatenate[0][0]                \n",
      "__________________________________________________________________________________________________\n",
      "dropout (Dropout)               (None, 200)          0           dense[0][0]                      \n",
      "__________________________________________________________________________________________________\n",
      "argument_emotion (Dense)        (None, 2)            402         dropout[0][0]                    \n",
      "==================================================================================================\n",
      "Total params: 17,650,402\n",
      "Trainable params: 923,002\n",
      "Non-trainable params: 16,727,400\n",
      "__________________________________________________________________________________________________\n"
     ]
    }
   ],
   "source": [
    "model.summary()"
   ]
  },
  {
   "cell_type": "code",
   "execution_count": 13,
   "id": "66f0700f",
   "metadata": {
    "execution": {
     "iopub.execute_input": "2021-11-16T20:10:17.658274Z",
     "iopub.status.busy": "2021-11-16T20:10:17.657432Z",
     "iopub.status.idle": "2021-11-16T20:10:18.670265Z",
     "shell.execute_reply": "2021-11-16T20:10:18.669752Z"
    },
    "papermill": {
     "duration": 1.608434,
     "end_time": "2021-11-16T20:10:18.670394",
     "exception": false,
     "start_time": "2021-11-16T20:10:17.061960",
     "status": "completed"
    },
    "tags": []
   },
   "outputs": [
    {
     "data": {
      "image/png": "[encoded data removed]",
      "text/plain": [
       "<IPython.core.display.Image object>"
      ]
     },
     "execution_count": 13,
     "metadata": {},
     "output_type": "execute_result"
    }
   ],
   "source": [
    "keras.utils.plot_model(model, \"model.png\", show_shapes=True)"
   ]
  },
  {
   "cell_type": "code",
   "execution_count": 14,
   "id": "64fa4e69",
   "metadata": {
    "execution": {
     "iopub.execute_input": "2021-11-16T20:10:20.116878Z",
     "iopub.status.busy": "2021-11-16T20:10:20.115993Z",
     "iopub.status.idle": "2021-11-16T20:17:50.059394Z",
     "shell.execute_reply": "2021-11-16T20:17:50.060104Z"
    },
    "papermill": {
     "duration": 450.541864,
     "end_time": "2021-11-16T20:17:50.060488",
     "exception": false,
     "start_time": "2021-11-16T20:10:19.518624",
     "status": "completed"
    },
    "tags": []
   },
   "outputs": [
    {
     "name": "stderr",
     "output_type": "stream",
     "text": [
      "2021-11-16 20:10:20.185068: I tensorflow/compiler/mlir/mlir_graph_optimization_pass.cc:185] None of the MLIR Optimization Passes are enabled (registered 2)\n"
     ]
    },
    {
     "name": "stdout",
     "output_type": "stream",
     "text": [
      "Epoch 1/10\n"
     ]
    },
    {
     "name": "stderr",
     "output_type": "stream",
     "text": [
      "2021-11-16 20:10:27.904783: I tensorflow/stream_executor/cuda/cuda_dnn.cc:369] Loaded cuDNN version 8005\n"
     ]
    },
    {
     "name": "stdout",
     "output_type": "stream",
     "text": [
      "140/140 [==============================] - 49s 285ms/step - loss: 0.5689 - accuracy: 0.7000 - val_loss: 0.5194 - val_accuracy: 0.7470\n",
      "Epoch 2/10\n",
      "140/140 [==============================] - 38s 273ms/step - loss: 0.5037 - accuracy: 0.7561 - val_loss: 0.5292 - val_accuracy: 0.7289\n",
      "Epoch 3/10\n",
      "140/140 [==============================] - 39s 275ms/step - loss: 0.4820 - accuracy: 0.7678 - val_loss: 0.5198 - val_accuracy: 0.7550\n",
      "Epoch 4/10\n",
      "140/140 [==============================] - 39s 276ms/step - loss: 0.4557 - accuracy: 0.7810 - val_loss: 0.5290 - val_accuracy: 0.7490\n",
      "Epoch 5/10\n",
      "140/140 [==============================] - 39s 276ms/step - loss: 0.4249 - accuracy: 0.8002 - val_loss: 0.5246 - val_accuracy: 0.7470\n",
      "Epoch 6/10\n",
      "140/140 [==============================] - 39s 278ms/step - loss: 0.3937 - accuracy: 0.8140 - val_loss: 0.5415 - val_accuracy: 0.7550\n",
      "Epoch 7/10\n",
      "140/140 [==============================] - 39s 277ms/step - loss: 0.3479 - accuracy: 0.8435 - val_loss: 0.5676 - val_accuracy: 0.7631\n",
      "Epoch 8/10\n",
      "140/140 [==============================] - 38s 274ms/step - loss: 0.3071 - accuracy: 0.8630 - val_loss: 0.6633 - val_accuracy: 0.7169\n",
      "Epoch 9/10\n",
      "140/140 [==============================] - 39s 275ms/step - loss: 0.2450 - accuracy: 0.8914 - val_loss: 0.7400 - val_accuracy: 0.7209\n",
      "Epoch 10/10\n",
      "140/140 [==============================] - 38s 275ms/step - loss: 0.1740 - accuracy: 0.9247 - val_loss: 0.9601 - val_accuracy: 0.7349\n"
     ]
    },
    {
     "data": {
      "text/plain": [
       "<keras.callbacks.History at 0x7f4438082a50>"
      ]
     },
     "execution_count": 14,
     "metadata": {},
     "output_type": "execute_result"
    }
   ],
   "source": [
    "model.compile(\n",
    "    optimizer='adam',\n",
    "    loss=keras.losses.SparseCategoricalCrossentropy(),\n",
    "    metrics=['accuracy']\n",
    ")\n",
    "\n",
    "model.fit(\n",
    "    {'quote': X_train_quotes, 'response': X_train_responses},\n",
    "    {'argument_emotion': y_train},\n",
    "    epochs=10,\n",
    "    batch_size=32,\n",
    "    validation_split=0.1\n",
    ")"
   ]
  },
  {
   "cell_type": "code",
   "execution_count": 15,
   "id": "3a185a90",
   "metadata": {
    "execution": {
     "iopub.execute_input": "2021-11-16T20:17:52.618093Z",
     "iopub.status.busy": "2021-11-16T20:17:52.613091Z",
     "iopub.status.idle": "2021-11-16T20:17:59.236865Z",
     "shell.execute_reply": "2021-11-16T20:17:59.236318Z"
    },
    "papermill": {
     "duration": 7.905075,
     "end_time": "2021-11-16T20:17:59.237001",
     "exception": false,
     "start_time": "2021-11-16T20:17:51.331926",
     "status": "completed"
    },
    "tags": []
   },
   "outputs": [],
   "source": [
    "prediction = model.predict({'quote': X_test_quotes, 'response': X_test_responses})"
   ]
  },
  {
   "cell_type": "code",
   "execution_count": 16,
   "id": "1418f2c6",
   "metadata": {
    "execution": {
     "iopub.execute_input": "2021-11-16T20:18:01.451081Z",
     "iopub.status.busy": "2021-11-16T20:18:01.448071Z",
     "iopub.status.idle": "2021-11-16T20:18:01.461842Z",
     "shell.execute_reply": "2021-11-16T20:18:01.461396Z"
    },
    "papermill": {
     "duration": 1.269579,
     "end_time": "2021-11-16T20:18:01.461957",
     "exception": false,
     "start_time": "2021-11-16T20:18:00.192378",
     "status": "completed"
    },
    "tags": []
   },
   "outputs": [
    {
     "data": {
      "text/plain": [
       "array([0, 1, 0, 1, 1, 0, 1, 0, 1, 0, 1, 1, 0, 1, 0, 0, 1, 0, 0, 0, 0, 1,\n",
       "       1, 1, 0, 0, 0, 0, 0, 1, 1, 0, 0, 0, 1, 1, 0, 0, 0, 1, 0, 0, 0, 0,\n",
       "       0, 1, 1, 0, 1, 1, 0, 0, 0, 0, 0, 0, 0, 1, 0, 0, 0, 1, 1, 0, 0, 0,\n",
       "       1, 1, 0, 0, 0, 0, 0, 1, 1, 0, 1, 0, 0, 1, 0, 0, 0, 0, 0, 0, 0, 1,\n",
       "       0, 1, 0, 0, 1, 0, 1, 1, 0, 0, 0, 0, 0, 0, 0, 0, 1, 0, 0, 0, 1, 1,\n",
       "       1, 0, 1, 0, 0, 0, 0, 0, 1, 0, 0, 0, 0, 0, 0, 1, 0, 0, 1, 0, 1, 1,\n",
       "       1, 0, 1, 0, 0, 0, 0, 0, 0, 0, 1, 0, 1, 1, 1, 1, 0, 0, 1, 0, 0, 1,\n",
       "       0, 0, 1, 1, 0, 0, 0, 1, 0, 1, 1, 0, 1, 0, 0, 0, 1, 0, 1, 0, 0, 0,\n",
       "       1, 0, 1, 1, 0, 1, 0, 1, 0, 0, 1, 0, 0, 0, 0, 0, 0, 1, 0, 0, 0, 0,\n",
       "       0, 1, 0, 1, 0, 0, 0, 0, 1, 0, 0, 0, 0, 0, 1, 0, 1, 0, 1, 1, 0, 0,\n",
       "       0, 1, 1, 0, 0, 0, 0, 0, 0, 0, 0, 0, 0, 0, 0, 0, 0, 0, 0, 0, 1, 0,\n",
       "       0, 0, 0, 0, 0, 0, 1, 0, 1, 0, 1, 1, 0, 0, 0, 0, 0, 1, 1, 1, 0, 0,\n",
       "       0, 1, 1, 0, 0, 0, 0, 0, 0, 0, 0, 1, 0, 0, 1, 0, 0, 1, 0, 0, 1, 1,\n",
       "       0, 0, 0, 1, 0, 0, 1, 0, 0, 1, 1, 1, 0, 0, 0, 1, 0, 0, 0, 1, 1, 0,\n",
       "       0, 0, 1, 1, 1, 0, 0, 1, 0, 0, 0, 1, 0, 1, 1, 0, 0, 0, 0, 0, 0, 0,\n",
       "       0, 1, 0, 1, 0, 0, 1, 0, 0, 1, 0, 1, 0, 1, 0, 0, 0, 0, 0, 1, 0, 1,\n",
       "       0, 0, 1, 0, 1, 0, 0, 0, 1, 1, 0, 0, 0, 1, 1, 1, 0, 0, 1, 0, 1, 1,\n",
       "       0, 1, 0, 0, 0, 1, 1, 1, 0, 1, 0, 1, 1, 0, 0, 0, 1, 1, 1, 0, 1, 1,\n",
       "       0, 1, 1, 0, 1, 0, 0, 1, 0, 0, 0, 1, 0, 0, 1, 0, 0, 0, 1, 0, 0, 0,\n",
       "       0, 0, 1, 0, 0, 1, 1, 1, 0, 0, 0, 0, 1, 0, 0, 1, 0, 1, 0, 1, 1, 1,\n",
       "       0, 0, 0, 1, 1, 0, 1, 1, 1, 0, 0, 0, 0, 1, 1, 0, 0, 1, 1, 1, 0, 0,\n",
       "       1, 1, 0, 0, 1, 0, 0, 0, 0, 1, 0, 0, 1, 0, 0, 1, 1, 0, 0, 0, 0, 0,\n",
       "       0, 1, 1, 0, 1, 1, 0, 1, 1, 0, 0, 0, 0, 1, 0, 0, 1, 0, 1, 0, 1, 0,\n",
       "       1, 0, 1, 0, 0, 0, 0, 0, 0, 1, 0, 0, 1, 0, 0, 0, 1, 0, 0, 0, 0, 1,\n",
       "       1, 1, 0, 0, 1, 0, 0, 0, 1, 0, 1, 1, 0, 1, 0, 0, 0, 0, 1, 0, 0, 0,\n",
       "       0, 0, 0, 0, 0, 1, 1, 0, 1, 1, 0, 0, 0, 0, 1, 0, 0, 0, 0, 0, 0, 1,\n",
       "       0, 1, 1, 0, 0, 0, 0, 0, 1, 0, 1, 0, 1, 0, 0, 0, 0, 0, 0, 1, 1, 0,\n",
       "       1, 0, 1, 0, 1, 1, 1, 0, 0, 0, 0, 0, 0, 0, 0, 0, 0, 0, 0, 0, 0, 1,\n",
       "       1, 1, 0, 1, 0, 1, 1, 1, 0, 0, 1, 1, 0, 0, 1, 0, 0, 0, 1, 1, 0, 0,\n",
       "       1, 0, 0, 0, 0, 0, 1, 0, 0, 0, 0, 0, 0, 0, 1, 1, 0, 0, 0, 1, 1, 0,\n",
       "       0, 0, 0, 1, 0, 0, 1, 0, 0, 1, 0, 1, 0, 1, 0, 0, 1, 0, 0, 0, 0, 0,\n",
       "       0, 0, 0, 1, 1, 0, 1, 1, 0, 0, 1, 0, 0, 1, 0, 0, 0, 0, 0, 0, 0, 1,\n",
       "       1, 0, 1, 0, 1, 0, 0, 1, 0, 1, 1, 0, 0, 0, 1, 1, 1, 1, 1, 0, 1, 1,\n",
       "       0, 0, 0, 0, 0, 0, 0, 0, 0, 1, 1, 1, 0, 1, 0, 0, 0, 0, 0, 0, 0, 0,\n",
       "       0, 0, 1, 1, 0, 1, 0, 0, 1, 0, 0, 1, 0, 0, 1, 1, 0, 0, 1, 0, 0, 0,\n",
       "       1, 1, 0, 0, 1, 1, 0, 1, 0, 1, 0, 1, 1, 1, 0, 1, 0, 0, 0, 0, 1, 0,\n",
       "       0, 0, 1, 0, 1, 0, 0, 1, 1, 0, 0, 1, 1, 1, 0, 1, 0, 1, 1, 0, 1, 1,\n",
       "       0, 1, 1, 1, 0, 0, 0, 0, 1, 0, 1, 1, 1, 0, 1, 1, 1, 0, 0, 1, 0, 1,\n",
       "       0, 0, 1, 0, 0, 1, 0, 0, 0, 1, 1, 0, 0, 0, 1, 0, 0, 0, 0, 0, 0, 0,\n",
       "       0, 0, 0, 0, 1, 1, 0, 0, 0, 1, 0, 1, 1, 0, 0, 0, 0, 0, 1, 1])"
      ]
     },
     "execution_count": 16,
     "metadata": {},
     "output_type": "execute_result"
    }
   ],
   "source": [
    "re = []\n",
    "for predict in prediction:\n",
    "    label = np.argmax(predict)\n",
    "    re.append(label)\n",
    "    \n",
    "re = np.array(re)\n",
    "\n",
    "re"
   ]
  },
  {
   "cell_type": "code",
   "execution_count": 17,
   "id": "5293a196",
   "metadata": {
    "execution": {
     "iopub.execute_input": "2021-11-16T20:18:03.336658Z",
     "iopub.status.busy": "2021-11-16T20:18:03.335797Z",
     "iopub.status.idle": "2021-11-16T20:18:03.345098Z",
     "shell.execute_reply": "2021-11-16T20:18:03.344495Z"
    },
    "papermill": {
     "duration": 0.945329,
     "end_time": "2021-11-16T20:18:03.345249",
     "exception": false,
     "start_time": "2021-11-16T20:18:02.399920",
     "status": "completed"
    },
    "tags": []
   },
   "outputs": [
    {
     "name": "stdout",
     "output_type": "stream",
     "text": [
      "              precision    recall  f1-score   support\n",
      "\n",
      "           0       0.76      0.81      0.79       524\n",
      "           1       0.69      0.62      0.65       354\n",
      "\n",
      "    accuracy                           0.73       878\n",
      "   macro avg       0.73      0.72      0.72       878\n",
      "weighted avg       0.73      0.73      0.73       878\n",
      "\n"
     ]
    }
   ],
   "source": [
    "from sklearn.metrics import classification_report\n",
    "print(classification_report(y_test, re))"
   ]
  },
  {
   "cell_type": "code",
   "execution_count": null,
   "id": "efb17e8c",
   "metadata": {
    "papermill": {
     "duration": 0.962576,
     "end_time": "2021-11-16T20:18:05.239846",
     "exception": false,
     "start_time": "2021-11-16T20:18:04.277270",
     "status": "completed"
    },
    "tags": []
   },
   "outputs": [],
   "source": []
  },
  {
   "cell_type": "markdown",
   "id": "b7a48828",
   "metadata": {
    "papermill": {
     "duration": 0.931862,
     "end_time": "2021-11-16T20:18:07.107788",
     "exception": false,
     "start_time": "2021-11-16T20:18:06.175926",
     "status": "completed"
    },
    "tags": []
   },
   "source": [
    "## Model 2 (Input Response dan Response POS TAG dalam Arsitektur BiLSTM sederhana)"
   ]
  },
  {
   "cell_type": "code",
   "execution_count": 18,
   "id": "ad08fe64",
   "metadata": {
    "execution": {
     "iopub.execute_input": "2021-11-16T20:18:09.018149Z",
     "iopub.status.busy": "2021-11-16T20:18:09.017351Z",
     "iopub.status.idle": "2021-11-16T20:18:10.319152Z",
     "shell.execute_reply": "2021-11-16T20:18:10.319706Z"
    },
    "papermill": {
     "duration": 2.284262,
     "end_time": "2021-11-16T20:18:10.319876",
     "exception": false,
     "start_time": "2021-11-16T20:18:08.035614",
     "status": "completed"
    },
    "tags": []
   },
   "outputs": [],
   "source": [
    "quote_input    = keras.Input(shape=(None,), name='response')\n",
    "response_input = keras.Input(shape=(None,), name='response_tag')\n",
    "\n",
    "quote_feature    = layers.Embedding(glove_matrix.shape[0], input_length=1000, output_dim=glove_matrix.shape[1], weights=[glove_matrix], trainable=False)(quote_input)\n",
    "response_feature = layers.Embedding(glove_matrix.shape[0], input_length=1000, output_dim=glove_matrix.shape[1], weights=[glove_matrix], trainable=False)(response_input)\n",
    "\n",
    "quote_feature    = layers.Bidirectional(LSTM(100, return_sequences=True))(quote_feature)\n",
    "quote_feature    = layers.LSTM(100, return_sequences=False)(quote_feature)\n",
    "\n",
    "response_feature = layers.Bidirectional(LSTM(100, return_sequences=True))(response_feature)\n",
    "response_feature = layers.LSTM(100, return_sequences=False)(response_feature)\n",
    "\n",
    "double = layers.concatenate([quote_feature, response_feature])\n",
    "\n",
    "dense  = layers.Dense(200, activation='relu')(double)\n",
    "\n",
    "dense  = layers.Dropout(0.3)(dense)  \n",
    "\n",
    "pred   = layers.Dense(2, activation='softmax', name='argument_emotion')(dense)\n",
    "\n",
    "model2 = keras.Model(inputs=[quote_input, response_input], outputs=[pred],)"
   ]
  },
  {
   "cell_type": "code",
   "execution_count": 19,
   "id": "06c6f642",
   "metadata": {
    "execution": {
     "iopub.execute_input": "2021-11-16T20:18:12.508738Z",
     "iopub.status.busy": "2021-11-16T20:18:12.507847Z",
     "iopub.status.idle": "2021-11-16T20:25:42.128637Z",
     "shell.execute_reply": "2021-11-16T20:25:42.129083Z"
    },
    "papermill": {
     "duration": 450.838914,
     "end_time": "2021-11-16T20:25:42.129232",
     "exception": false,
     "start_time": "2021-11-16T20:18:11.290318",
     "status": "completed"
    },
    "tags": []
   },
   "outputs": [
    {
     "name": "stdout",
     "output_type": "stream",
     "text": [
      "Epoch 1/10\n",
      "140/140 [==============================] - 47s 289ms/step - loss: 0.5827 - accuracy: 0.6945 - val_loss: 0.6141 - val_accuracy: 0.6606\n",
      "Epoch 2/10\n",
      "140/140 [==============================] - 38s 275ms/step - loss: 0.5111 - accuracy: 0.7586 - val_loss: 0.5166 - val_accuracy: 0.7530\n",
      "Epoch 3/10\n",
      "140/140 [==============================] - 38s 274ms/step - loss: 0.4815 - accuracy: 0.7713 - val_loss: 0.5252 - val_accuracy: 0.7349\n",
      "Epoch 4/10\n",
      "140/140 [==============================] - 38s 274ms/step - loss: 0.4564 - accuracy: 0.7852 - val_loss: 0.4997 - val_accuracy: 0.7530\n",
      "Epoch 5/10\n",
      "140/140 [==============================] - 38s 274ms/step - loss: 0.4237 - accuracy: 0.7991 - val_loss: 0.5193 - val_accuracy: 0.7249\n",
      "Epoch 6/10\n",
      "140/140 [==============================] - 38s 273ms/step - loss: 0.4098 - accuracy: 0.8051 - val_loss: 0.5116 - val_accuracy: 0.7610\n",
      "Epoch 7/10\n",
      "140/140 [==============================] - 38s 274ms/step - loss: 0.3500 - accuracy: 0.8424 - val_loss: 0.5725 - val_accuracy: 0.7269\n",
      "Epoch 8/10\n",
      "140/140 [==============================] - 39s 276ms/step - loss: 0.3278 - accuracy: 0.8500 - val_loss: 0.6010 - val_accuracy: 0.7249\n",
      "Epoch 9/10\n",
      "140/140 [==============================] - 39s 275ms/step - loss: 0.2648 - accuracy: 0.8851 - val_loss: 0.6399 - val_accuracy: 0.7550\n",
      "Epoch 10/10\n",
      "140/140 [==============================] - 39s 276ms/step - loss: 0.1880 - accuracy: 0.9240 - val_loss: 0.9976 - val_accuracy: 0.7149\n"
     ]
    },
    {
     "data": {
      "text/plain": [
       "<keras.callbacks.History at 0x7f3fc2b5a550>"
      ]
     },
     "execution_count": 19,
     "metadata": {},
     "output_type": "execute_result"
    }
   ],
   "source": [
    "model2.compile(\n",
    "    optimizer='adam',\n",
    "    loss=keras.losses.SparseCategoricalCrossentropy(),\n",
    "    metrics=['accuracy']\n",
    ")\n",
    "\n",
    "model2.fit(\n",
    "    {'response': X_train_responses, 'response_tag': X_train_responses_tag},\n",
    "    {'argument_emotion': y_train},\n",
    "    epochs=10,\n",
    "    batch_size=32,\n",
    "    validation_split=0.1\n",
    ")"
   ]
  },
  {
   "cell_type": "code",
   "execution_count": 20,
   "id": "55d48000",
   "metadata": {
    "execution": {
     "iopub.execute_input": "2021-11-16T20:25:45.058024Z",
     "iopub.status.busy": "2021-11-16T20:25:45.056849Z",
     "iopub.status.idle": "2021-11-16T20:25:51.608571Z",
     "shell.execute_reply": "2021-11-16T20:25:51.609342Z"
    },
    "papermill": {
     "duration": 7.885974,
     "end_time": "2021-11-16T20:25:51.609549",
     "exception": false,
     "start_time": "2021-11-16T20:25:43.723575",
     "status": "completed"
    },
    "tags": []
   },
   "outputs": [],
   "source": [
    "prediction = model2.predict({'response': X_test_responses, 'response_tag': X_test_responses_tag})"
   ]
  },
  {
   "cell_type": "code",
   "execution_count": 21,
   "id": "c70f09c3",
   "metadata": {
    "execution": {
     "iopub.execute_input": "2021-11-16T20:25:54.544444Z",
     "iopub.status.busy": "2021-11-16T20:25:54.543741Z",
     "iopub.status.idle": "2021-11-16T20:25:54.546750Z",
     "shell.execute_reply": "2021-11-16T20:25:54.547167Z"
    },
    "papermill": {
     "duration": 1.590609,
     "end_time": "2021-11-16T20:25:54.547318",
     "exception": false,
     "start_time": "2021-11-16T20:25:52.956709",
     "status": "completed"
    },
    "tags": []
   },
   "outputs": [
    {
     "data": {
      "text/plain": [
       "array([0, 1, 0, 1, 1, 0, 1, 0, 1, 0, 1, 1, 0, 1, 0, 0, 1, 0, 0, 0, 0, 0,\n",
       "       0, 0, 0, 0, 0, 0, 0, 1, 1, 0, 0, 0, 1, 1, 0, 0, 0, 1, 0, 0, 0, 0,\n",
       "       0, 1, 1, 0, 1, 1, 0, 0, 0, 0, 0, 0, 0, 0, 0, 1, 0, 1, 1, 0, 0, 0,\n",
       "       1, 1, 0, 0, 0, 0, 0, 0, 1, 0, 1, 0, 0, 1, 0, 0, 0, 0, 0, 0, 0, 1,\n",
       "       0, 1, 0, 0, 1, 0, 0, 1, 0, 0, 1, 0, 0, 1, 1, 0, 1, 0, 0, 1, 1, 0,\n",
       "       1, 0, 0, 0, 0, 0, 0, 0, 1, 0, 1, 0, 0, 0, 0, 0, 0, 0, 1, 0, 1, 0,\n",
       "       1, 1, 1, 1, 0, 0, 0, 1, 0, 0, 0, 0, 0, 1, 0, 1, 0, 0, 1, 0, 0, 1,\n",
       "       0, 0, 0, 1, 0, 0, 0, 1, 0, 1, 1, 0, 1, 0, 0, 0, 1, 0, 1, 0, 0, 0,\n",
       "       1, 0, 1, 1, 0, 1, 0, 1, 0, 0, 0, 0, 0, 0, 0, 0, 0, 1, 0, 0, 0, 0,\n",
       "       0, 1, 0, 0, 0, 1, 0, 0, 1, 0, 0, 1, 0, 0, 0, 0, 1, 0, 0, 1, 0, 0,\n",
       "       0, 1, 0, 0, 0, 1, 0, 0, 0, 0, 0, 0, 0, 0, 0, 1, 0, 0, 0, 0, 1, 0,\n",
       "       0, 0, 0, 0, 0, 0, 0, 0, 1, 0, 1, 1, 0, 1, 0, 0, 0, 1, 0, 0, 0, 0,\n",
       "       0, 1, 1, 0, 0, 0, 0, 0, 0, 0, 0, 1, 0, 0, 0, 0, 0, 1, 0, 0, 1, 1,\n",
       "       0, 0, 0, 1, 0, 0, 1, 0, 0, 1, 1, 1, 0, 0, 0, 1, 0, 0, 0, 1, 0, 0,\n",
       "       0, 0, 0, 1, 1, 0, 0, 0, 0, 0, 0, 1, 0, 1, 1, 0, 0, 0, 0, 0, 0, 0,\n",
       "       0, 0, 0, 1, 0, 0, 1, 0, 0, 1, 0, 1, 0, 0, 0, 0, 0, 0, 0, 0, 0, 1,\n",
       "       0, 0, 1, 1, 1, 0, 0, 0, 0, 1, 0, 1, 0, 1, 1, 0, 0, 0, 0, 0, 0, 1,\n",
       "       0, 0, 1, 0, 0, 0, 1, 1, 0, 0, 0, 0, 0, 0, 0, 0, 0, 0, 0, 0, 1, 0,\n",
       "       0, 1, 1, 0, 1, 0, 0, 0, 0, 0, 0, 1, 0, 0, 1, 0, 1, 0, 1, 0, 0, 0,\n",
       "       0, 0, 1, 0, 0, 1, 0, 1, 0, 0, 0, 0, 1, 0, 0, 1, 0, 1, 0, 1, 1, 0,\n",
       "       0, 0, 0, 1, 0, 0, 1, 1, 1, 0, 0, 0, 0, 1, 1, 0, 0, 0, 1, 0, 1, 0,\n",
       "       1, 1, 0, 0, 1, 0, 0, 0, 0, 0, 0, 0, 0, 1, 0, 1, 1, 0, 0, 0, 0, 0,\n",
       "       0, 1, 1, 0, 0, 0, 0, 1, 1, 0, 0, 0, 0, 0, 0, 0, 0, 0, 1, 0, 1, 0,\n",
       "       1, 0, 1, 0, 0, 0, 0, 0, 0, 1, 0, 1, 1, 0, 1, 0, 1, 0, 0, 0, 0, 1,\n",
       "       1, 1, 0, 0, 0, 0, 0, 0, 1, 0, 1, 1, 0, 1, 1, 0, 0, 0, 0, 0, 0, 0,\n",
       "       0, 0, 0, 0, 0, 1, 1, 0, 1, 1, 0, 0, 0, 0, 1, 0, 0, 0, 1, 1, 0, 1,\n",
       "       0, 0, 0, 0, 0, 0, 0, 0, 1, 1, 1, 0, 1, 0, 0, 0, 0, 0, 0, 1, 1, 1,\n",
       "       1, 0, 1, 0, 1, 0, 1, 1, 0, 0, 0, 0, 0, 0, 0, 0, 0, 0, 0, 0, 0, 1,\n",
       "       1, 1, 0, 1, 0, 1, 1, 1, 0, 0, 0, 1, 0, 0, 1, 0, 0, 0, 1, 1, 0, 0,\n",
       "       1, 1, 0, 1, 0, 0, 1, 0, 0, 0, 0, 0, 0, 0, 1, 0, 1, 0, 0, 1, 1, 0,\n",
       "       0, 1, 0, 1, 0, 0, 1, 1, 1, 0, 0, 0, 0, 1, 0, 0, 1, 0, 0, 0, 0, 0,\n",
       "       0, 0, 0, 1, 1, 0, 1, 0, 0, 0, 1, 0, 0, 1, 1, 0, 0, 0, 0, 0, 0, 1,\n",
       "       0, 0, 1, 0, 1, 0, 0, 1, 0, 1, 1, 0, 0, 0, 1, 1, 1, 1, 1, 0, 0, 0,\n",
       "       0, 0, 0, 0, 0, 0, 0, 0, 0, 0, 0, 1, 0, 1, 0, 0, 1, 1, 0, 1, 0, 0,\n",
       "       0, 0, 1, 1, 0, 1, 0, 0, 0, 0, 0, 1, 1, 0, 0, 0, 0, 0, 1, 0, 0, 0,\n",
       "       1, 1, 0, 0, 1, 1, 0, 0, 0, 1, 0, 0, 0, 1, 0, 1, 0, 0, 0, 1, 0, 0,\n",
       "       0, 0, 1, 0, 1, 0, 0, 1, 0, 0, 0, 1, 1, 1, 0, 1, 0, 1, 1, 0, 1, 0,\n",
       "       0, 1, 1, 0, 0, 0, 1, 0, 1, 0, 1, 1, 1, 0, 1, 1, 1, 0, 0, 1, 0, 1,\n",
       "       0, 0, 1, 0, 0, 0, 0, 0, 0, 0, 0, 1, 0, 0, 1, 0, 0, 0, 0, 0, 0, 0,\n",
       "       0, 1, 0, 0, 1, 0, 0, 1, 0, 1, 0, 0, 1, 1, 0, 0, 0, 0, 1, 0])"
      ]
     },
     "execution_count": 21,
     "metadata": {},
     "output_type": "execute_result"
    }
   ],
   "source": [
    "re = []\n",
    "for predict in prediction:\n",
    "    label = np.argmax(predict)\n",
    "    re.append(label)\n",
    "    \n",
    "re = np.array(re)\n",
    "\n",
    "re"
   ]
  },
  {
   "cell_type": "code",
   "execution_count": 22,
   "id": "5b76eed7",
   "metadata": {
    "execution": {
     "iopub.execute_input": "2021-11-16T20:25:57.641987Z",
     "iopub.status.busy": "2021-11-16T20:25:57.641067Z",
     "iopub.status.idle": "2021-11-16T20:25:57.650724Z",
     "shell.execute_reply": "2021-11-16T20:25:57.650002Z"
    },
    "papermill": {
     "duration": 1.507442,
     "end_time": "2021-11-16T20:25:57.650903",
     "exception": false,
     "start_time": "2021-11-16T20:25:56.143461",
     "status": "completed"
    },
    "tags": []
   },
   "outputs": [
    {
     "name": "stdout",
     "output_type": "stream",
     "text": [
      "              precision    recall  f1-score   support\n",
      "\n",
      "           0       0.75      0.86      0.80       524\n",
      "           1       0.74      0.58      0.65       354\n",
      "\n",
      "    accuracy                           0.75       878\n",
      "   macro avg       0.74      0.72      0.72       878\n",
      "weighted avg       0.74      0.75      0.74       878\n",
      "\n"
     ]
    }
   ],
   "source": [
    "from sklearn.metrics import classification_report\n",
    "print(classification_report(y_test, re))"
   ]
  }
 ],
 "metadata": {
  "kernelspec": {
   "display_name": "Python 3",
   "language": "python",
   "name": "python3"
  },
  "language_info": {
   "codemirror_mode": {
    "name": "ipython",
    "version": 3
   },
   "file_extension": ".py",
   "mimetype": "text/x-python",
   "name": "python",
   "nbconvert_exporter": "python",
   "pygments_lexer": "ipython3",
   "version": "3.7.10"
  },
  "papermill": {
   "default_parameters": {},
   "duration": 1195.266197,
   "end_time": "2021-11-16T20:26:01.778844",
   "environment_variables": {},
   "exception": null,
   "input_path": "__notebook__.ipynb",
   "output_path": "__notebook__.ipynb",
   "parameters": {},
   "start_time": "2021-11-16T20:06:06.512647",
   "version": "2.3.3"
  }
 },
 "nbformat": 4,
 "nbformat_minor": 5
}
